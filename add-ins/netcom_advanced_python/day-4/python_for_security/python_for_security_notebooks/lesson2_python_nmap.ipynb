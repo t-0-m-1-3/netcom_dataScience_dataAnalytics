{
 "cells": [
  {
   "cell_type": "markdown",
   "metadata": {},
   "source": [
    "Preceding example provides a quick script for performing a TCP connect scan. This might prove limited as we may require the ability to perform additional scans\n",
    "\n",
    "as `ACK`, `RST`, `FIN`, or `SYN-ACK` scans provided by the Nmap toolkit\n",
    "\n",
    "**Nmap**, delivers a rather extensive amount of functionality. This begs the question, why not just use Nmap? Enter the true beauty of Python. While Fyodor Vaskovich wrote Nmap and its associated scripts in the C and LUA programming\n",
    "\n",
    "Nmap produces `XML` based output. Steve Milner and Brian Bustin wrote a Python library that parses this `XML` based output. This provides us with the ability to utilize the full functionality of Nmap within a Python script. Before starting, you must install Python-Nmap"
   ]
  },
  {
   "cell_type": "markdown",
   "metadata": {},
   "source": [
    "a few other types of scans. While we lack the tools to craft packets with TCP options\n",
    "\n",
    "1. **TCP SYN SCAN** - A reset packet indicates the port is closed while a SYN/ACK indicates the port is open\n",
    "\n",
    "2. **TCP NULL SCAN** — A null scan sets the TCP flag header to zero. If a RST is received, it indicates the port is closed\n",
    "3. *TCP FIN SCAN—A TCP FIN Scan sends the FIN to tear down an active TCP connection and wait for a graceful termination. If a RST is received, it indicates the port is closed\n",
    "\n",
    "3. TCP XMAS SCAN—An XMAS Scan sets the PSH, FIN, and URG TCP Flags"
   ]
  },
  {
   "cell_type": "code",
   "execution_count": null,
   "metadata": {},
   "outputs": [],
   "source": [
    "# import Nmap into existing scripts and perform Nmap scans inline with your Python scripts\n",
    "import nmap\n",
    "import optparse"
   ]
  },
  {
   "cell_type": "code",
   "execution_count": null,
   "metadata": {},
   "outputs": [],
   "source": [
    "def nmapScan(tgtHost, tgtPort):\n",
    "    # Creating a PortScanner() class object will allow us the capability to perform a scan on that object\n",
    "    nmScan = nmap.PortSCanner()\n",
    "    # PortScanner class has a function scan() that takes a list of targets and ports as input and performs a basic Nmap scan\n",
    "    nmscan.scan(tgtHost, tgtPort)\n",
    "    # we can now index the object by target hosts and ports and print the status of the port\n",
    "    state=nmScan[tgtHost]['tcp'][int(tgtPort)]['state']\n",
    "    print(\"[*] \" + tgtHost + \" tcp/\" + tgtPort + \" \"+state)"
   ]
  },
  {
   "cell_type": "code",
   "execution_count": null,
   "metadata": {},
   "outputs": [],
   "source": [
    "def main():\n",
    "    parser = optparse.OptionParse('usage %prog '+\\\n",
    "                                 '-H <target host> -p <target port>')\n",
    "    parser.add_option('-H', dest='tgtHost', type='string',\\\n",
    "                     help='specify target host')\n",
    "    parser.add_option('-p', dest='tgtPort', type='string',\\\n",
    "                     help='specify target port[s] separated by a comma')\n",
    "    \n",
    "    (options,args) = parser.parse_args()\n",
    "    \n",
    "    tgtHost = options.tgtHost\n",
    "    tgtPorts = str(options.tgPort).split(',')"
   ]
  },
  {
   "cell_type": "markdown",
   "metadata": {},
   "source": [
    "\n",
    "`python nmapScanner.py -H <enter an IP Address> -p <port numbers>`"
   ]
  }
 ],
 "metadata": {
  "kernelspec": {
   "display_name": "Python 2",
   "language": "python",
   "name": "python2"
  },
  "language_info": {
   "codemirror_mode": {
    "name": "ipython",
    "version": 3
   },
   "file_extension": ".py",
   "mimetype": "text/x-python",
   "name": "python",
   "nbconvert_exporter": "python",
   "pygments_lexer": "ipython3",
   "version": "3.6.5"
  }
 },
 "nbformat": 4,
 "nbformat_minor": 2
}
