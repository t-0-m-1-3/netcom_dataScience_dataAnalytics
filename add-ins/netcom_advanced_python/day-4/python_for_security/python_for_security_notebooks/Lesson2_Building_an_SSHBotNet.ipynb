{
 "cells": [
  {
   "cell_type": "markdown",
   "metadata": {},
   "source": [
    "# Building an SSH BotNet:\n",
    "----\n",
    "In 1988, RSH provided an excellent (although not very secure) method for a system administrator to remotely connect to a machine and manage it by performing a series of terminal commands on the host\n",
    "\n",
    "Secure Shell (SSH) protocol has since replaced RSH by combining RSH with a public-key cryptographic scheme\n",
    "\n",
    "this does very little to stop the same attack vector by forcing out common user names and passwords\n",
    "SSH Worms have proven to be very successful and common attack vectors\n",
    "\n",
    "the attacker has attempted to connect to the machine using the accounts ucla, oxford, and matrix. These are interesting choices\n",
    "\n",
    "`cat /var/log/auth.log` \n",
    "\n",
    "Lets implement our own automated SSH Worm that brute forces user credentials against a target\n",
    "our script must be able to wait and match for an expected output before sending further input commands\n"
   ]
  },
  {
   "cell_type": "markdown",
   "metadata": {},
   "source": [
    "to connect to our SSH machine at IP Address, 127.0.0.1,`ssh root@127.0.0.1` the application first asks us to confirm the RSA key fingerprint. In this case, we must answer, “yes” before executing our command `uname –v` to determine the kernel version running on our target\n",
    "\n",
    "`Pexpect` has the ability to interact with programs, watch for expected outputs, and then respond based on expected outputs\n",
    "\n",
    "an excellent tool of choice for automating the process of brute forcing SSH user credentials\n"
   ]
  },
  {
   "cell_type": "code",
   "execution_count": 6,
   "metadata": {},
   "outputs": [],
   "source": [
    "PROMPT = ['#', '>>>', ',', '\\$']\n"
   ]
  },
  {
   "cell_type": "code",
   "execution_count": 11,
   "metadata": {},
   "outputs": [
    {
     "ename": "SyntaxError",
     "evalue": "Missing parentheses in call to 'print'. Did you mean print(child.before)? (<ipython-input-11-c4e811d73e51>, line 10)",
     "output_type": "error",
     "traceback": [
      "\u001b[0;36m  File \u001b[0;32m\"<ipython-input-11-c4e811d73e51>\"\u001b[0;36m, line \u001b[0;32m10\u001b[0m\n\u001b[0;31m    print child.before\u001b[0m\n\u001b[0m              ^\u001b[0m\n\u001b[0;31mSyntaxError\u001b[0m\u001b[0;31m:\u001b[0m Missing parentheses in call to 'print'. Did you mean print(child.before)?\n"
     ]
    }
   ],
   "source": [
    "# use a separate function command() to send commands to the SSH session. The function command() takes an SSH session and command string as input\n",
    "\n",
    "# After catching the command prompt, it prints this output from the SSH session.\n",
    "\n",
    "\n",
    "# we now have a script that can connect and control the SSH session interactively\n",
    "def send_command(child,cmd):\n",
    "    child.sendline(cmd)\n",
    "    child.expect(PROMPT)\n",
    "    print child.before"
   ]
  },
  {
   "cell_type": "markdown",
   "metadata": {},
   "source": [
    "Examine the function `connect()`. This function takes a username, hostname, and password and returns an SSH connection the pexpect library, it then waits for an expected output\n"
   ]
  },
  {
   "cell_type": "code",
   "execution_count": 10,
   "metadata": {},
   "outputs": [
    {
     "ename": "SyntaxError",
     "evalue": "Missing parentheses in call to 'print'. Did you mean print('[-] Error Connecting')? (<ipython-input-10-12ace762596b>, line 15)",
     "output_type": "error",
     "traceback": [
      "\u001b[0;36m  File \u001b[0;32m\"<ipython-input-10-12ace762596b>\"\u001b[0;36m, line \u001b[0;32m15\u001b[0m\n\u001b[0;31m    print '[-] Error Connecting'\u001b[0m\n\u001b[0m                               ^\u001b[0m\n\u001b[0;31mSyntaxError\u001b[0m\u001b[0;31m:\u001b[0m Missing parentheses in call to 'print'. Did you mean print('[-] Error Connecting')?\n"
     ]
    }
   ],
   "source": [
    "# Three possible expected outputs can occur—a timeout, a message indicating that the host has a new public key, \n",
    "# or a password prompt\n",
    "\n",
    "# timeout occurs, then the session.expect() method returns to zero\n",
    "\n",
    "#If the child.expect() method catches the ssh_newkey message, it returns a 1. \n",
    "# This forces the function to send a message ‘yes'\n",
    "\n",
    "def connect(user, host, password):\n",
    "    ssh_newkey = 'Are you sure you want to continue connecting'\n",
    "    connStr = 'ssh ' + user + '@' + host\n",
    "    child = pexpect.spawn(connStr)\n",
    "    ret = child.expect([pexpect.TIMEOUT, ssh_newkey, '[P|p}assword:'])\n",
    "    if ret == 0:\n",
    "        print '[-] Error Connecting'\n",
    "        return\n",
    "    if ret == 1:\n",
    "        child.sendline('yes')\n",
    "        ret = child.expect([pexpect.TIMEOUT, '[P|p]assword:'])\n",
    "    if ret == 0: \n",
    "        print '[-] Error Connecting'\n",
    "        return\n",
    "    child.sendline(password)\n",
    "    child.expect(PROMPT)\n",
    "    return child"
   ]
  },
  {
   "cell_type": "markdown",
   "metadata": {},
   "source": [
    "\n",
    "While we ran the simple command to displaying the hashed password for the root user from /etc/shadow file, we could use the tool to something more devious like using wget\n",
    "\n"
   ]
  },
  {
   "cell_type": "code",
   "execution_count": null,
   "metadata": {},
   "outputs": [],
   "source": []
  }
 ],
 "metadata": {
  "kernelspec": {
   "display_name": "Python 2",
   "language": "python",
   "name": "python2"
  },
  "language_info": {
   "codemirror_mode": {
    "name": "ipython",
    "version": 3
   },
   "file_extension": ".py",
   "mimetype": "text/x-python",
   "name": "python",
   "nbconvert_exporter": "python",
   "pygments_lexer": "ipython3",
   "version": "3.6.5"
  }
 },
 "nbformat": 4,
 "nbformat_minor": 2
}
