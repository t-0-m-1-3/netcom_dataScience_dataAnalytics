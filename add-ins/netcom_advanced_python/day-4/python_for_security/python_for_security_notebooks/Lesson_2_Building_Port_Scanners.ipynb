{
 "cells": [
  {
   "cell_type": "markdown",
   "metadata": {},
   "source": [
    "# Building A Port Scanner:\n",
    "----\n",
    "Reconnaisance severs as the first step \n",
    "Attackers must discover where the vulberabilities are in a system as well as systeom admins needs to know how to harden their systems down\n",
    "\n",
    "We will build a small recon script that scans a target host for an open TCP port.\n",
    "\n",
    "To do that we need to build sockets. \n",
    "\n",
    "Python provides access to BSD socet interfaces. THese provide an application-programming interface to allow coders to write applicatinost in order to perform network communications between hosts. \n",
    "\n",
    "A series of socket API functions can create functions to bind, linsten, connect, or send traffic on TCP/IP sockets.\n",
    "\n",
    "The majority of the internet is accessible applciatinos on TCP. \n",
    "\n",
    "In a taret organization, the web server might reside on TCP port 80, the email server on TCP port 25, and file transfer on 21. \n",
    "\n",
    "An attacker must know both the Internet Protocol Address and the TCP port assosciated with the service. \n",
    "\n",
    "Attackers routinely perform a port scan in the opening stages of an attack. One type of port scan involves sending TCP SYN packets to a series of common ports and waiting for the ACK response to signal an iopen port. \n",
    "\n",
    "TCP Connect Scan uses the full three way handshake to determine the availablility of the service or port. "
   ]
  },
  {
   "cell_type": "markdown",
   "metadata": {},
   "source": [
    "## TCP FUll Connect Scan\n",
    "----\n",
    "Start by writing a TCP Port Scanner that will utilize a TCP full connect scan to identify hosts. Python has as a BSD socket API that will provide the functions necessary to make the connection.\n",
    "you can view this with the command\n",
    "`help('socket')`\n",
    "\n",
    "Specificially: `socket.gethostbyname(hostname)`, `socket.gethostbyaddr(ip addr)`, `socket.create_connection()`\n",
    "\n",
    "To better understand how the Port Scanner works, break the script up into 5 main components or steps\n",
    "\n",
    "1. Input a hostname and a commaa separated list of ports to scan\n",
    "2. Translate each name into the IPV4 Address\n",
    "3. Connect to each target address and port\n",
    "4. determine the specific service by sending data and reading the banner\n",
    "5. print the response\n",
    "\n",
    "`optparse` offers us the ability to script in command line tools options we want our user to run. \n",
    "\n",
    "`help('optparse')`"
   ]
  },
  {
   "cell_type": "code",
   "execution_count": 3,
   "metadata": {},
   "outputs": [
    {
     "ename": "IndentationError",
     "evalue": "unexpected indent (<ipython-input-3-a4213aa318be>, line 2)",
     "output_type": "error",
     "traceback": [
      "\u001b[0;36m  File \u001b[0;32m\"<ipython-input-3-a4213aa318be>\"\u001b[0;36m, line \u001b[0;32m2\u001b[0m\n\u001b[0;31m    parser = optparse.OptionParser('usage %prog '+                                  '-H <target host> -p <target port>')\u001b[0m\n\u001b[0m    ^\u001b[0m\n\u001b[0;31mIndentationError\u001b[0m\u001b[0;31m:\u001b[0m unexpected indent\n"
     ]
    }
   ],
   "source": [
    "import optparse\n",
    "    parser = optparse.OptionParser('usage %prog '+\\\n",
    "                                  '-H <target host> -p <target port>')\n",
    "    parser.add_option('-H', dest='tgtHost', type='string', help='specify target host')\n",
    "    parser.add_option('-p', dest='tgtPort', type='string', help='specifiy target port[s] separated by comma')\n",
    "    \n",
    "    (options, args) = parser.parse_args()\n",
    "    tgtHost = options.tgtHost\n",
    "    tgtPort = option.tgtPort\n",
    "    \n",
    "    if (tgtHost == None) | (tgtPort == None):\n",
    "        print parser.usgage\n",
    "        exit(0)"
   ]
  },
  {
   "cell_type": "markdown",
   "metadata": {},
   "source": [
    "now that we have the command line options, define two functions to perform the tasks we need\n",
    "`connScan` and `portScan`\n",
    "\n",
    "**portScan()**: WIll take in an IP address and try to resolve it's friendly name using the gethostbyname(), then it will print the hostname or the IP address and then enumerate through each individual port attempting to connect using the `connScan()`.\n",
    "\n",
    "**connScan()**: takes in two arguments `tgtHost` and `tgtPort`. It will attempt to create a coonection using these arguments\n",
    "\n",
    "\n",
    "----\n"
   ]
  },
  {
   "cell_type": "code",
   "execution_count": 4,
   "metadata": {},
   "outputs": [],
   "source": [
    "import optparse\n",
    "from socket import *\n",
    "\n",
    "def connScan(tgtHost, tgtPort):\n",
    "    try:\n",
    "        connSkt = socket(AF_INET, SOCK_STREAM)\n",
    "        connSkt.connect((tgtHost, tgtPort))\n",
    "        print('[+] %d/ tcp open'% tgtPort)\n",
    "        connskt.close()\n",
    "    except:\n",
    "        print( '[-] %d/tcp closed'% tgtPort)\n",
    "def portScan(tgtHost, tgtPorts):\n",
    "    try:\n",
    "        tgtIP = gethostbyname(tgtHost)\n",
    "    except:\n",
    "        print(\"[-] Cannot resolve '%s': Unkown host\"%tgtHost)\n",
    "        return\n",
    "    try:\n",
    "        tgtName = gethostbyaddr(tgtIP)\n",
    "        print('\\n[+] Scan Results for: ' + tgtName[0])\n",
    "    except: \n",
    "        print('\\n[+] Scan Results for: ' + tgtIP)\n",
    "        setdefaulttimeout(1)\n",
    "        for tgtPort in tgtPorts:\n",
    "            print('Scanning port ' + tgtPort)\n",
    "            connScan(tgtHost, int(tgtPort))"
   ]
  },
  {
   "cell_type": "markdown",
   "metadata": {},
   "source": [
    "## Application Banner Grabbing\n",
    "----\n",
    "In order to grab the application banner from out target host, we must first insert additional code into the `connScan()`\n",
    "\n",
    "After we find an open port we send a string of data to the port to see what the response is. This is to help us narrow down the range of things that might be running on it. "
   ]
  },
  {
   "cell_type": "code",
   "execution_count": null,
   "metadata": {},
   "outputs": [],
   "source": []
  },
  {
   "cell_type": "code",
   "execution_count": 8,
   "metadata": {},
   "outputs": [],
   "source": [
    "# Try running this is in the command line with flags for IP and ports\n",
    "\n",
    "import optparse\n",
    "import socket \n",
    "from socket import *\n",
    "\n",
    "def connScan(tgtHost, tgtPort):\n",
    "    try:\n",
    "        connSkt = socket(AF_INET, SOCKET_STREAM)\n",
    "        connSkt.connect((tgtHost, tgtPort))\n",
    "        connSkt.send('ViolentPython\\r\\n')\n",
    "        results = connSkt.recv(100)\n",
    "        print('[+] %d/tcp open'% tgtPort)\n",
    "        print('[+] ' + str(results))\n",
    "        connSkt.close()\n",
    "    except:\n",
    "        print('[-]%d/tcp close'% tgtPort)\n",
    "def portScan(tgtHost, tgtPorts):\n",
    "    try:\n",
    "        tgtIP = gethostbyname(tgtHost)\n",
    "    except:\n",
    "        print(\"[-] Cannot resolve '%s' : Unknown host\" %tgtHost)\n",
    "        return\n",
    "    try:\n",
    "        tgtName = gethostbyaddr(tgtIP)\n",
    "        print('\\n[+] Scan Results for: ' + tgtName[0])\n",
    "    except:\n",
    "        print('\\n[+] Scan Results for: ' + tgtIP)\n",
    "    setdefaulttimeout(1)\n",
    "    for tgtPort in tgtPorts:\n",
    "        print('Scanning Port ' + tgtPort)\n",
    "        connScan(tgtHost, int(tgtPort))\n",
    "def main():\n",
    "    parser = optparse.OptionParser(\"usage%prog \" +\\\n",
    "                                  \"-H <targethost> -p <target port>\")\n",
    "    parser.add_option('-H', dest='tgtHost', type='string', help='specify target host')\n",
    "    parser.add_option('-p', dest='tgtPort', type='string', help='specifiy target port[s] separated by comma')\n",
    "    \n",
    "    (options, args) = parser.parse_args()\n",
    "    tgtHost = options.tgtHost\n",
    "    tgtPorts = str(options.tgtPort).split(', ')\n",
    "    if (tgtHost == None ) | (tgtPorts[0] == None):\n",
    "        print('[-] Youe must specify a target host and port[s].')\n",
    "        exit(0)\n",
    "    portScan(tgtHost, tgtPorts)\n",
    "    if __name__ == '__main__':\n",
    "        main()"
   ]
  },
  {
   "cell_type": "markdown",
   "metadata": {},
   "source": [
    "## Threading the Scan to allow for multiple execution\n",
    "----\n",
    "Depending on the timeout variable for a sokcket a scan of each socket can take a bit. \n",
    "This can quickly add up\n",
    "\n",
    "Threading provdes a way to utilize simultaneous execution. To use this we add in the iteration loop of portScan()\n"
   ]
  },
  {
   "cell_type": "code",
   "execution_count": null,
   "metadata": {},
   "outputs": [],
   "source": [
    "import optparse\n",
    "import socket \n",
    "from socket import *\n",
    "\n",
    "def connScan(tgtHost, tgtPort):\n",
    "    try:\n",
    "        connSkt = socket(AF_INET, SOCKET_STREAM)\n",
    "        connSkt.connect((tgtHost, tgtPort))\n",
    "        connSkt.send('ViolentPython\\r\\n')\n",
    "        results = connSkt.recv(100)\n",
    "        print('[+] %d/tcp open'% tgtPort)\n",
    "        print('[+] ' + str(results))\n",
    "        connSkt.close()\n",
    "    except:\n",
    "        print('[-]%d/tcp close'% tgtPort)\n",
    "def portScan(tgtHost, tgtPorts):\n",
    "    try:\n",
    "        tgtIP = gethostbyname(tgtHost)\n",
    "    except:\n",
    "        print(\"[-] Cannot resolve '%s' : Unknown host\" %tgtHost)\n",
    "        return\n",
    "    try:\n",
    "        tgtName = gethostbyaddr(tgtIP)\n",
    "        print('\\n[+] Scan Results for: ' + tgtName[0])\n",
    "    except:\n",
    "        print('\\n[+] Scan Results for: ' + tgtIP)\n",
    "    setdefaulttimeout(1)\n",
    "    for tgtPort in tgtPorts:\n",
    "        t = Thread(target=connScan, arg=(tgtHost, int(tgtPort)))\n",
    "        t.start()\n",
    "        print('Scanning Port ' + tgtPort)\n",
    "        connScan(tgtHost, int(tgtPort))\n",
    "def main():\n",
    "    parser = optparse.OptionParser(\"usage%prog \" +\\\n",
    "                                  \"-H <targethost> -p <target port>\")\n",
    "    parser.add_option('-H', dest='tgtHost', type='string', help='specify target host')\n",
    "    parser.add_option('-p', dest='tgtPort', type='string', help='specifiy target port[s] separated by comma')\n",
    "    \n",
    "    (options, args) = parser.parse_args()\n",
    "    tgtHost = options.tgtHost\n",
    "    tgtPorts = str(options.tgtPort).split(', ')\n",
    "    if (tgtHost == None ) | (tgtPorts[0] == None):\n",
    "        print('[-] Youe must specify a target host and port[s].')\n",
    "        exit(0)\n",
    "    portScan(tgtHost, tgtPorts)\n",
    "    if __name__ == '__main__':\n",
    "        main()\n",
    "\"\"\"\"\"\"\n",
    "Try running this is the command line with flags for IP and ports\n",
    "\"\"\"\"\"\""
   ]
  },
  {
   "cell_type": "markdown",
   "metadata": {},
   "source": [
    " Since connScan will print output the the screen we risk missing some output and put printing to the screen on lockdown until the data execution is done\n",
    "\n",
    "Prior to printing the output `screenLock.Acquire()` is used. \n",
    "the *semaphore* will grant access to process and will print to the screen\n",
    "if locked it will wait until threading is in control of the semaphore.\n",
    "This will make sure only one thread is in control at a time "
   ]
  },
  {
   "cell_type": "code",
   "execution_count": null,
   "metadata": {},
   "outputs": [],
   "source": [
    "ScreenLock = Semaphore(value=1)\n",
    "def connScan(tgtHost, tgtPort):\n",
    "    try:\n",
    "        connSkt = socket(AF_INET, SOCK_STREAM)\n",
    "        connSkt.connect((tgtHost, tgtPort))\n",
    "        connSkt.send('ViolentPython\\r\\n')\n",
    "        results = connSkt.recv(100)\n",
    "        screenLock.acquire()\n",
    "        print '[+]%d/tcp open'% tgtPort\n",
    "        print '[+] ' + str(results)\n",
    "    except:\n",
    "        screenLock.acquire()\n",
    "        print '[-]%d/tcp closed'% tgtPort\n",
    "    finally:\n",
    "        screenLock.release()\n",
    "        connSkt.close()"
   ]
  },
  {
   "cell_type": "markdown",
   "metadata": {},
   "source": [
    "## Integrating NMap Port Scanner\n",
    "----\n"
   ]
  },
  {
   "cell_type": "markdown",
   "metadata": {},
   "source": []
  }
 ],
 "metadata": {
  "kernelspec": {
   "display_name": "Python 2",
   "language": "python",
   "name": "python2"
  },
  "language_info": {
   "codemirror_mode": {
    "name": "ipython",
    "version": 3
   },
   "file_extension": ".py",
   "mimetype": "text/x-python",
   "name": "python",
   "nbconvert_exporter": "python",
   "pygments_lexer": "ipython3",
   "version": "3.6.5"
  }
 },
 "nbformat": 4,
 "nbformat_minor": 2
}
