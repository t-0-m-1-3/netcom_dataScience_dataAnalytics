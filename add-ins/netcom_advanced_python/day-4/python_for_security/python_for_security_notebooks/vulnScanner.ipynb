{
 "cells": [
  {
   "cell_type": "code",
   "execution_count": 2,
   "metadata": {},
   "outputs": [],
   "source": [
    "from IPython.display import YouTubeVideo"
   ]
  },
  {
   "cell_type": "code",
   "execution_count": null,
   "metadata": {},
   "outputs": [],
   "source": [
    "# !/usr/bin/python"
   ]
  },
  {
   "cell_type": "code",
   "execution_count": 5,
   "metadata": {},
   "outputs": [],
   "source": [
    "import socket\n",
    "import os\n",
    "import sys"
   ]
  },
  {
   "cell_type": "code",
   "execution_count": null,
   "metadata": {},
   "outputs": [],
   "source": [
    "def retBanner(ip, port):\n",
    "    try:\n",
    "        socket.setdefaulttimeout(2)\n",
    "        s = socket.socket()\n",
    "        s.connect((ip,port))\n",
    "        banner = s.recv(1024)\n",
    "        return banner\n",
    "    except:\n",
    "        return"
   ]
  },
  {
   "cell_type": "code",
   "execution_count": null,
   "metadata": {},
   "outputs": [],
   "source": [
    "def checkVulns(banner, filename):\n",
    "    \n",
    "    f = open(filename, 'r')\n",
    "    for line in f.readlines():\n",
    "        if line.strip('\\n') in banner:\n",
    "            print '[+] Server is Vulnerable: ' + banner.strip('\\n')\n"
   ]
  },
  {
   "cell_type": "code",
   "execution_count": null,
   "metadata": {},
   "outputs": [],
   "source": [
    "def main():\n",
    "    \n",
    "    if len(sys.argv) == 2\n",
    "        filename = sys.argv[1]\n",
    "        if not os.path.isfile(filename):\n",
    "            print '[-]' + filename + ' access denied.'\n",
    "            exit(0)\n",
    "            \n",
    "    else:\n",
    "        print '[-] Usage: ' + str(sys.argv[0]) + ' <vuln filename>'\n",
    "        exit(0)\n",
    "        \n",
    "    portList = [21,22,25,80,110,443]\n",
    "    for x in range(147, 150):\n",
    "        ip = '192.168.95.' + str(x)\n",
    "        for port in portList:\n",
    "            banner = retBanner(ip, port)\n",
    "            if banner:\n",
    "                print '[+] ' + ip + ' : ' + banner\n",
    "                checkVulns(banner, filename)\n"
   ]
  },
  {
   "cell_type": "code",
   "execution_count": null,
   "metadata": {},
   "outputs": [],
   "source": [
    "if __name__ == '__main__':\n",
    "    main()"
   ]
  }
 ],
 "metadata": {
  "kernelspec": {
   "display_name": "Python 2",
   "language": "python",
   "name": "python2"
  },
  "language_info": {
   "codemirror_mode": {
    "name": "ipython",
    "version": 2
   },
   "file_extension": ".py",
   "mimetype": "text/x-python",
   "name": "python",
   "nbconvert_exporter": "python",
   "pygments_lexer": "ipython2",
   "version": "2.7.12"
  }
 },
 "nbformat": 4,
 "nbformat_minor": 2
}
