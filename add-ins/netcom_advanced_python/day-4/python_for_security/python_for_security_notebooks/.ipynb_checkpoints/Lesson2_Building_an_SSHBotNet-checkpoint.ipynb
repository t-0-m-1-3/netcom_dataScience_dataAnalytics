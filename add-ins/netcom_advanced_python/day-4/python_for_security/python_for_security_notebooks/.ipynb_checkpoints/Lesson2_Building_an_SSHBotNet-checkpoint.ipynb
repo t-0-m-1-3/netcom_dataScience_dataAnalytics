{
 "cells": [
  {
   "cell_type": "markdown",
   "metadata": {},
   "source": [
    "# Building an SSH BotNet:\n",
    "----\n",
    "In 1988, RSH provided an excellent (although not very secure) method for a system administrator to remotely connect to a machine and manage it by performing a series of terminal commands on the host\n",
    "\n",
    "Secure Shell (SSH) protocol has since replaced RSH by combining RSH with a public-key cryptographic scheme\n",
    "\n",
    "this does very little to stop the same attack vector by forcing out common user names and passwords\n",
    "SSH Worms have proven to be very successful and common attack vectors\n",
    "the attacker has attempted to connect to the machine using the accounts ucla, oxford, and matrix. These are interesting choices\n",
    "\n",
    "Lets implement our own automated SSH Worm that brute forces user credentials against a target\n",
    "our script must be able to wait and match for an expected output before sending further input commands\n"
   ]
  },
  {
   "cell_type": "markdown",
   "metadata": {},
   "source": [
    "to connect to our SSH machine at IP Address, 127.0.0.1, the application first asks us to confirm the RSA key fingerprint. In this case, we must answer, “yes” before\n",
    "execute our command uname –v to determine the kernel version running on our target\n",
    "\n",
    "\n",
    "Pexpect has the ability to interact with programs, watch for expected outputs, and then respond based on expected outputs\n"
   ]
  },
  {
   "cell_type": "code",
   "execution_count": null,
   "metadata": {},
   "outputs": [],
   "source": []
  },
  {
   "cell_type": "code",
   "execution_count": null,
   "metadata": {},
   "outputs": [],
   "source": []
  }
 ],
 "metadata": {
  "kernelspec": {
   "display_name": "Python 2",
   "language": "python",
   "name": "python2"
  },
  "language_info": {
   "codemirror_mode": {
    "name": "ipython",
    "version": 3
   },
   "file_extension": ".py",
   "mimetype": "text/x-python",
   "name": "python",
   "nbconvert_exporter": "python",
   "pygments_lexer": "ipython3",
   "version": "3.6.5"
  }
 },
 "nbformat": 4,
 "nbformat_minor": 2
}
