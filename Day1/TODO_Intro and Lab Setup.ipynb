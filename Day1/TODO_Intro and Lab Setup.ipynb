{
 "cells": [
  {
   "cell_type": "markdown",
   "metadata": {},
   "source": [
    "### `whoami`\n",
    "---\n",
    "* Nerd\n"
   ]
  },
  {
   "cell_type": "markdown",
   "metadata": {},
   "source": [
    "### Lab Setup\n",
    "----\n",
    "Python 3.x\n",
    "Scipy\n",
    "numpy\n",
    "pandas\n",
    "matplotlib\n",
    "\n",
    "#### pretty much we need\n",
    "\n",
    "\n",
    "`jupyter`\n"
   ]
  },
  {
   "cell_type": "markdown",
   "metadata": {},
   "source": [
    "#### Installing Jupyter and Anaconda\n",
    "----\n",
    "1. Do I have python?\n",
    "    ? No ?\n",
    "    Install Python3.x from www.python.org\n",
    "\n",
    "\n",
    "2. I have python!\n",
    "    ? Do I have jupyter ?\n",
    "    Install it from https://jupyter.org/install\n"
   ]
  },
  {
   "cell_type": "code",
   "execution_count": null,
   "metadata": {},
   "outputs": [],
   "source": [
    "# See Anaconda installed packages\n",
    "!conda list\n",
    "\n",
    "# List environments\n",
    "!conda info -e\n",
    "\n",
    "# Create Python 3 environment\n",
    "!conda create -n py3k python=3 anaconda\n",
    "\n",
    "# Activate Python 3 environment\n",
    "!source activate py3k\n",
    "\n",
    "# Deactivate Python 3 environment\n",
    "!source deactivate\n",
    "\n",
    "# Update Anaconda\n",
    "!conda update conda\n",
    "\n",
    "# Update a package with Anaconda\n",
    "!conda update ipython\n",
    "\n",
    "# Update a package\n",
    "!conda update scipy\n",
    "\n",
    "# Update all packages\n",
    "!conda update all\n",
    "\n",
    "# Install specific version of a package\n",
    "!conda install scipy=0.12.0\n",
    "\n",
    "# Cleanup: Conda can accumulate a lot of disk space\n",
    "# because it doesn’t remove old unused packages\n",
    "!conda clean -p\n",
    "\n",
    "# Cleanup tarballs which are kept for caching purposes\n",
    "!conda clean -t\n",
    "\n"
   ]
  },
  {
   "cell_type": "code",
   "execution_count": null,
   "metadata": {},
   "outputs": [],
   "source": []
  }
 ],
 "metadata": {
  "kernelspec": {
   "display_name": "Python 3",
   "language": "python",
   "name": "python3"
  },
  "language_info": {
   "codemirror_mode": {
    "name": "ipython",
    "version": 3
   },
   "file_extension": ".py",
   "mimetype": "text/x-python",
   "name": "python",
   "nbconvert_exporter": "python",
   "pygments_lexer": "ipython3",
   "version": "3.7.2+"
  }
 },
 "nbformat": 4,
 "nbformat_minor": 2
}
