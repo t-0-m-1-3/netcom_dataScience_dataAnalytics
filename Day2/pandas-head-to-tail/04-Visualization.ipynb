{
 "cells": [
  {
   "cell_type": "markdown",
   "metadata": {},
   "source": [
    "# Visualization\n",
    "\n",
    "We have a *ton* of options for viz in python.\n",
    "I'm going to focus on matplotlib and seaborn, because they work well for the types of analyses I usually do.\n",
    "At the end, I'll mention Altair, which is new but has a really good design."
   ]
  },
  {
   "cell_type": "code",
   "execution_count": null,
   "metadata": {},
   "outputs": [],
   "source": [
    "import pandas as pd\n",
    "import numpy as np\n",
    "import seaborn as sns\n",
    "import matplotlib.pyplot as plt\n",
    "plt.style.use('default')"
   ]
  },
  {
   "cell_type": "code",
   "execution_count": null,
   "metadata": {},
   "outputs": [],
   "source": [
    "%matplotlib inline"
   ]
  },
  {
   "cell_type": "markdown",
   "metadata": {},
   "source": [
    "To start with, we'll fetch some data from yahoo using the `pandas_datareader` package."
   ]
  },
  {
   "cell_type": "code",
   "execution_count": null,
   "metadata": {},
   "outputs": [],
   "source": [
    "stocks = pd.read_csv(\"data/stocks.csv\", index_col=\"Date\", parse_dates=['Date'])\n",
    "stocks.head()"
   ]
  },
  {
   "cell_type": "markdown",
   "metadata": {},
   "source": [
    "## Matplotlib\n",
    "\n",
    "- foundation for seaborn and pandas plotting\n",
    "- full control over every detail"
   ]
  },
  {
   "cell_type": "markdown",
   "metadata": {},
   "source": [
    "We won't say too much about matplotlib directly.\n",
    "It's a large library with several different levels of API.\n",
    "Additionally, both seaborn and pandas use matplotlib internally so you can consider these two higher-level, domain specific APIs built on top of matplotlib proper.\n",
    "This works well, as you can use the higher-level library most of the time, but you still have the full power and control of matplotlib when you need it.\n",
    "\n",
    "People familiar with matplotlib will have used the `axes.plot` method; It takes an `x`, `y` and a bunch of keyword arguments."
   ]
  },
  {
   "cell_type": "code",
   "execution_count": null,
   "metadata": {},
   "outputs": [],
   "source": [
    "fig, ax = plt.subplots(figsize=(12, 6))\n",
    "ax.plot(stocks.Open);"
   ]
  },
  {
   "cell_type": "markdown",
   "metadata": {},
   "source": [
    "Notice that matplotlib is now pandas-aware.\n",
    "`ax.plot` knows that when it's passed a `Series`, like `stocks.Open`, then `stocks.index` makes for a good `x` axis.\n",
    "\n",
    "All the `axes` plot methods `.plot, .bar, .scatter`, etc. take an optional *data* argument. When passed, you can use strings as the `x` and `y`. matplotlib will use these strings as keys for `data.__getitem__`. This means `data` can be DataFrames, dictionaries, even H5Py files."
   ]
  },
  {
   "cell_type": "code",
   "execution_count": null,
   "metadata": {},
   "outputs": [],
   "source": [
    "fig, ax = plt.subplots(figsize=(12, 6))\n",
    "ax.plot('Open', data=stocks)\n",
    "plt.legend();"
   ]
  },
  {
   "cell_type": "markdown",
   "metadata": {},
   "source": [
    "Matplotlib's strength (and weakness) is it's customizability. With enough work, you can make essentially any figure you want."
   ]
  },
  {
   "cell_type": "code",
   "execution_count": null,
   "metadata": {},
   "outputs": [],
   "source": [
    "import warnings\n",
    "\n",
    "\n",
    "with warnings.catch_warnings():\n",
    "    warnings.simplefilter('ignore')\n",
    "    import statsmodels.tsa.api as smt\n",
    "\n",
    "from pandas.tseries import converter\n",
    "\n",
    "converter.register()"
   ]
  },
  {
   "cell_type": "code",
   "execution_count": null,
   "metadata": {},
   "outputs": [],
   "source": [
    "ϵ, t = smt.filters.hpfilter(stocks.Close, lamb=129600*30)"
   ]
  },
  {
   "cell_type": "code",
   "execution_count": null,
   "metadata": {},
   "outputs": [],
   "source": [
    "fig, ax = plt.subplots(figsize=(12, 6))\n",
    "line, = ax.plot(t, linewidth=2, label=\"Trend\")"
   ]
  },
  {
   "cell_type": "code",
   "execution_count": null,
   "metadata": {},
   "outputs": [],
   "source": [
    "start = pd.Timestamp('2007-12-01')\n",
    "end = pd.Timestamp('2009-06-01')\n",
    "\n",
    "fig, ax = plt.subplots(figsize=(12, 6))\n",
    "ax.plot(t, linewidth=2, label=\"Trend\")\n",
    "\n",
    "ax.fill_between(t.index, t - ϵ, t + ϵ, alpha=.15, color='b')\n",
    "\n",
    "ylim = ax.get_ylim()\n",
    "ax.fill_between([start, end], *ylim, color='k', alpha=.2)\n",
    "ax.set_ylim(*ylim)\n",
    "\n",
    "ax.annotate(\"Housing Bubble\", (pd.Timestamp(\"2006-01\"),  255),\n",
    "            fontsize=12, color='red')\n",
    "ax.annotate(\"Recession\", (pd.Timestamp(\"2008-01\"),  255),\n",
    "            fontsize=12, color='red')\n",
    "\n",
    "ax.legend()\n",
    "sns.despine()"
   ]
  },
  {
   "cell_type": "code",
   "execution_count": null,
   "metadata": {},
   "outputs": [],
   "source": [
    "fig, (ax1, ax2) = plt.subplots(nrows=2, figsize=(8, 4), sharex=True)\n",
    "\n",
    "ax1.plot(\"Open\", data=stocks, color='red')\n",
    "ax2.plot(\"Volume\", data=stocks)\n",
    "ax2.fill_between(stocks.index, 0, \"Volume\", data=stocks, alpha=.25)\n",
    "ax2.set_ylim(0)\n",
    "ax1.legend()\n",
    "\n",
    "plt.tight_layout()"
   ]
  },
  {
   "cell_type": "markdown",
   "metadata": {},
   "source": [
    "## Pandas Plotting\n",
    "\n",
    "> Usually convenient\n",
    "\n",
    "- Previously, nicer aesthetics (not since matplotlib 2.0)\n",
    "- Nicer labeling (but matplotlib is better now)\n",
    "- Easier (though less flexible) subplotting"
   ]
  },
  {
   "cell_type": "code",
   "execution_count": null,
   "metadata": {},
   "outputs": [],
   "source": [
    "stocks[['Open', 'High', \"Low\", \"Close\"]].plot(subplots=True, figsize=(8, 8));"
   ]
  },
  {
   "cell_type": "code",
   "execution_count": null,
   "metadata": {},
   "outputs": [],
   "source": [
    "stocks.Volume.plot.area();"
   ]
  },
  {
   "cell_type": "markdown",
   "metadata": {},
   "source": [
    "I'd recommend pandas builtin plotting for when you need a quick visualization.\n",
    "For simple customizations, you can typically followup a pandas plot with an `ax.set`:"
   ]
  },
  {
   "cell_type": "code",
   "execution_count": null,
   "metadata": {},
   "outputs": [],
   "source": [
    "ax = stocks.Close.plot.density()\n",
    "ax.set(xlabel=\"Close\", title=\"Closing Price (density)\", ylim=.0001);"
   ]
  },
  {
   "cell_type": "markdown",
   "metadata": {},
   "source": [
    "For more elaborate customizations, it can make sense to just start with matplotlib."
   ]
  },
  {
   "cell_type": "markdown",
   "metadata": {},
   "source": [
    "## [Seaborn](http://seaborn.pydata.org/)\n",
    "\n",
    "> Seaborn provides a high-level interface for drawing attractive statistical graphics.\n",
    "\n",
    "- Statistical aggregations (`countplot`, bootstrapped standard errors, `regplot`)\n",
    "- Easier distribution plotting\n",
    "- Easier faceting by variable"
   ]
  },
  {
   "cell_type": "markdown",
   "metadata": {},
   "source": [
    "It is *not* a replacement of matplotlib. Rather, it provides a nice API for\n",
    "many common statistical methods. Some of the distinguishing features are\n",
    "\n",
    "We'll make an update of [this notebook](https://gist.github.com/mwaskom/8224591) from Michael Waskom, the author of seaborn, which explores the titanic dataset:"
   ]
  },
  {
   "cell_type": "markdown",
   "metadata": {},
   "source": [
    "## Titanic Dataset\n",
    "\n",
    "- Survived\n",
    "- Class\n",
    "- Sex\n",
    "- Age\n",
    "- Embarked\n",
    "- Man / Woman / Child\n",
    "- Deck"
   ]
  },
  {
   "cell_type": "code",
   "execution_count": null,
   "metadata": {},
   "outputs": [],
   "source": [
    "t = sns.load_dataset('titanic')\n",
    "t['class'] = t['class'].cat.as_ordered()\n",
    "t.head()"
   ]
  },
  {
   "cell_type": "code",
   "execution_count": null,
   "metadata": {},
   "outputs": [],
   "source": [
    "t.info()"
   ]
  },
  {
   "cell_type": "code",
   "execution_count": null,
   "metadata": {},
   "outputs": [],
   "source": [
    "pal = dict(man=\"#4682B4\", woman=\"#CD5C5C\", child=\"#2E8B57\", male=\"#6495ED\",\n",
    "           female=\"#F08080\")\n",
    "\n",
    "with sns.color_palette('viridis', n_colors=3) as v:\n",
    "    pal.update(**dict(zip(['First', 'Second', 'Third'], v.as_hex())))\n",
    "\n",
    "sns.set(context='talk', style='white')"
   ]
  },
  {
   "cell_type": "markdown",
   "metadata": {},
   "source": [
    "## Exploratory Analysis\n",
    "\n",
    "1. Who were the passengers?\n",
    "2. Who survived?"
   ]
  },
  {
   "cell_type": "markdown",
   "metadata": {},
   "source": [
    "## Who were the passengers?\n",
    "\n",
    "Explore them across different dimensions; We'll start with *categorical* data like sex or class.\n",
    "\n",
    "What's the count of passengers by sex?"
   ]
  },
  {
   "cell_type": "code",
   "execution_count": null,
   "metadata": {},
   "outputs": [],
   "source": [
    "import warnings"
   ]
  },
  {
   "cell_type": "code",
   "execution_count": null,
   "metadata": {},
   "outputs": [],
   "source": [
    "# This has been fixed in seaborn master\n",
    "warnings.filterwarnings('ignore', message=\"remove_na\",\n",
    "                        category=FutureWarning)\n",
    "\n",
    "sns.countplot(x=\"sex\", data=t, palette=pal);"
   ]
  },
  {
   "cell_type": "markdown",
   "metadata": {},
   "source": [
    "By class?"
   ]
  },
  {
   "cell_type": "code",
   "execution_count": null,
   "metadata": {},
   "outputs": [],
   "source": [
    "sns.countplot(x=\"class\", data=t, palette=pal);"
   ]
  },
  {
   "cell_type": "markdown",
   "metadata": {},
   "source": [
    "By \"who\" (man, woman, or child)?"
   ]
  },
  {
   "cell_type": "code",
   "execution_count": null,
   "metadata": {},
   "outputs": [],
   "source": [
    "sns.countplot(\"who\", data=t, palette=pal)\n",
    "sns.despine()"
   ]
  },
  {
   "cell_type": "markdown",
   "metadata": {},
   "source": [
    "Seaborn is built up of a heirarchy of convenience functions and methods.\n",
    "For instance, `countplot` is essentially a specialized version of `factorplot` where `kind` is set to count."
   ]
  },
  {
   "cell_type": "code",
   "execution_count": null,
   "metadata": {},
   "outputs": [],
   "source": [
    "sns.factorplot(x=\"class\", data=t, kind=\"count\", hue=\"sex\",\n",
    "               palette=pal, size=7);"
   ]
  },
  {
   "cell_type": "markdown",
   "metadata": {},
   "source": [
    "Most seaborn functions have the same API. You pass the requeired arguments (`x`, `y`, etc. depending on the plot), a `data` argument.\n",
    "Include additional arguments like `hue`, `col`, etc. as needed.\n",
    "\n",
    "Why have both `countplot` and `factorplot(..., kind='count')`? The specialized versions like `countplot` are handy when working with `Grid`s, which we'll see later on."
   ]
  },
  {
   "cell_type": "markdown",
   "metadata": {},
   "source": [
    "<div class=\"alert alert-success\" data-title=\"Embarked by class\">\n",
    "  <h1><i class=\"fa fa-tasks\" aria-hidden=\"true\"></i> Exercise: Embarked by class</h1>\n",
    "</div>\n",
    "\n",
    "<p>Make a `factorplot` with the counts of `embarked`, with the `hue` split\n",
    "by `class`.</p>"
   ]
  },
  {
   "cell_type": "code",
   "execution_count": null,
   "metadata": {},
   "outputs": [],
   "source": [
    "# Your solution\n"
   ]
  },
  {
   "cell_type": "code",
   "execution_count": null,
   "metadata": {},
   "outputs": [],
   "source": [
    "%load solutions/visualize_00.py\n"
   ]
  },
  {
   "cell_type": "markdown",
   "metadata": {},
   "source": [
    "<div class=\"alert alert-success\" data-title=\"Age by class\">\n",
    "  <h1><i class=\"fa fa-tasks\" aria-hidden=\"true\"></i> Exercise: Age by class</h1>\n",
    "</div>\n",
    "<p>\n",
    "Make a pointplot of `age` by `class`. Look at the `kind` parameter to `sns.factorplot`.</p>"
   ]
  },
  {
   "cell_type": "code",
   "execution_count": null,
   "metadata": {},
   "outputs": [],
   "source": [
    "# Your solution here\n"
   ]
  },
  {
   "cell_type": "code",
   "execution_count": null,
   "metadata": {},
   "outputs": [],
   "source": [
    "%load solutions/visualize_01.py"
   ]
  },
  {
   "cell_type": "markdown",
   "metadata": {},
   "source": [
    "## Distributions\n",
    "\n",
    "Let's moving to plotting *quantitative* data.\n",
    "We'll do this while introducting a new abstraction from seaborn, the `Grid` (`Grid`s work with either quantitative or qualitative data)."
   ]
  },
  {
   "cell_type": "markdown",
   "metadata": {},
   "source": [
    "## Grids\n",
    "\n",
    "You initalize a `Grid` with all the agruments needed to layout the grid that\n",
    "the data will be plotted on:\n",
    "\n",
    "- `data`: DataFrame\n",
    "- `row` : variable to facet rows by\n",
    "- `col` : variable to facet columns by\n",
    "- `hue` : variable to split colors by"
   ]
  },
  {
   "cell_type": "markdown",
   "metadata": {},
   "source": [
    "There are several kinds of `Grid`s in seaborn; we'll start with the `FacetGrid`."
   ]
  },
  {
   "cell_type": "code",
   "execution_count": null,
   "metadata": {},
   "outputs": [],
   "source": [
    "g = sns.FacetGrid(t, hue=\"sex\", aspect=2.5, palette=pal)"
   ]
  },
  {
   "cell_type": "markdown",
   "metadata": {},
   "source": [
    "We haven't actually done any plotting really.\n",
    "Just the necessary work to layout the axes.\n",
    "\n",
    "To actually plot something, `map` plotting functions over the `FacetGrid`. The arguments to `g.map` are passed through to the underlying plot method like `sns.kdeplot`."
   ]
  },
  {
   "cell_type": "code",
   "execution_count": null,
   "metadata": {},
   "outputs": [],
   "source": [
    "g = sns.FacetGrid(t, hue=\"sex\", aspect=2.5, palette=pal)\n",
    "g.map(sns.kdeplot, \"age\", shade=True)\n",
    "g.set(xlim=(0, 80), ylim=0)\n",
    "g.add_legend();"
   ]
  },
  {
   "cell_type": "markdown",
   "metadata": {},
   "source": [
    "To show how the faceting works, pass `row` or `column` when setting up the `FacetGrid`:"
   ]
  },
  {
   "cell_type": "code",
   "execution_count": null,
   "metadata": {},
   "outputs": [],
   "source": [
    "g = sns.FacetGrid(t, row=\"sex\", hue=\"sex\", aspect=2.5, palette=pal)\n",
    "g.map(sns.kdeplot, \"age\", shade=True)\n",
    "g.set(xlim=(0, 80), ylim=0)\n",
    "g.add_legend();"
   ]
  },
  {
   "cell_type": "code",
   "execution_count": null,
   "metadata": {},
   "outputs": [],
   "source": [
    "g = sns.FacetGrid(t, hue=\"who\", aspect=2.5, palette=pal)\n",
    "g.map(sns.kdeplot, \"age\", shade=True)\n",
    "g.set(xlim=(0, 80), ylim=0)\n",
    "g.add_legend();"
   ]
  },
  {
   "cell_type": "code",
   "execution_count": null,
   "metadata": {},
   "outputs": [],
   "source": [
    "g = sns.FacetGrid(t, hue=\"class\", aspect=3, palette=\"YlGn_r\")\n",
    "g.map(sns.kdeplot, \"age\", shade=True)\n",
    "g.set(xlim=(0, 80), ylim=0)\n",
    "g.add_legend();"
   ]
  },
  {
   "cell_type": "markdown",
   "metadata": {},
   "source": [
    "You can get quite complicated results, without much additional work."
   ]
  },
  {
   "cell_type": "code",
   "execution_count": null,
   "metadata": {},
   "outputs": [],
   "source": [
    "g = (sns.FacetGrid(t, col=\"sex\", row=\"class\", size=2.5, aspect=2.5,\n",
    "                   palette=pal, hue=\"sex\")\n",
    "     .map(sns.kdeplot, \"age\", shade=True)\n",
    "     .map(sns.rugplot, \"age\")\n",
    "     .set(xlim=(0, 80), ylim=0));"
   ]
  },
  {
   "cell_type": "markdown",
   "metadata": {},
   "source": [
    "This is a great asset when exploring a new dataset."
   ]
  },
  {
   "cell_type": "code",
   "execution_count": null,
   "metadata": {
    "scrolled": false
   },
   "outputs": [],
   "source": [
    "sns.factorplot('deck', data=t, palette='PuBu_d',\n",
    "               kind=\"count\");"
   ]
  },
  {
   "cell_type": "markdown",
   "metadata": {},
   "source": [
    "Your data isn't always in perfect shape to be plotted, so you'll be mixing in data manipulations with actual plotting:"
   ]
  },
  {
   "cell_type": "code",
   "execution_count": null,
   "metadata": {},
   "outputs": [],
   "source": [
    "sns.violinplot(\"class\", \"fare\", data=t, orient=\"v\",\n",
    "               palette=\"YlGn\")\n",
    "sns.despine(left=True)"
   ]
  },
  {
   "cell_type": "markdown",
   "metadata": {},
   "source": [
    "<div class=\"alert alert-success\" data-title=\"Trimming\">\n",
    "  <h1><i class=\"fa fa-tasks\" aria-hidden=\"true\"></i> Exercise: Trimming</h1>\n",
    "</div>\n",
    "<p>\n",
    "Create a new column in `t` called `fare_` that topcodes `fare` to be no more than `3 * t.fare.median()`. That is, anything higher than 3x the median should just be set to 3x the median.</p>\n",
    "\n",
    "Hint: you can use `np.where` to simulate an `if x then y else z` on arrays of data."
   ]
  },
  {
   "cell_type": "code",
   "execution_count": null,
   "metadata": {},
   "outputs": [],
   "source": [
    "# Your solution here\n"
   ]
  },
  {
   "cell_type": "code",
   "execution_count": null,
   "metadata": {},
   "outputs": [],
   "source": [
    "%load solutions/visualize_02a.py"
   ]
  },
  {
   "cell_type": "markdown",
   "metadata": {},
   "source": [
    "Now make the violinplot on fares that we tried above:"
   ]
  },
  {
   "cell_type": "code",
   "execution_count": null,
   "metadata": {},
   "outputs": [],
   "source": [
    "# Your solution here\n"
   ]
  },
  {
   "cell_type": "code",
   "execution_count": null,
   "metadata": {},
   "outputs": [],
   "source": [
    "%load solutions/visualize_02b.py\n"
   ]
  },
  {
   "cell_type": "markdown",
   "metadata": {},
   "source": [
    "Seaborn makes it easy to split by an additional variable, like `sex`."
   ]
  },
  {
   "cell_type": "code",
   "execution_count": null,
   "metadata": {},
   "outputs": [],
   "source": [
    "sns.violinplot(\"class\", \"fare_\", data=t, orient=\"v\",\n",
    "               palette=\"YlGn\", hue='sex', split=True)\n",
    "sns.despine(left=True)\n",
    "plt.ylim(0);\n"
   ]
  },
  {
   "cell_type": "markdown",
   "metadata": {},
   "source": [
    "## Plotting Relationships\n",
    "\n",
    "We've seen summary statistics (like countplot), univariate distributions, and basic relationships between one variable and a categorical variable.\n",
    "\n",
    "Seaborn also provides tools for visualizng bivariate relationships between quantitative variables."
   ]
  },
  {
   "cell_type": "code",
   "execution_count": null,
   "metadata": {},
   "outputs": [],
   "source": [
    "ax = sns.jointplot(\"age\", \"fare_\", data=t, color=\"g\", size=8);"
   ]
  },
  {
   "cell_type": "markdown",
   "metadata": {},
   "source": [
    "## Who Survived?\n",
    "\n",
    "Let's turn to the variable of interest: who survived?"
   ]
  },
  {
   "cell_type": "markdown",
   "metadata": {},
   "source": [
    "<div class=\"alert alert-success\" data-title=\"Who Survived?\">\n",
    "  <h1><i class=\"fa fa-tasks\" aria-hidden=\"true\"></i> Exercise: Who Survived?</h1>\n",
    "</div>\n",
    "\n",
    "<p>Explore the `alive` variable</p>"
   ]
  },
  {
   "cell_type": "markdown",
   "metadata": {},
   "source": [
    "What does the count of alive look like?"
   ]
  },
  {
   "cell_type": "code",
   "execution_count": null,
   "metadata": {},
   "outputs": [],
   "source": []
  },
  {
   "cell_type": "code",
   "execution_count": null,
   "metadata": {},
   "outputs": [],
   "source": [
    "%load solutions/visualize_03.py"
   ]
  },
  {
   "cell_type": "markdown",
   "metadata": {},
   "source": [
    "What's the relationship between class and survived?"
   ]
  },
  {
   "cell_type": "code",
   "execution_count": null,
   "metadata": {},
   "outputs": [],
   "source": []
  },
  {
   "cell_type": "code",
   "execution_count": null,
   "metadata": {},
   "outputs": [],
   "source": [
    "%load solutions/visualize_04.py\n"
   ]
  },
  {
   "cell_type": "markdown",
   "metadata": {},
   "source": [
    "What's the relationship between who and survived"
   ]
  },
  {
   "cell_type": "code",
   "execution_count": null,
   "metadata": {},
   "outputs": [],
   "source": []
  },
  {
   "cell_type": "code",
   "execution_count": null,
   "metadata": {},
   "outputs": [],
   "source": [
    "%load solutions/visualize_05.py\n"
   ]
  },
  {
   "cell_type": "markdown",
   "metadata": {},
   "source": [
    "What's the interaction of `sex` with `class`, when predicting `survived`? Split the `hue` by `sex`.\n",
    "\n",
    "Hint: `class` is a categorical (AKA factor), so use `factorplot`."
   ]
  },
  {
   "cell_type": "code",
   "execution_count": null,
   "metadata": {},
   "outputs": [],
   "source": []
  },
  {
   "cell_type": "code",
   "execution_count": null,
   "metadata": {},
   "outputs": [],
   "source": [
    "%load solutions/visualize_06.py\n"
   ]
  },
  {
   "cell_type": "markdown",
   "metadata": {},
   "source": [
    "How about the interaction of `'who'` with class?"
   ]
  },
  {
   "cell_type": "code",
   "execution_count": null,
   "metadata": {},
   "outputs": [],
   "source": []
  },
  {
   "cell_type": "code",
   "execution_count": null,
   "metadata": {},
   "outputs": [],
   "source": [
    "%load solutions/visualize_07.py\n"
   ]
  },
  {
   "cell_type": "markdown",
   "metadata": {},
   "source": [
    "What's the relationship between `survived` and `adult_male`?"
   ]
  },
  {
   "cell_type": "code",
   "execution_count": null,
   "metadata": {},
   "outputs": [],
   "source": []
  },
  {
   "cell_type": "code",
   "execution_count": null,
   "metadata": {},
   "outputs": [],
   "source": [
    "%load solutions/visualize_08.py\n"
   ]
  },
  {
   "cell_type": "markdown",
   "metadata": {},
   "source": [
    "## Regression plots\n",
    "\n",
    "You can plot relationships with best fit lines (and bootstrapped standard errors) using `lmplot`."
   ]
  },
  {
   "cell_type": "code",
   "execution_count": null,
   "metadata": {},
   "outputs": [],
   "source": [
    "sns.lmplot(\"age\", \"survived\", t, logistic=True, y_jitter=.05);"
   ]
  },
  {
   "cell_type": "markdown",
   "metadata": {},
   "source": [
    "Since we have a binary target (`survived`), we use `logistic`. It can be more informative to bin the x variable."
   ]
  },
  {
   "cell_type": "code",
   "execution_count": null,
   "metadata": {},
   "outputs": [],
   "source": [
    "bins = [15, 30, 45, 60]\n",
    "sns.lmplot(\"age\", \"survived\", t, logistic=True,\n",
    "           x_bins=bins);"
   ]
  },
  {
   "cell_type": "markdown",
   "metadata": {},
   "source": [
    "<div class=\"alert alert-success\" data-title=\"Survived by gender\">\n",
    "  <h1><i class=\"fa fa-tasks\" aria-hidden=\"true\"></i> Exercise: Survived by gender</h1>\n",
    "</div>\n",
    "\n",
    "\n",
    "<p>Can you split that relationship by `sex`?</p>"
   ]
  },
  {
   "cell_type": "code",
   "execution_count": null,
   "metadata": {},
   "outputs": [],
   "source": []
  },
  {
   "cell_type": "code",
   "execution_count": null,
   "metadata": {},
   "outputs": [],
   "source": [
    "%load solutions/visualize_09.py\n"
   ]
  },
  {
   "cell_type": "markdown",
   "metadata": {},
   "source": [
    "How about class?"
   ]
  },
  {
   "cell_type": "code",
   "execution_count": null,
   "metadata": {},
   "outputs": [],
   "source": []
  },
  {
   "cell_type": "code",
   "execution_count": null,
   "metadata": {},
   "outputs": [],
   "source": [
    "%load solutions/visualize_10.py\n"
   ]
  },
  {
   "cell_type": "markdown",
   "metadata": {},
   "source": [
    "## Seaborn Summary\n",
    "\n",
    "- Many small functions with a consistent API (`x`, `y`, `data`, etc.)\n",
    "- `Grid`s offer an abstraction for (relatively) easy faceting"
   ]
  }
 ],
 "metadata": {
  "kernelspec": {
   "display_name": "Python 3",
   "language": "python",
   "name": "python3"
  },
  "language_info": {
   "codemirror_mode": {
    "name": "ipython",
    "version": 3
   },
   "file_extension": ".py",
   "mimetype": "text/x-python",
   "name": "python",
   "nbconvert_exporter": "python",
   "pygments_lexer": "ipython3",
   "version": "3.6.3"
  }
 },
 "nbformat": 4,
 "nbformat_minor": 1
}
