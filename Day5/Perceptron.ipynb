{
 "cells": [
  {
   "cell_type": "markdown",
   "metadata": {},
   "source": [
    "[source Article: Let's Figure It Out](https://letsfigureout.com/2020/04/13/building-a-perceptron-with-python/)"
   ]
  },
  {
   "cell_type": "markdown",
   "metadata": {},
   "source": []
  },
  {
   "cell_type": "code",
   "execution_count": 4,
   "metadata": {},
   "outputs": [],
   "source": [
    "import matplotlib.pyplot as plt\n",
    "import numpy as np\n",
    "from sklearn.model_selection import train_test_split\n",
    "from sklearn.metrics import accuracy_score\n",
    "\n",
    "class Perceptron1(object):\n",
    "    def __init__(self, lr=0.01, epochs=2000):\n",
    "        self.lr = lr\n",
    "        self.bias = 1\n",
    "        self.epochs = epochs\n",
    "        self.weights = None\n",
    "        self.errors_ = []\n",
    "\n",
    "\n",
    "    def fit(self, X, y):\n",
    "        \"\"\"Train perceptron. \n",
    "        X and y need to be the same length\"\"\"\n",
    "        assert len(X) == len(y), \"X and y need to be the same length\"\n",
    "        \n",
    "        # Initialise weights\n",
    "        weights = np.zeros(X.shape[1])\n",
    "        self.weights = np.insert(weights, 0, self.bias, axis=0)\n",
    "\n",
    "        for _ in range(self.epochs):\n",
    "            errors = 0\n",
    "            for xi, y_target in zip(X, y):\n",
    "                z = self.__linear(xi)  # weighted sum\n",
    "                y_hat = self.__activation(z)  # activation function\n",
    "                delta = self.lr * (y_target - y_hat)  # loss\n",
    "        \n",
    "                # Update weights - back propagation\n",
    "                self.weights[1:] += delta * xi\n",
    "                self.weights[0] += delta\n",
    "                \n",
    "                errors += int(delta != 0.0)\n",
    "\n",
    "            self.errors_.append(errors)          \n",
    "            if not errors:\n",
    "                break\n",
    "    \n",
    "    \n",
    "    def __linear(self, X):\n",
    "        \"\"\"weighted sum\"\"\"\n",
    "        return np.dot(X, self.weights[1:]) + self.weights[0] \n",
    "\n",
    "    \n",
    "    def __activation(self, X):\n",
    "        return np.where(X>=0, 1, 0)\n",
    "                        \n",
    "    \n",
    "    def predict(self, X):\n",
    "        assert type(self.weights) != 'NoneType', \"You must run the fit method before making predictions.\"\n",
    "        y_hat = np.zeros(X.shape[0],)\n",
    "        for i, xi in enumerate(X):\n",
    "            y_hat[i] = self.__activation(self.__linear(xi))\n",
    "        return y_hat\n",
    "\n",
    "\n",
    "    def score(sef, predictions, labels):\n",
    "        return accuracy_score(labels, predictions)\n",
    "    \n",
    "    \n",
    "    def plot(self, predictions, labels):\n",
    "        assert type(self.weights) != 'NoneType', \"You must run the fit method before being able to plot results.\"\n",
    "        plt.figure(figsize=(10,8))\n",
    "        plt.grid(True)\n",
    "\n",
    "        for input, target in zip(predictions, labels):\n",
    "            plt.plot(input[0],input[1],'ro' if (target == 1.0) else 'go')\n",
    "\n",
    "        for i in np.linspace(np.amin(predictions[:,:1]),np.amax(predictions[:,:1])):\n",
    "            slope = -(self.weights[0]/self.weights[2])/(self.weights[0]/self.weights[1])  \n",
    "            intercept = -self.weights[0]/self.weights[2]\n",
    "\n",
    "            # y = mx+b, equation of a line. mx = slope, n = intercept\n",
    "            y = (slope*i) + intercept\n",
    "            plt.plot(i, y, color='black', marker='x', linestyle='dashed')"
   ]
  },
  {
   "cell_type": "code",
   "execution_count": 9,
   "metadata": {},
   "outputs": [],
   "source": [
    "from sklearn.model_selection import train_test_split\n",
    "from sklearn.datasets import make_blobs\n"
   ]
  },
  {
   "cell_type": "code",
   "execution_count": 10,
   "metadata": {},
   "outputs": [
    {
     "data": {
      "text/plain": [
       "1.0"
      ]
     },
     "execution_count": 10,
     "metadata": {},
     "output_type": "execute_result"
    }
   ],
   "source": [
    "# Generate data blobs, 2 features each with two classses\n",
    "X, y = make_blobs(n_samples=1000, n_features=2, centers=2, cluster_std=1.05, random_state=3)\n",
    "X_train, X_test, y_train, y_test = train_test_split(X, y, test_size=0.20, stratify=y)\n",
    "\n",
    "# Create an instance of our Perceptron\n",
    "p = Perceptron1()\n",
    "\n",
    "# Fit the data, display and display our accuracy score\n",
    "p.fit(X_train,y_train)\n",
    "p.score(p.predict(X_test), y_test)"
   ]
  },
  {
   "cell_type": "code",
   "execution_count": null,
   "metadata": {},
   "outputs": [],
   "source": []
  }
 ],
 "metadata": {
  "kernelspec": {
   "display_name": "Python 3",
   "language": "python",
   "name": "python3"
  },
  "language_info": {
   "codemirror_mode": {
    "name": "ipython",
    "version": 3
   },
   "file_extension": ".py",
   "mimetype": "text/x-python",
   "name": "python",
   "nbconvert_exporter": "python",
   "pygments_lexer": "ipython3",
   "version": "3.8.5"
  }
 },
 "nbformat": 4,
 "nbformat_minor": 4
}
