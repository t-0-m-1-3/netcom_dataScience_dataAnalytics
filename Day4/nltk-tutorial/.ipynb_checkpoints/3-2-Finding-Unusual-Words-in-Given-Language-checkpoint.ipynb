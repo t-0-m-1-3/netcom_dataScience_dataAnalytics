{
 "cells": [
  {
   "cell_type": "markdown",
   "metadata": {},
   "source": [
    "# Finding Unusual Words in Given Language"
   ]
  },
  {
   "cell_type": "code",
   "execution_count": 1,
   "metadata": {},
   "outputs": [],
   "source": [
    "text = \"\"\"\n",
    "It’s odd, but in the infrequent occasions when I’ve been called upon in a formal place to play the bongo drums, \n",
    "the introducer never seems to find it necessary to mention that I also do theoretical physics. \n",
    "I believe that’s probably that we respect the arts more than the sciences. T\n",
    "he artists of the Renaissance said that man’s main concern should be for man. \n",
    "And yet there are some other things of interest in the world: even the artist appreciates sunsets, \n",
    "and the ocean waves, and the march of the stars across the heavens. \n",
    "And there is some reason, then, to talk of other things sometimes.\"\"\""
   ]
  },
  {
   "cell_type": "markdown",
   "metadata": {},
   "source": [
    "## 1. Tokenizing text"
   ]
  },
  {
   "cell_type": "code",
   "execution_count": 2,
   "metadata": {},
   "outputs": [
    {
     "data": {
      "text/plain": [
       "['it',\n",
       " '’',\n",
       " 's',\n",
       " 'odd',\n",
       " ',',\n",
       " 'but',\n",
       " 'in',\n",
       " 'the',\n",
       " 'infrequent',\n",
       " 'occasions',\n",
       " 'when',\n",
       " 'i',\n",
       " '’',\n",
       " 've',\n",
       " 'been',\n",
       " 'called',\n",
       " 'upon',\n",
       " 'in',\n",
       " 'a',\n",
       " 'formal',\n",
       " 'place',\n",
       " 'to',\n",
       " 'play',\n",
       " 'the',\n",
       " 'bongo',\n",
       " 'drums',\n",
       " ',',\n",
       " 'the',\n",
       " 'introducer',\n",
       " 'never',\n",
       " 'seems',\n",
       " 'to',\n",
       " 'find',\n",
       " 'it',\n",
       " 'necessary',\n",
       " 'to',\n",
       " 'mention',\n",
       " 'that',\n",
       " 'i',\n",
       " 'also',\n",
       " 'do',\n",
       " 'theoretical',\n",
       " 'physics',\n",
       " '.',\n",
       " 'i',\n",
       " 'believe',\n",
       " 'that',\n",
       " '’',\n",
       " 's',\n",
       " 'probably',\n",
       " 'that',\n",
       " 'we',\n",
       " 'respect',\n",
       " 'the',\n",
       " 'arts',\n",
       " 'more',\n",
       " 'than',\n",
       " 'the',\n",
       " 'sciences',\n",
       " '.',\n",
       " 't',\n",
       " 'he',\n",
       " 'artists',\n",
       " 'of',\n",
       " 'the',\n",
       " 'renaissance',\n",
       " 'said',\n",
       " 'that',\n",
       " 'man',\n",
       " '’',\n",
       " 's',\n",
       " 'main',\n",
       " 'concern',\n",
       " 'should',\n",
       " 'be',\n",
       " 'for',\n",
       " 'man',\n",
       " '.',\n",
       " 'and',\n",
       " 'yet',\n",
       " 'there',\n",
       " 'are',\n",
       " 'some',\n",
       " 'other',\n",
       " 'things',\n",
       " 'of',\n",
       " 'interest',\n",
       " 'in',\n",
       " 'the',\n",
       " 'world',\n",
       " ':',\n",
       " 'even',\n",
       " 'the',\n",
       " 'artist',\n",
       " 'appreciates',\n",
       " 'sunsets',\n",
       " ',',\n",
       " 'and',\n",
       " 'the',\n",
       " 'ocean',\n",
       " 'waves',\n",
       " ',',\n",
       " 'and',\n",
       " 'the',\n",
       " 'march',\n",
       " 'of',\n",
       " 'the',\n",
       " 'stars',\n",
       " 'across',\n",
       " 'the',\n",
       " 'heavens',\n",
       " '.',\n",
       " 'and',\n",
       " 'there',\n",
       " 'is',\n",
       " 'some',\n",
       " 'reason',\n",
       " ',',\n",
       " 'then',\n",
       " ',',\n",
       " 'to',\n",
       " 'talk',\n",
       " 'of',\n",
       " 'other',\n",
       " 'things',\n",
       " 'sometimes',\n",
       " '.']"
      ]
     },
     "execution_count": 2,
     "metadata": {},
     "output_type": "execute_result"
    }
   ],
   "source": [
    "from nltk import word_tokenize\n",
    "text_tokenized = word_tokenize(text.lower())\n",
    "text_tokenized"
   ]
  },
  {
   "cell_type": "markdown",
   "metadata": {},
   "source": [
    "## 2. Importing and exploring the words corpus"
   ]
  },
  {
   "cell_type": "code",
   "execution_count": 3,
   "metadata": {},
   "outputs": [
    {
     "data": {
      "text/plain": [
       "'Wordlists  en: English, http://en.wikipedia.org/wiki/Words_(Unix) en-basic: 850 English words: C.K. Ogden in The ABC of Basic English (1932) '"
      ]
     },
     "execution_count": 3,
     "metadata": {},
     "output_type": "execute_result"
    }
   ],
   "source": [
    "from nltk.corpus import words\n",
    "words.readme().replace('\\n', ' ')"
   ]
  },
  {
   "cell_type": "code",
   "execution_count": 4,
   "metadata": {},
   "outputs": [
    {
     "data": {
      "text/plain": [
       "<WordListCorpusReader in '/home/t0m/nltk_data/corpora/words'>"
      ]
     },
     "execution_count": 4,
     "metadata": {},
     "output_type": "execute_result"
    }
   ],
   "source": [
    "words"
   ]
  },
  {
   "cell_type": "code",
   "execution_count": 5,
   "metadata": {},
   "outputs": [
    {
     "data": {
      "text/plain": [
       "['en', 'en-basic']"
      ]
     },
     "execution_count": 5,
     "metadata": {},
     "output_type": "execute_result"
    }
   ],
   "source": [
    "words.fileids()"
   ]
  },
  {
   "cell_type": "code",
   "execution_count": 6,
   "metadata": {},
   "outputs": [
    {
     "data": {
      "text/plain": [
       "['A',\n",
       " 'a',\n",
       " 'aa',\n",
       " 'aal',\n",
       " 'aalii',\n",
       " 'aam',\n",
       " 'Aani',\n",
       " 'aardvark',\n",
       " 'aardwolf',\n",
       " 'Aaron']"
      ]
     },
     "execution_count": 6,
     "metadata": {},
     "output_type": "execute_result"
    }
   ],
   "source": [
    "words.words('en')[:10]"
   ]
  },
  {
   "cell_type": "code",
   "execution_count": 7,
   "metadata": {},
   "outputs": [
    {
     "data": {
      "text/plain": [
       "['I',\n",
       " 'a',\n",
       " 'able',\n",
       " 'about',\n",
       " 'account',\n",
       " 'acid',\n",
       " 'across',\n",
       " 'act',\n",
       " 'addition',\n",
       " 'adjustment']"
      ]
     },
     "execution_count": 7,
     "metadata": {},
     "output_type": "execute_result"
    }
   ],
   "source": [
    "words.words('en-basic')[:10]"
   ]
  },
  {
   "cell_type": "code",
   "execution_count": 8,
   "metadata": {},
   "outputs": [
    {
     "data": {
      "text/plain": [
       "235886"
      ]
     },
     "execution_count": 8,
     "metadata": {},
     "output_type": "execute_result"
    }
   ],
   "source": [
    "len(words.words('en'))"
   ]
  },
  {
   "cell_type": "code",
   "execution_count": 9,
   "metadata": {},
   "outputs": [
    {
     "data": {
      "text/plain": [
       "850"
      ]
     },
     "execution_count": 9,
     "metadata": {},
     "output_type": "execute_result"
    }
   ],
   "source": [
    "len(words.words('en-basic'))"
   ]
  },
  {
   "cell_type": "markdown",
   "metadata": {},
   "source": [
    "## 3. Finding unusual words"
   ]
  },
  {
   "cell_type": "code",
   "execution_count": 10,
   "metadata": {},
   "outputs": [
    {
     "data": {
      "text/plain": [
       "{'appreciates',\n",
       " 'artists',\n",
       " 'arts',\n",
       " 'called',\n",
       " 'drums',\n",
       " 'occasions',\n",
       " 'sciences',\n",
       " 'seems',\n",
       " 'stars',\n",
       " 'sunsets',\n",
       " 'things',\n",
       " 've',\n",
       " 'waves'}"
      ]
     },
     "execution_count": 10,
     "metadata": {},
     "output_type": "execute_result"
    }
   ],
   "source": [
    "english_vocab = set(w.lower() for w in words.words())\n",
    "# Note .isalpha() removes punctuation tokens. However, \n",
    "# tokens with a hyphen like 'browser-based' are totally skipped over because .isalpha() would be false.\n",
    "text_vocab = set(w.lower() for w in text_tokenized if w.isalpha()) \n",
    "unusual = text_vocab.difference(english_vocab)\n",
    "unusual"
   ]
  },
  {
   "cell_type": "code",
   "execution_count": null,
   "metadata": {},
   "outputs": [],
   "source": []
  }
 ],
 "metadata": {
  "kernelspec": {
   "display_name": "Python 3",
   "language": "python",
   "name": "python3"
  },
  "language_info": {
   "codemirror_mode": {
    "name": "ipython",
    "version": 3
   },
   "file_extension": ".py",
   "mimetype": "text/x-python",
   "name": "python",
   "nbconvert_exporter": "python",
   "pygments_lexer": "ipython3",
   "version": "3.8.5"
  }
 },
 "nbformat": 4,
 "nbformat_minor": 2
}
