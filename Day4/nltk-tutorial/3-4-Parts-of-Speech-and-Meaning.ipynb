{
 "cells": [
  {
   "cell_type": "markdown",
   "metadata": {},
   "source": [
    "# Parts of Speech and Meaning (English Only)"
   ]
  },
  {
   "cell_type": "code",
   "execution_count": 1,
   "metadata": {},
   "outputs": [],
   "source": [
    "t = \"\"\"\n",
    "Hi. I can see the audience tonight, so I can see also from the size of it \n",
    "(which last time was a black splot in front of my eyes), \n",
    "that there must be many of you here who are not thoroughly familiar with physics, \n",
    "and also a number that are not too versed in mathematics and \n",
    "I don’t doubt that there are some who know neither physics nor mathematics very well. \n",
    "That puts a considerable challenge on a speaker who is going to speak on the relation of physics and \n",
    "mathematics a challenge which I, however, will not accept: \n",
    "I published the title of the talk in clear and precise language, \n",
    "and didn’t make it sound like it was something it wasn’t\n",
    "it’s the relation of physics and mathematics\n",
    "and if you find that in some spots it assumes some minor knowledge of physics or mathematics,\n",
    "I cannot help it. It was named so.\n",
    "\"\"\""
   ]
  },
  {
   "cell_type": "markdown",
   "metadata": {},
   "source": [
    "## 1. Tokenization"
   ]
  },
  {
   "cell_type": "code",
   "execution_count": 2,
   "metadata": {},
   "outputs": [
    {
     "data": {
      "text/plain": [
       "['\\nhi.',\n",
       " 'i can see the audience tonight, so i can see also from the size of it \\n(which last time was a black splot in front of my eyes), \\nthat there must be many of you here who are not thoroughly familiar with physics, \\nand also a number that are not too versed in mathematics and \\ni don’t doubt that there are some who know neither physics nor mathematics very well.',\n",
       " 'that puts a considerable challenge on a speaker who is going to speak on the relation of physics and \\nmathematics a challenge which i, however, will not accept: \\ni published the title of the talk in clear and precise language, \\nand didn’t make it sound like it was something it wasn’t\\nit’s the relation of physics and mathematics\\nand if you find that in some spots it assumes some minor knowledge of physics or mathematics,\\ni cannot help it.',\n",
       " 'it was named so.']"
      ]
     },
     "execution_count": 2,
     "metadata": {},
     "output_type": "execute_result"
    }
   ],
   "source": [
    "from nltk import sent_tokenize, word_tokenize\n",
    "sentences = sent_tokenize(t.lower())\n",
    "sentences"
   ]
  },
  {
   "cell_type": "code",
   "execution_count": 3,
   "metadata": {},
   "outputs": [
    {
     "data": {
      "text/plain": [
       "['that',\n",
       " 'puts',\n",
       " 'a',\n",
       " 'considerable',\n",
       " 'challenge',\n",
       " 'on',\n",
       " 'a',\n",
       " 'speaker',\n",
       " 'who',\n",
       " 'is',\n",
       " 'going',\n",
       " 'to',\n",
       " 'speak',\n",
       " 'on',\n",
       " 'the',\n",
       " 'relation',\n",
       " 'of',\n",
       " 'physics',\n",
       " 'and',\n",
       " 'mathematics',\n",
       " 'a',\n",
       " 'challenge',\n",
       " 'which',\n",
       " 'i',\n",
       " ',',\n",
       " 'however',\n",
       " ',',\n",
       " 'will',\n",
       " 'not',\n",
       " 'accept',\n",
       " ':',\n",
       " 'i',\n",
       " 'published',\n",
       " 'the',\n",
       " 'title',\n",
       " 'of',\n",
       " 'the',\n",
       " 'talk',\n",
       " 'in',\n",
       " 'clear',\n",
       " 'and',\n",
       " 'precise',\n",
       " 'language',\n",
       " ',',\n",
       " 'and',\n",
       " 'didn',\n",
       " '’',\n",
       " 't',\n",
       " 'make',\n",
       " 'it',\n",
       " 'sound',\n",
       " 'like',\n",
       " 'it',\n",
       " 'was',\n",
       " 'something',\n",
       " 'it',\n",
       " 'wasn',\n",
       " '’',\n",
       " 't',\n",
       " 'it',\n",
       " '’',\n",
       " 's',\n",
       " 'the',\n",
       " 'relation',\n",
       " 'of',\n",
       " 'physics',\n",
       " 'and',\n",
       " 'mathematics',\n",
       " 'and',\n",
       " 'if',\n",
       " 'you',\n",
       " 'find',\n",
       " 'that',\n",
       " 'in',\n",
       " 'some',\n",
       " 'spots',\n",
       " 'it',\n",
       " 'assumes',\n",
       " 'some',\n",
       " 'minor',\n",
       " 'knowledge',\n",
       " 'of',\n",
       " 'physics',\n",
       " 'or',\n",
       " 'mathematics',\n",
       " ',',\n",
       " 'i',\n",
       " 'can',\n",
       " 'not',\n",
       " 'help',\n",
       " 'it',\n",
       " '.']"
      ]
     },
     "execution_count": 3,
     "metadata": {},
     "output_type": "execute_result"
    }
   ],
   "source": [
    "tokens = word_tokenize(sentences[2])\n",
    "tokens"
   ]
  },
  {
   "cell_type": "markdown",
   "metadata": {},
   "source": [
    "## 2. POS Tagging"
   ]
  },
  {
   "cell_type": "markdown",
   "metadata": {},
   "source": [
    "**Abbreviation**|**Meaning**\n",
    ":-----:|:-----:\n",
    "CC|coordinating conjunction\n",
    "CD|cardinal digit\n",
    "DT|determiner\n",
    "EX|existential there (like: \"there is\" ... think of it like \"there exists\")\n",
    "FW|foreign word\n",
    "IN|preposition/subordinating conjunction\n",
    "JJ|adjective\n",
    "JJR|adjective, comparative\n",
    "JJS|adjective, superlative\n",
    "LS|list marker\n",
    "MD|modal\n",
    "NN|noun, singular 'desk'\n",
    "NNS|noun plural\n",
    "NNP|proper noun, singular\n",
    "NNPS|proper noun, plural\n",
    "PDT|predeterminer\n",
    "POS|possessive ending\n",
    "PRP|personal pronoun\n",
    "PRP(dollarSign)|possessive pronoun\n",
    "RB|adverb\n",
    "RBR|adverb, comparative\n",
    "RBS|adverb, superlative\n",
    "RP|particle\n",
    "TO|to\n",
    "UH|interjection\n",
    "VB|verb, base form\n",
    "VBD|verb, past tense\n",
    "VBG|verb, gerund/present participle\n",
    "VBN|verb, past participle\n",
    "VBP|verb, sing. present, non-3d\n",
    "VBZ|verb, 3rd person sing. present\n",
    "WDT|wh-determiner\n",
    "WP|wh-pronoun\n",
    "WP$|possessive wh-pronoun\n",
    "WRB|wh-abverb"
   ]
  },
  {
   "cell_type": "code",
   "execution_count": 4,
   "metadata": {
    "scrolled": true
   },
   "outputs": [
    {
     "data": {
      "text/plain": [
       "[('that', 'DT'),\n",
       " ('puts', 'VBZ'),\n",
       " ('a', 'DT'),\n",
       " ('considerable', 'JJ'),\n",
       " ('challenge', 'NN'),\n",
       " ('on', 'IN'),\n",
       " ('a', 'DT'),\n",
       " ('speaker', 'NN'),\n",
       " ('who', 'WP'),\n",
       " ('is', 'VBZ'),\n",
       " ('going', 'VBG'),\n",
       " ('to', 'TO'),\n",
       " ('speak', 'VB'),\n",
       " ('on', 'IN'),\n",
       " ('the', 'DT'),\n",
       " ('relation', 'NN'),\n",
       " ('of', 'IN'),\n",
       " ('physics', 'NNS'),\n",
       " ('and', 'CC'),\n",
       " ('mathematics', 'NNS'),\n",
       " ('a', 'DT'),\n",
       " ('challenge', 'NN'),\n",
       " ('which', 'WDT'),\n",
       " ('i', 'NN'),\n",
       " (',', ','),\n",
       " ('however', 'RB'),\n",
       " (',', ','),\n",
       " ('will', 'MD'),\n",
       " ('not', 'RB'),\n",
       " ('accept', 'VB'),\n",
       " (':', ':'),\n",
       " ('i', 'NN'),\n",
       " ('published', 'VBD'),\n",
       " ('the', 'DT'),\n",
       " ('title', 'NN'),\n",
       " ('of', 'IN'),\n",
       " ('the', 'DT'),\n",
       " ('talk', 'NN'),\n",
       " ('in', 'IN'),\n",
       " ('clear', 'JJ'),\n",
       " ('and', 'CC'),\n",
       " ('precise', 'JJ'),\n",
       " ('language', 'NN'),\n",
       " (',', ','),\n",
       " ('and', 'CC'),\n",
       " ('didn', 'VB'),\n",
       " ('’', 'JJ'),\n",
       " ('t', 'NNS'),\n",
       " ('make', 'VBP'),\n",
       " ('it', 'PRP'),\n",
       " ('sound', 'VBZ'),\n",
       " ('like', 'IN'),\n",
       " ('it', 'PRP'),\n",
       " ('was', 'VBD'),\n",
       " ('something', 'NN'),\n",
       " ('it', 'PRP'),\n",
       " ('wasn', 'VBZ'),\n",
       " ('’', 'JJ'),\n",
       " ('t', 'IN'),\n",
       " ('it', 'PRP'),\n",
       " ('’', 'VBZ'),\n",
       " ('s', 'PDT'),\n",
       " ('the', 'DT'),\n",
       " ('relation', 'NN'),\n",
       " ('of', 'IN'),\n",
       " ('physics', 'NNS'),\n",
       " ('and', 'CC'),\n",
       " ('mathematics', 'NNS'),\n",
       " ('and', 'CC'),\n",
       " ('if', 'IN'),\n",
       " ('you', 'PRP'),\n",
       " ('find', 'VBP'),\n",
       " ('that', 'IN'),\n",
       " ('in', 'IN'),\n",
       " ('some', 'DT'),\n",
       " ('spots', 'NNS'),\n",
       " ('it', 'PRP'),\n",
       " ('assumes', 'VBZ'),\n",
       " ('some', 'DT'),\n",
       " ('minor', 'JJ'),\n",
       " ('knowledge', 'NN'),\n",
       " ('of', 'IN'),\n",
       " ('physics', 'NNS'),\n",
       " ('or', 'CC'),\n",
       " ('mathematics', 'NNS'),\n",
       " (',', ','),\n",
       " ('i', 'NNS'),\n",
       " ('can', 'MD'),\n",
       " ('not', 'RB'),\n",
       " ('help', 'VB'),\n",
       " ('it', 'PRP'),\n",
       " ('.', '.')]"
      ]
     },
     "execution_count": 4,
     "metadata": {},
     "output_type": "execute_result"
    }
   ],
   "source": [
    "from nltk import pos_tag\n",
    "tags = pos_tag(tokens)\n",
    "tags"
   ]
  },
  {
   "cell_type": "markdown",
   "metadata": {},
   "source": [
    "To access documentation for tags, for example for `NN`:"
   ]
  },
  {
   "cell_type": "code",
   "execution_count": 6,
   "metadata": {},
   "outputs": [],
   "source": [
    "# you need to download the tagsets dataset\n",
    "# import nltk.help\n",
    "# nltk.help.upenn_tagset('NN')"
   ]
  },
  {
   "cell_type": "markdown",
   "metadata": {},
   "source": [
    "## 3. Word senses (for homonyms)"
   ]
  },
  {
   "cell_type": "markdown",
   "metadata": {},
   "source": [
    "WordNet is a lexical database for the English language in the form of a semantic graph. \n",
    "\n",
    "WordNet groups English words into sets of synonyms called synsets, provides short definitions and usage examples, and records a number of relations among these synonym sets or their members.\n",
    "\n",
    "NLTK provides an interface to the WordNet API."
   ]
  },
  {
   "cell_type": "code",
   "execution_count": 10,
   "metadata": {},
   "outputs": [
    {
     "data": {
      "text/plain": [
       "[Synset('homo.n.02'),\n",
       " Synset('human.a.01'),\n",
       " Synset('human.a.02'),\n",
       " Synset('human.a.03')]"
      ]
     },
     "execution_count": 10,
     "metadata": {},
     "output_type": "execute_result"
    }
   ],
   "source": [
    "from nltk.corpus import wordnet as wn\n",
    "# Find me a synonym for human\n",
    "wn.synsets('human')"
   ]
  },
  {
   "cell_type": "code",
   "execution_count": 11,
   "metadata": {},
   "outputs": [
    {
     "data": {
      "text/plain": [
       "'any living or extinct member of the family Hominidae characterized by superior intelligence, articulate speech, and erect carriage'"
      ]
     },
     "execution_count": 11,
     "metadata": {},
     "output_type": "execute_result"
    }
   ],
   "source": [
    "wn.synsets('human')[0].definition()"
   ]
  },
  {
   "cell_type": "code",
   "execution_count": 12,
   "metadata": {},
   "outputs": [
    {
     "data": {
      "text/plain": [
       "'characteristic of humanity'"
      ]
     },
     "execution_count": 12,
     "metadata": {},
     "output_type": "execute_result"
    }
   ],
   "source": [
    "wn.synsets('human')[1].definition()"
   ]
  },
  {
   "cell_type": "code",
   "execution_count": 13,
   "metadata": {},
   "outputs": [
    {
     "data": {
      "text/plain": [
       "Synset('homo.n.02')"
      ]
     },
     "execution_count": 13,
     "metadata": {},
     "output_type": "execute_result"
    }
   ],
   "source": [
    "human = wn.synsets('Human', pos=wn.NOUN)[0]\n",
    "human"
   ]
  },
  {
   "cell_type": "code",
   "execution_count": 19,
   "metadata": {},
   "outputs": [
    {
     "data": {
      "text/plain": [
       "[Synset('hominid.n.01')]"
      ]
     },
     "execution_count": 19,
     "metadata": {},
     "output_type": "execute_result"
    }
   ],
   "source": [
    "human.hypernyms() # A hypernym is a word with a broad meaning constituting a category \n",
    "# into which words with more specific meanings fall; a superordinate. For example, colour is a hypernym of red."
   ]
  },
  {
   "cell_type": "code",
   "execution_count": 21,
   "metadata": {},
   "outputs": [
    {
     "data": {
      "text/plain": [
       "[Synset('homo_erectus.n.01'),\n",
       " Synset('homo_habilis.n.01'),\n",
       " Synset('homo_sapiens.n.01'),\n",
       " Synset('homo_soloensis.n.01'),\n",
       " Synset('neandertal_man.n.01'),\n",
       " Synset('rhodesian_man.n.01'),\n",
       " Synset('world.n.08')]"
      ]
     },
     "execution_count": 21,
     "metadata": {},
     "output_type": "execute_result"
    }
   ],
   "source": [
    "#  term that denotes a subcategory of a more general class: \n",
    "human.hyponyms()"
   ]
  },
  {
   "cell_type": "code",
   "execution_count": 22,
   "metadata": {},
   "outputs": [
    {
     "data": {
      "text/plain": [
       "Synset('bicycle.n.01')"
      ]
     },
     "execution_count": 22,
     "metadata": {},
     "output_type": "execute_result"
    }
   ],
   "source": [
    "bike = wn.synsets('bicycle')[0]\n",
    "bike"
   ]
  },
  {
   "cell_type": "code",
   "execution_count": 23,
   "metadata": {},
   "outputs": [
    {
     "data": {
      "text/plain": [
       "Synset('female_child.n.01')"
      ]
     },
     "execution_count": 23,
     "metadata": {},
     "output_type": "execute_result"
    }
   ],
   "source": [
    "girl = wn.synsets('girl')[1]\n",
    "girl"
   ]
  },
  {
   "cell_type": "code",
   "execution_count": 24,
   "metadata": {},
   "outputs": [
    {
     "data": {
      "text/plain": [
       "0.34782608695652173"
      ]
     },
     "execution_count": 24,
     "metadata": {},
     "output_type": "execute_result"
    }
   ],
   "source": [
    "bike.wup_similarity(human) \n",
    "# The Wu-Palmer metric (WUP) is a measure of similarity based on distance in the graph. \n",
    "# There are many other metrics too."
   ]
  },
  {
   "cell_type": "code",
   "execution_count": 25,
   "metadata": {},
   "outputs": [
    {
     "data": {
      "text/plain": [
       "0.5217391304347826"
      ]
     },
     "execution_count": 25,
     "metadata": {},
     "output_type": "execute_result"
    }
   ],
   "source": [
    "girl.wup_similarity(human)"
   ]
  },
  {
   "cell_type": "code",
   "execution_count": 27,
   "metadata": {},
   "outputs": [
    {
     "data": {
      "text/plain": [
       "['girl',\n",
       " 'miss',\n",
       " 'missy',\n",
       " 'young_lady',\n",
       " 'young_woman',\n",
       " 'fille',\n",
       " 'female_child',\n",
       " 'girl',\n",
       " 'little_girl',\n",
       " 'daughter',\n",
       " 'girl',\n",
       " 'girlfriend',\n",
       " 'girl',\n",
       " 'lady_friend',\n",
       " 'girl']"
      ]
     },
     "execution_count": 27,
     "metadata": {},
     "output_type": "execute_result"
    }
   ],
   "source": [
    "synonyms = []\n",
    "for syn in wn.synsets('girl'):\n",
    "    for lemma in syn.lemmas(): #  A lemma is basically the dictionary form or base form of a word, \n",
    "#         as opposed to the various inflected forms of a word. \n",
    "        synonyms.append(lemma.name())\n",
    "synonyms"
   ]
  },
  {
   "cell_type": "code",
   "execution_count": 28,
   "metadata": {},
   "outputs": [
    {
     "data": {
      "text/plain": [
       "['male_child', 'boy', 'son', 'boy']"
      ]
     },
     "execution_count": 28,
     "metadata": {},
     "output_type": "execute_result"
    }
   ],
   "source": [
    "antonyms = []\n",
    "for syn in wn.synsets(\"girl\"):\n",
    "    for l in syn.lemmas():\n",
    "        if l.antonyms():\n",
    "            antonyms.append(l.antonyms()[0].name())\n",
    "antonyms"
   ]
  },
  {
   "cell_type": "markdown",
   "metadata": {},
   "source": [
    "## 4. Chunking and Entity Recognition"
   ]
  },
  {
   "cell_type": "markdown",
   "metadata": {},
   "source": [
    "The goal of chunking is to divide a sentence into chunks. Usually each chunk contains a **head** and optionally additionally words and modifiers. Examples of chunks include noun groups and verb groups."
   ]
  },
  {
   "cell_type": "markdown",
   "metadata": {},
   "source": [
    "### 4.1. Chunking"
   ]
  },
  {
   "cell_type": "code",
   "execution_count": 36,
   "metadata": {},
   "outputs": [],
   "source": [
    "# !sudo apt-get install python3-tk \n",
    "from nltk.chunk import RegexpParser"
   ]
  },
  {
   "cell_type": "markdown",
   "metadata": {},
   "source": [
    "In order to create a chunker, we need to first define a **chunk grammar**, consisting of rules that indicate how sentences should be chunked. \n",
    "\n",
    "We can define a simple grammar for a noun phrase (NP) chunker with a single regular-expression rule. This rule says that an NP chunk should be formed whenever the chunker finds an optional determiner (`DT`) followed by any number of adjectives (`JJ`) and then a noun (`NN`).\n",
    "\n",
    "Note how grammatical structures which are not noun phrases are not chunked, which is totally fine:"
   ]
  },
  {
   "cell_type": "code",
   "execution_count": 37,
   "metadata": {},
   "outputs": [],
   "source": [
    "grammar = \"NP: {<DT>?<JJ>*<NN>}\""
   ]
  },
  {
   "cell_type": "code",
   "execution_count": 38,
   "metadata": {},
   "outputs": [
    {
     "data": {
      "image/png": "[encoded data removed]",
      "text/plain": [
       "Tree('S', [('that', 'DT'), ('puts', 'VBZ'), Tree('NP', [('a', 'DT'), ('considerable', 'JJ'), ('challenge', 'NN')]), ('on', 'IN'), Tree('NP', [('a', 'DT'), ('speaker', 'NN')]), ('who', 'WP'), ('is', 'VBZ'), ('going', 'VBG'), ('to', 'TO'), ('speak', 'VB'), ('on', 'IN'), Tree('NP', [('the', 'DT'), ('relation', 'NN')]), ('of', 'IN'), ('physics', 'NNS'), ('and', 'CC'), ('mathematics', 'NNS'), Tree('NP', [('a', 'DT'), ('challenge', 'NN')]), ('which', 'WDT'), Tree('NP', [('i', 'NN')]), (',', ','), ('however', 'RB'), (',', ','), ('will', 'MD'), ('not', 'RB'), ('accept', 'VB'), (':', ':'), Tree('NP', [('i', 'NN')]), ('published', 'VBD'), Tree('NP', [('the', 'DT'), ('title', 'NN')]), ('of', 'IN'), Tree('NP', [('the', 'DT'), ('talk', 'NN')]), ('in', 'IN'), ('clear', 'JJ'), ('and', 'CC'), Tree('NP', [('precise', 'JJ'), ('language', 'NN')]), (',', ','), ('and', 'CC'), ('didn', 'VB'), ('’', 'JJ'), ('t', 'NNS'), ('make', 'VBP'), ('it', 'PRP'), ('sound', 'VBZ'), ('like', 'IN'), ('it', 'PRP'), ('was', 'VBD'), Tree('NP', [('something', 'NN')]), ('it', 'PRP'), ('wasn', 'VBZ'), ('’', 'JJ'), ('t', 'IN'), ('it', 'PRP'), ('’', 'VBZ'), ('s', 'PDT'), Tree('NP', [('the', 'DT'), ('relation', 'NN')]), ('of', 'IN'), ('physics', 'NNS'), ('and', 'CC'), ('mathematics', 'NNS'), ('and', 'CC'), ('if', 'IN'), ('you', 'PRP'), ('find', 'VBP'), ('that', 'IN'), ('in', 'IN'), ('some', 'DT'), ('spots', 'NNS'), ('it', 'PRP'), ('assumes', 'VBZ'), Tree('NP', [('some', 'DT'), ('minor', 'JJ'), ('knowledge', 'NN')]), ('of', 'IN'), ('physics', 'NNS'), ('or', 'CC'), ('mathematics', 'NNS'), (',', ','), ('i', 'NNS'), ('can', 'MD'), ('not', 'RB'), ('help', 'VB'), ('it', 'PRP'), ('.', '.')])"
      ]
     },
     "execution_count": 38,
     "metadata": {},
     "output_type": "execute_result"
    }
   ],
   "source": [
    "chunker = RegexpParser(grammar)\n",
    "result = chunker.parse(tags)\n",
    "result"
   ]
  },
  {
   "cell_type": "markdown",
   "metadata": {},
   "source": [
    "### 4.2. Entity Recognition"
   ]
  },
  {
   "cell_type": "markdown",
   "metadata": {},
   "source": [
    "The goal of entity recogintion is to detect entities such as Person, Location, Time, etc."
   ]
  },
  {
   "cell_type": "code",
   "execution_count": 39,
   "metadata": {},
   "outputs": [
    {
     "data": {
      "image/png": "[encoded data removed]",
      "text/plain": [
       "Tree('S', [('that', 'DT'), ('puts', 'VBZ'), ('a', 'DT'), ('considerable', 'JJ'), ('challenge', 'NN'), ('on', 'IN'), ('a', 'DT'), ('speaker', 'NN'), ('who', 'WP'), ('is', 'VBZ'), ('going', 'VBG'), ('to', 'TO'), ('speak', 'VB'), ('on', 'IN'), ('the', 'DT'), ('relation', 'NN'), ('of', 'IN'), ('physics', 'NNS'), ('and', 'CC'), ('mathematics', 'NNS'), ('a', 'DT'), ('challenge', 'NN'), ('which', 'WDT'), ('i', 'NN'), (',', ','), ('however', 'RB'), (',', ','), ('will', 'MD'), ('not', 'RB'), ('accept', 'VB'), (':', ':'), ('i', 'NN'), ('published', 'VBD'), ('the', 'DT'), ('title', 'NN'), ('of', 'IN'), ('the', 'DT'), ('talk', 'NN'), ('in', 'IN'), ('clear', 'JJ'), ('and', 'CC'), ('precise', 'JJ'), ('language', 'NN'), (',', ','), ('and', 'CC'), ('didn', 'VB'), ('’', 'JJ'), ('t', 'NNS'), ('make', 'VBP'), ('it', 'PRP'), ('sound', 'VBZ'), ('like', 'IN'), ('it', 'PRP'), ('was', 'VBD'), ('something', 'NN'), ('it', 'PRP'), ('wasn', 'VBZ'), ('’', 'JJ'), ('t', 'IN'), ('it', 'PRP'), ('’', 'VBZ'), ('s', 'PDT'), ('the', 'DT'), ('relation', 'NN'), ('of', 'IN'), ('physics', 'NNS'), ('and', 'CC'), ('mathematics', 'NNS'), ('and', 'CC'), ('if', 'IN'), ('you', 'PRP'), ('find', 'VBP'), ('that', 'IN'), ('in', 'IN'), ('some', 'DT'), ('spots', 'NNS'), ('it', 'PRP'), ('assumes', 'VBZ'), ('some', 'DT'), ('minor', 'JJ'), ('knowledge', 'NN'), ('of', 'IN'), ('physics', 'NNS'), ('or', 'CC'), ('mathematics', 'NNS'), (',', ','), ('i', 'NNS'), ('can', 'MD'), ('not', 'RB'), ('help', 'VB'), ('it', 'PRP'), ('.', '.')])"
      ]
     },
     "execution_count": 39,
     "metadata": {},
     "output_type": "execute_result"
    }
   ],
   "source": [
    "from nltk.chunk import ne_chunk # ne = named entity\n",
    "ne_chunk(tags)"
   ]
  },
  {
   "cell_type": "markdown",
   "metadata": {},
   "source": [
    "Note `ne_chunk` was unable to detect any entities in our sentence. That is because it is quite limited, being able to recognize only the following entities: \n",
    "> FACILITY, GPE (Geo-Political Entity), GSP (Geo-Socio-Political group), LOCATION, ORGANIZATION, PERSON "
   ]
  },
  {
   "cell_type": "code",
   "execution_count": null,
   "metadata": {},
   "outputs": [],
   "source": []
  }
 ],
 "metadata": {
  "kernelspec": {
   "display_name": "Python 3",
   "language": "python",
   "name": "python3"
  },
  "language_info": {
   "codemirror_mode": {
    "name": "ipython",
    "version": 3
   },
   "file_extension": ".py",
   "mimetype": "text/x-python",
   "name": "python",
   "nbconvert_exporter": "python",
   "pygments_lexer": "ipython3",
   "version": "3.8.5"
  }
 },
 "nbformat": 4,
 "nbformat_minor": 2
}
