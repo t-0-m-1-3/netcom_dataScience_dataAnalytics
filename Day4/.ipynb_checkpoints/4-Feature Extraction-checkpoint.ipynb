{
 "cells": [
  {
   "cell_type": "markdown",
   "metadata": {
    "slideshow": {
     "slide_type": "slide"
    }
   },
   "source": [
    "### Running a Logistic Regression Model on Multiple Features\n",
    "----"
   ]
  },
  {
   "cell_type": "code",
   "execution_count": 1,
   "metadata": {
    "slideshow": {
     "slide_type": "subslide"
    }
   },
   "outputs": [
    {
     "name": "stderr",
     "output_type": "stream",
     "text": [
      "/usr/lib/python3/dist-packages/IPython/core/interactiveshell.py:2714: DtypeWarning: Columns (19,55) have mixed types. Specify dtype option on import or set low_memory=False.\n",
      "  interactivity=interactivity, compiler=compiler, result=result)\n"
     ]
    }
   ],
   "source": [
    "#!/usr/bin/env python3\n",
    "# -*- coding: utf-8 -*-\n",
    "\"\"\"\n",
    "Created on Fri Oct  5 11:00:56 2018\n",
    "\n",
    "@author: RaviPandey\n",
    "\"\"\"\n",
    "\n",
    "\n",
    "# =============================================================================\n",
    "# Importing Libraries\n",
    "# =============================================================================\n",
    "\n",
    "import numpy as np\n",
    "import pandas as pd\n",
    "\n",
    "\n",
    "# =============================================================================\n",
    "# Loading and Exploring data\n",
    "# =============================================================================\n",
    "\n",
    "df = pd.read_csv('../data/loan.csv')\n",
    "\n",
    "df = df.loc[ 0:10000, ['loan_amnt', 'int_rate', 'annual_inc', 'inq_last_6mths', \n",
    "                   'open_acc', 'revol_bal', 'revol_util', 'total_acc', 'dti',\n",
    "                   'term', 'grade', 'home_ownership', 'verification_status',\n",
    "                        'purpose', 'delinq_2yrs', 'loan_status']]\n",
    "\n"
   ]
  },
  {
   "cell_type": "code",
   "execution_count": 2,
   "metadata": {
    "slideshow": {
     "slide_type": "subslide"
    }
   },
   "outputs": [
    {
     "data": {
      "text/plain": [
       "(10001, 16)"
      ]
     },
     "execution_count": 2,
     "metadata": {},
     "output_type": "execute_result"
    }
   ],
   "source": [
    "# dimension of the dataframe\n",
    "df.shape\n"
   ]
  },
  {
   "cell_type": "code",
   "execution_count": 3,
   "metadata": {
    "slideshow": {
     "slide_type": "fragment"
    }
   },
   "outputs": [
    {
     "data": {
      "text/plain": [
       "Index(['loan_amnt', 'int_rate', 'annual_inc', 'inq_last_6mths', 'open_acc',\n",
       "       'revol_bal', 'revol_util', 'total_acc', 'dti', 'term', 'grade',\n",
       "       'home_ownership', 'verification_status', 'purpose', 'delinq_2yrs',\n",
       "       'loan_status'],\n",
       "      dtype='object')"
      ]
     },
     "execution_count": 3,
     "metadata": {},
     "output_type": "execute_result"
    }
   ],
   "source": [
    "\n",
    "# Exploring column names\n",
    "df.columns\n",
    "\n"
   ]
  },
  {
   "cell_type": "code",
   "execution_count": 4,
   "metadata": {
    "slideshow": {
     "slide_type": "subslide"
    }
   },
   "outputs": [
    {
     "data": {
      "text/html": [
       "<div>\n",
       "<style scoped>\n",
       "    .dataframe tbody tr th:only-of-type {\n",
       "        vertical-align: middle;\n",
       "    }\n",
       "\n",
       "    .dataframe tbody tr th {\n",
       "        vertical-align: top;\n",
       "    }\n",
       "\n",
       "    .dataframe thead th {\n",
       "        text-align: right;\n",
       "    }\n",
       "</style>\n",
       "<table border=\"1\" class=\"dataframe\">\n",
       "  <thead>\n",
       "    <tr style=\"text-align: right;\">\n",
       "      <th></th>\n",
       "      <th>loan_amnt</th>\n",
       "      <th>int_rate</th>\n",
       "      <th>annual_inc</th>\n",
       "      <th>inq_last_6mths</th>\n",
       "      <th>open_acc</th>\n",
       "      <th>revol_bal</th>\n",
       "      <th>revol_util</th>\n",
       "      <th>total_acc</th>\n",
       "      <th>dti</th>\n",
       "      <th>term</th>\n",
       "      <th>grade</th>\n",
       "      <th>home_ownership</th>\n",
       "      <th>verification_status</th>\n",
       "      <th>purpose</th>\n",
       "      <th>delinq_2yrs</th>\n",
       "      <th>loan_status</th>\n",
       "    </tr>\n",
       "  </thead>\n",
       "  <tbody>\n",
       "    <tr>\n",
       "      <th>0</th>\n",
       "      <td>5000.0</td>\n",
       "      <td>10.65</td>\n",
       "      <td>24000.0</td>\n",
       "      <td>1.0</td>\n",
       "      <td>3.0</td>\n",
       "      <td>13648.0</td>\n",
       "      <td>83.7</td>\n",
       "      <td>9.0</td>\n",
       "      <td>27.65</td>\n",
       "      <td>36 months</td>\n",
       "      <td>B</td>\n",
       "      <td>RENT</td>\n",
       "      <td>Verified</td>\n",
       "      <td>credit_card</td>\n",
       "      <td>0.0</td>\n",
       "      <td>Fully Paid</td>\n",
       "    </tr>\n",
       "    <tr>\n",
       "      <th>1</th>\n",
       "      <td>2500.0</td>\n",
       "      <td>15.27</td>\n",
       "      <td>30000.0</td>\n",
       "      <td>5.0</td>\n",
       "      <td>3.0</td>\n",
       "      <td>1687.0</td>\n",
       "      <td>9.4</td>\n",
       "      <td>4.0</td>\n",
       "      <td>1.00</td>\n",
       "      <td>60 months</td>\n",
       "      <td>C</td>\n",
       "      <td>RENT</td>\n",
       "      <td>Source Verified</td>\n",
       "      <td>car</td>\n",
       "      <td>0.0</td>\n",
       "      <td>Charged Off</td>\n",
       "    </tr>\n",
       "    <tr>\n",
       "      <th>2</th>\n",
       "      <td>2400.0</td>\n",
       "      <td>15.96</td>\n",
       "      <td>12252.0</td>\n",
       "      <td>2.0</td>\n",
       "      <td>2.0</td>\n",
       "      <td>2956.0</td>\n",
       "      <td>98.5</td>\n",
       "      <td>10.0</td>\n",
       "      <td>8.72</td>\n",
       "      <td>36 months</td>\n",
       "      <td>C</td>\n",
       "      <td>RENT</td>\n",
       "      <td>Not Verified</td>\n",
       "      <td>small_business</td>\n",
       "      <td>0.0</td>\n",
       "      <td>Fully Paid</td>\n",
       "    </tr>\n",
       "    <tr>\n",
       "      <th>3</th>\n",
       "      <td>10000.0</td>\n",
       "      <td>13.49</td>\n",
       "      <td>49200.0</td>\n",
       "      <td>1.0</td>\n",
       "      <td>10.0</td>\n",
       "      <td>5598.0</td>\n",
       "      <td>21.0</td>\n",
       "      <td>37.0</td>\n",
       "      <td>20.00</td>\n",
       "      <td>36 months</td>\n",
       "      <td>C</td>\n",
       "      <td>RENT</td>\n",
       "      <td>Source Verified</td>\n",
       "      <td>other</td>\n",
       "      <td>0.0</td>\n",
       "      <td>Fully Paid</td>\n",
       "    </tr>\n",
       "    <tr>\n",
       "      <th>4</th>\n",
       "      <td>3000.0</td>\n",
       "      <td>12.69</td>\n",
       "      <td>80000.0</td>\n",
       "      <td>0.0</td>\n",
       "      <td>15.0</td>\n",
       "      <td>27783.0</td>\n",
       "      <td>53.9</td>\n",
       "      <td>38.0</td>\n",
       "      <td>17.94</td>\n",
       "      <td>60 months</td>\n",
       "      <td>B</td>\n",
       "      <td>RENT</td>\n",
       "      <td>Source Verified</td>\n",
       "      <td>other</td>\n",
       "      <td>0.0</td>\n",
       "      <td>Current</td>\n",
       "    </tr>\n",
       "  </tbody>\n",
       "</table>\n",
       "</div>"
      ],
      "text/plain": [
       "   loan_amnt  int_rate  annual_inc  inq_last_6mths  open_acc  revol_bal  \\\n",
       "0     5000.0     10.65     24000.0             1.0       3.0    13648.0   \n",
       "1     2500.0     15.27     30000.0             5.0       3.0     1687.0   \n",
       "2     2400.0     15.96     12252.0             2.0       2.0     2956.0   \n",
       "3    10000.0     13.49     49200.0             1.0      10.0     5598.0   \n",
       "4     3000.0     12.69     80000.0             0.0      15.0    27783.0   \n",
       "\n",
       "   revol_util  total_acc    dti        term grade home_ownership  \\\n",
       "0        83.7        9.0  27.65   36 months     B           RENT   \n",
       "1         9.4        4.0   1.00   60 months     C           RENT   \n",
       "2        98.5       10.0   8.72   36 months     C           RENT   \n",
       "3        21.0       37.0  20.00   36 months     C           RENT   \n",
       "4        53.9       38.0  17.94   60 months     B           RENT   \n",
       "\n",
       "  verification_status         purpose  delinq_2yrs  loan_status  \n",
       "0            Verified     credit_card          0.0   Fully Paid  \n",
       "1     Source Verified             car          0.0  Charged Off  \n",
       "2        Not Verified  small_business          0.0   Fully Paid  \n",
       "3     Source Verified           other          0.0   Fully Paid  \n",
       "4     Source Verified           other          0.0      Current  "
      ]
     },
     "execution_count": 4,
     "metadata": {},
     "output_type": "execute_result"
    }
   ],
   "source": [
    "# Exploring first few records\n",
    "df.head()\n",
    "\n"
   ]
  },
  {
   "cell_type": "code",
   "execution_count": 5,
   "metadata": {
    "slideshow": {
     "slide_type": "subslide"
    }
   },
   "outputs": [
    {
     "name": "stdout",
     "output_type": "stream",
     "text": [
      "<class 'pandas.core.frame.DataFrame'>\n",
      "RangeIndex: 10001 entries, 0 to 10000\n",
      "Data columns (total 16 columns):\n",
      "loan_amnt              10001 non-null float64\n",
      "int_rate               10001 non-null float64\n",
      "annual_inc             10001 non-null float64\n",
      "inq_last_6mths         10001 non-null float64\n",
      "open_acc               10001 non-null float64\n",
      "revol_bal              10001 non-null float64\n",
      "revol_util             9998 non-null float64\n",
      "total_acc              10001 non-null float64\n",
      "dti                    10001 non-null float64\n",
      "term                   10001 non-null object\n",
      "grade                  10001 non-null object\n",
      "home_ownership         10001 non-null object\n",
      "verification_status    10001 non-null object\n",
      "purpose                10001 non-null object\n",
      "delinq_2yrs            10001 non-null float64\n",
      "loan_status            10001 non-null object\n",
      "dtypes: float64(10), object(6)\n",
      "memory usage: 1.2+ MB\n"
     ]
    }
   ],
   "source": [
    "# Getting summarized information\n",
    "df.info()\n"
   ]
  },
  {
   "cell_type": "code",
   "execution_count": 6,
   "metadata": {
    "slideshow": {
     "slide_type": "subslide"
    }
   },
   "outputs": [],
   "source": [
    "\n",
    "numeric_features = ['loan_amnt', 'int_rate', 'annual_inc', 'inq_last_6mths', \n",
    "                   'open_acc', 'revol_bal', 'revol_util', 'total_acc', 'dti']\n",
    "\n",
    "categorical_features = ['term', 'grade', 'home_ownership', 'verification_status',\n",
    "                        'purpose', 'delinq_2yrs']\n",
    "\n"
   ]
  },
  {
   "cell_type": "code",
   "execution_count": 7,
   "metadata": {
    "slideshow": {
     "slide_type": "subslide"
    }
   },
   "outputs": [],
   "source": [
    "# =============================================================================\n",
    "# Applying Transformation to numeric variable\n",
    "# =============================================================================\n",
    "\n",
    "\n",
    "# Imputer - missing Value\n",
    "# StandardScaler\n",
    "# MaxAbsScaler\n",
    "# MinMaxScaler\n",
    "# QuantileTransformers - Uniform Distribution\n",
    "# PowerTransformer - Gaussian Distrbution\n",
    "# Normalizer\n",
    "# FunctionTransformer - Custom Transformer\n",
    "\n",
    "from sklearn.pipeline import Pipeline\n",
    "from sklearn.impute import SimpleImputer\n",
    "from sklearn.preprocessing import FunctionTransformer\n"
   ]
  },
  {
   "cell_type": "code",
   "execution_count": 8,
   "metadata": {
    "slideshow": {
     "slide_type": "subslide"
    }
   },
   "outputs": [],
   "source": [
    "\n",
    "numeric_transformer = Pipeline(steps=[\n",
    "        ('imputer', SimpleImputer(missing_values=np.nan, strategy='median')),\n",
    "        ('log_transformer', FunctionTransformer(np.sqrt))])\n",
    "  \n"
   ]
  },
  {
   "cell_type": "code",
   "execution_count": 9,
   "metadata": {
    "slideshow": {
     "slide_type": "fragment"
    }
   },
   "outputs": [],
   "source": [
    "\n",
    "# =============================================================================\n",
    "# Applying transformation to Categorical Variable\n",
    "# =============================================================================\n",
    "\n",
    "\n",
    "from sklearn.preprocessing import OneHotEncoder\n",
    "   \n",
    "categorical_transformer = Pipeline(steps=[\n",
    "        ('imputer', SimpleImputer(missing_values=np.nan, strategy='most_frequent')),\n",
    "        ('onehot' , OneHotEncoder(sparse=False))])\n"
   ]
  },
  {
   "cell_type": "code",
   "execution_count": 10,
   "metadata": {
    "slideshow": {
     "slide_type": "subslide"
    }
   },
   "outputs": [],
   "source": [
    "# =============================================================================\n",
    "# Creating Preprocessor\n",
    "# =============================================================================\n",
    "\n",
    "from sklearn.compose import ColumnTransformer\n",
    "    \n",
    "preprocessor = ColumnTransformer(\n",
    "    transformers=[\n",
    "        ('num', numeric_transformer, numeric_features),\n",
    "        ('cat', categorical_transformer, categorical_features)])\n"
   ]
  },
  {
   "cell_type": "code",
   "execution_count": 11,
   "metadata": {
    "slideshow": {
     "slide_type": "subslide"
    }
   },
   "outputs": [],
   "source": [
    "# =============================================================================\n",
    "# Model\n",
    "# =============================================================================\n",
    "\n",
    "from sklearn.linear_model import LogisticRegression\n",
    "    \n",
    "model = Pipeline(steps=[\n",
    "        ('preprocess', preprocessor),\n",
    "        ('lr_model', LogisticRegression())])\n"
   ]
  },
  {
   "cell_type": "code",
   "execution_count": 12,
   "metadata": {
    "slideshow": {
     "slide_type": "subslide"
    }
   },
   "outputs": [],
   "source": [
    "\n",
    "# =============================================================================\n",
    "# Applying Model\n",
    "# =============================================================================\n",
    "X = df.drop('loan_status', axis=1)\n",
    "X = X.iloc[1:1000, :]\n",
    "y = np.where(df['loan_status'].isin(['Charged Off', 'Default']), 1, 0)\n",
    "y = y[1:1000]\n",
    "\n",
    "def file_modify(dataset):\n",
    "    print(\"Start\")\n",
    "    dataset['home_ownership'] = np.where(\n",
    "            dataset.home_ownership.isin(['NONE', 'ANY']), 'MORTGAGE', \n",
    "            dataset.home_ownership)\n",
    "    dataset['purpose'] = np.where(\n",
    "            dataset.purpose.isin(['debt_consolidation', 'credit_card', 'home_improvement']), \n",
    "            dataset.purpose, \n",
    "            'other')\n",
    "    dataset['delinq_2yrs'] = np.where(\n",
    "            dataset.delinq_2yrs > 0, 1, 0 )\n",
    "    return dataset\n"
   ]
  },
  {
   "cell_type": "code",
   "execution_count": 13,
   "metadata": {
    "slideshow": {
     "slide_type": "subslide"
    }
   },
   "outputs": [
    {
     "name": "stdout",
     "output_type": "stream",
     "text": [
      "Start\n"
     ]
    }
   ],
   "source": [
    "\n",
    "X = file_modify(X)"
   ]
  },
  {
   "cell_type": "code",
   "execution_count": 14,
   "metadata": {
    "slideshow": {
     "slide_type": "fragment"
    }
   },
   "outputs": [
    {
     "name": "stderr",
     "output_type": "stream",
     "text": [
      "/usr/lib/python3/dist-packages/sklearn/preprocessing/_function_transformer.py:98: FutureWarning: The default validate=True will be replaced by validate=False in 0.22.\n",
      "  \"validate=False in 0.22.\", FutureWarning)\n",
      "/usr/lib/python3/dist-packages/sklearn/preprocessing/_function_transformer.py:98: FutureWarning: The default validate=True will be replaced by validate=False in 0.22.\n",
      "  \"validate=False in 0.22.\", FutureWarning)\n",
      "/usr/lib/python3/dist-packages/sklearn/linear_model/logistic.py:433: FutureWarning: Default solver will be changed to 'lbfgs' in 0.22. Specify a solver to silence this warning.\n",
      "  FutureWarning)\n"
     ]
    },
    {
     "data": {
      "text/plain": [
       "Pipeline(memory=None,\n",
       "     steps=[('preprocess', ColumnTransformer(n_jobs=None, remainder='drop', sparse_threshold=0.3,\n",
       "         transformer_weights=None,\n",
       "         transformers=[('num', Pipeline(memory=None,\n",
       "     steps=[('imputer', SimpleImputer(copy=True, fill_value=None, missing_values=nan,\n",
       "       strategy='median', verbose...penalty='l2', random_state=None, solver='warn',\n",
       "          tol=0.0001, verbose=0, warm_start=False))])"
      ]
     },
     "execution_count": 14,
     "metadata": {},
     "output_type": "execute_result"
    }
   ],
   "source": [
    "model.fit(X, y)\n"
   ]
  },
  {
   "cell_type": "code",
   "execution_count": 15,
   "metadata": {
    "slideshow": {
     "slide_type": "subslide"
    }
   },
   "outputs": [
    {
     "name": "stderr",
     "output_type": "stream",
     "text": [
      "/usr/lib/python3/dist-packages/sklearn/preprocessing/_function_transformer.py:98: FutureWarning: The default validate=True will be replaced by validate=False in 0.22.\n",
      "  \"validate=False in 0.22.\", FutureWarning)\n"
     ]
    }
   ],
   "source": [
    "pred = model.predict(X)\n"
   ]
  },
  {
   "cell_type": "code",
   "execution_count": 16,
   "metadata": {
    "slideshow": {
     "slide_type": "fragment"
    }
   },
   "outputs": [
    {
     "data": {
      "text/plain": [
       "['first_go.joblib']"
      ]
     },
     "execution_count": 16,
     "metadata": {},
     "output_type": "execute_result"
    }
   ],
   "source": [
    "# =============================================================================\n",
    "# Dumping Model\n",
    "# =============================================================================\n",
    "from sklearn.externals import joblib\n",
    "\n",
    "joblib.dump(model, 'first_go.joblib')"
   ]
  },
  {
   "cell_type": "markdown",
   "metadata": {
    "slideshow": {
     "slide_type": "slide"
    }
   },
   "source": [
    "## Feature Extraction\n",
    "--- \n",
    "Select the K-Best Features"
   ]
  },
  {
   "cell_type": "code",
   "execution_count": 17,
   "metadata": {
    "slideshow": {
     "slide_type": "subslide"
    }
   },
   "outputs": [
    {
     "name": "stderr",
     "output_type": "stream",
     "text": [
      "/usr/lib/python3/dist-packages/IPython/core/interactiveshell.py:2714: DtypeWarning: Columns (19,55) have mixed types. Specify dtype option on import or set low_memory=False.\n",
      "  interactivity=interactivity, compiler=compiler, result=result)\n"
     ]
    }
   ],
   "source": [
    "#!/usr/bin/env python3\n",
    "# -*- coding: utf-8 -*-\n",
    "\"\"\"\n",
    "Created on Fri Oct  5 13:40:11 2018\n",
    "\n",
    "@author: RaviPandey\n",
    "\"\"\"\n",
    "\n",
    "# =============================================================================\n",
    "# Importing Libraries\n",
    "# =============================================================================\n",
    "\n",
    "import numpy as np\n",
    "import pandas as pd\n",
    "\n",
    "# =============================================================================\n",
    "# Loading and Exploring data\n",
    "# =============================================================================\n",
    "\n",
    "df = pd.read_csv('../data/loan.csv')\n",
    "\n",
    "df = df.loc[ 0:9999, ['loan_amnt', 'int_rate', 'annual_inc', 'inq_last_6mths', \n",
    "                   'open_acc', 'revol_bal', 'revol_util', 'total_acc', 'dti',\n",
    "                   'term', 'grade', 'home_ownership', 'verification_status',\n",
    "                        'purpose', 'delinq_2yrs', 'loan_status']]"
   ]
  },
  {
   "cell_type": "code",
   "execution_count": 18,
   "metadata": {
    "slideshow": {
     "slide_type": "subslide"
    }
   },
   "outputs": [
    {
     "data": {
      "text/plain": [
       "(10000, 16)"
      ]
     },
     "execution_count": 18,
     "metadata": {},
     "output_type": "execute_result"
    }
   ],
   "source": [
    "# dimension of the dataframe\n",
    "df.shape"
   ]
  },
  {
   "cell_type": "code",
   "execution_count": 19,
   "metadata": {
    "slideshow": {
     "slide_type": "fragment"
    }
   },
   "outputs": [
    {
     "data": {
      "text/plain": [
       "Index(['loan_amnt', 'int_rate', 'annual_inc', 'inq_last_6mths', 'open_acc',\n",
       "       'revol_bal', 'revol_util', 'total_acc', 'dti', 'term', 'grade',\n",
       "       'home_ownership', 'verification_status', 'purpose', 'delinq_2yrs',\n",
       "       'loan_status'],\n",
       "      dtype='object')"
      ]
     },
     "execution_count": 19,
     "metadata": {},
     "output_type": "execute_result"
    }
   ],
   "source": [
    "# Exploring column names\n",
    "df.columns"
   ]
  },
  {
   "cell_type": "code",
   "execution_count": 20,
   "metadata": {
    "slideshow": {
     "slide_type": "subslide"
    }
   },
   "outputs": [
    {
     "data": {
      "text/html": [
       "<div>\n",
       "<style scoped>\n",
       "    .dataframe tbody tr th:only-of-type {\n",
       "        vertical-align: middle;\n",
       "    }\n",
       "\n",
       "    .dataframe tbody tr th {\n",
       "        vertical-align: top;\n",
       "    }\n",
       "\n",
       "    .dataframe thead th {\n",
       "        text-align: right;\n",
       "    }\n",
       "</style>\n",
       "<table border=\"1\" class=\"dataframe\">\n",
       "  <thead>\n",
       "    <tr style=\"text-align: right;\">\n",
       "      <th></th>\n",
       "      <th>loan_amnt</th>\n",
       "      <th>int_rate</th>\n",
       "      <th>annual_inc</th>\n",
       "      <th>inq_last_6mths</th>\n",
       "      <th>open_acc</th>\n",
       "      <th>revol_bal</th>\n",
       "      <th>revol_util</th>\n",
       "      <th>total_acc</th>\n",
       "      <th>dti</th>\n",
       "      <th>term</th>\n",
       "      <th>grade</th>\n",
       "      <th>home_ownership</th>\n",
       "      <th>verification_status</th>\n",
       "      <th>purpose</th>\n",
       "      <th>delinq_2yrs</th>\n",
       "      <th>loan_status</th>\n",
       "    </tr>\n",
       "  </thead>\n",
       "  <tbody>\n",
       "    <tr>\n",
       "      <th>0</th>\n",
       "      <td>5000.0</td>\n",
       "      <td>10.65</td>\n",
       "      <td>24000.0</td>\n",
       "      <td>1.0</td>\n",
       "      <td>3.0</td>\n",
       "      <td>13648.0</td>\n",
       "      <td>83.7</td>\n",
       "      <td>9.0</td>\n",
       "      <td>27.65</td>\n",
       "      <td>36 months</td>\n",
       "      <td>B</td>\n",
       "      <td>RENT</td>\n",
       "      <td>Verified</td>\n",
       "      <td>credit_card</td>\n",
       "      <td>0.0</td>\n",
       "      <td>Fully Paid</td>\n",
       "    </tr>\n",
       "    <tr>\n",
       "      <th>1</th>\n",
       "      <td>2500.0</td>\n",
       "      <td>15.27</td>\n",
       "      <td>30000.0</td>\n",
       "      <td>5.0</td>\n",
       "      <td>3.0</td>\n",
       "      <td>1687.0</td>\n",
       "      <td>9.4</td>\n",
       "      <td>4.0</td>\n",
       "      <td>1.00</td>\n",
       "      <td>60 months</td>\n",
       "      <td>C</td>\n",
       "      <td>RENT</td>\n",
       "      <td>Source Verified</td>\n",
       "      <td>car</td>\n",
       "      <td>0.0</td>\n",
       "      <td>Charged Off</td>\n",
       "    </tr>\n",
       "    <tr>\n",
       "      <th>2</th>\n",
       "      <td>2400.0</td>\n",
       "      <td>15.96</td>\n",
       "      <td>12252.0</td>\n",
       "      <td>2.0</td>\n",
       "      <td>2.0</td>\n",
       "      <td>2956.0</td>\n",
       "      <td>98.5</td>\n",
       "      <td>10.0</td>\n",
       "      <td>8.72</td>\n",
       "      <td>36 months</td>\n",
       "      <td>C</td>\n",
       "      <td>RENT</td>\n",
       "      <td>Not Verified</td>\n",
       "      <td>small_business</td>\n",
       "      <td>0.0</td>\n",
       "      <td>Fully Paid</td>\n",
       "    </tr>\n",
       "    <tr>\n",
       "      <th>3</th>\n",
       "      <td>10000.0</td>\n",
       "      <td>13.49</td>\n",
       "      <td>49200.0</td>\n",
       "      <td>1.0</td>\n",
       "      <td>10.0</td>\n",
       "      <td>5598.0</td>\n",
       "      <td>21.0</td>\n",
       "      <td>37.0</td>\n",
       "      <td>20.00</td>\n",
       "      <td>36 months</td>\n",
       "      <td>C</td>\n",
       "      <td>RENT</td>\n",
       "      <td>Source Verified</td>\n",
       "      <td>other</td>\n",
       "      <td>0.0</td>\n",
       "      <td>Fully Paid</td>\n",
       "    </tr>\n",
       "    <tr>\n",
       "      <th>4</th>\n",
       "      <td>3000.0</td>\n",
       "      <td>12.69</td>\n",
       "      <td>80000.0</td>\n",
       "      <td>0.0</td>\n",
       "      <td>15.0</td>\n",
       "      <td>27783.0</td>\n",
       "      <td>53.9</td>\n",
       "      <td>38.0</td>\n",
       "      <td>17.94</td>\n",
       "      <td>60 months</td>\n",
       "      <td>B</td>\n",
       "      <td>RENT</td>\n",
       "      <td>Source Verified</td>\n",
       "      <td>other</td>\n",
       "      <td>0.0</td>\n",
       "      <td>Current</td>\n",
       "    </tr>\n",
       "  </tbody>\n",
       "</table>\n",
       "</div>"
      ],
      "text/plain": [
       "   loan_amnt  int_rate  annual_inc  inq_last_6mths  open_acc  revol_bal  \\\n",
       "0     5000.0     10.65     24000.0             1.0       3.0    13648.0   \n",
       "1     2500.0     15.27     30000.0             5.0       3.0     1687.0   \n",
       "2     2400.0     15.96     12252.0             2.0       2.0     2956.0   \n",
       "3    10000.0     13.49     49200.0             1.0      10.0     5598.0   \n",
       "4     3000.0     12.69     80000.0             0.0      15.0    27783.0   \n",
       "\n",
       "   revol_util  total_acc    dti        term grade home_ownership  \\\n",
       "0        83.7        9.0  27.65   36 months     B           RENT   \n",
       "1         9.4        4.0   1.00   60 months     C           RENT   \n",
       "2        98.5       10.0   8.72   36 months     C           RENT   \n",
       "3        21.0       37.0  20.00   36 months     C           RENT   \n",
       "4        53.9       38.0  17.94   60 months     B           RENT   \n",
       "\n",
       "  verification_status         purpose  delinq_2yrs  loan_status  \n",
       "0            Verified     credit_card          0.0   Fully Paid  \n",
       "1     Source Verified             car          0.0  Charged Off  \n",
       "2        Not Verified  small_business          0.0   Fully Paid  \n",
       "3     Source Verified           other          0.0   Fully Paid  \n",
       "4     Source Verified           other          0.0      Current  "
      ]
     },
     "execution_count": 20,
     "metadata": {},
     "output_type": "execute_result"
    }
   ],
   "source": [
    "# Exploring first few records\n",
    "df.head()\n"
   ]
  },
  {
   "cell_type": "code",
   "execution_count": 21,
   "metadata": {
    "slideshow": {
     "slide_type": "subslide"
    }
   },
   "outputs": [
    {
     "name": "stdout",
     "output_type": "stream",
     "text": [
      "<class 'pandas.core.frame.DataFrame'>\n",
      "RangeIndex: 10000 entries, 0 to 9999\n",
      "Data columns (total 16 columns):\n",
      "loan_amnt              10000 non-null float64\n",
      "int_rate               10000 non-null float64\n",
      "annual_inc             10000 non-null float64\n",
      "inq_last_6mths         10000 non-null float64\n",
      "open_acc               10000 non-null float64\n",
      "revol_bal              10000 non-null float64\n",
      "revol_util             9997 non-null float64\n",
      "total_acc              10000 non-null float64\n",
      "dti                    10000 non-null float64\n",
      "term                   10000 non-null object\n",
      "grade                  10000 non-null object\n",
      "home_ownership         10000 non-null object\n",
      "verification_status    10000 non-null object\n",
      "purpose                10000 non-null object\n",
      "delinq_2yrs            10000 non-null float64\n",
      "loan_status            10000 non-null object\n",
      "dtypes: float64(10), object(6)\n",
      "memory usage: 1.2+ MB\n"
     ]
    }
   ],
   "source": [
    "# Getting summarized information\n",
    "df.info()\n",
    "\n",
    "numeric_features = ['loan_amnt', 'int_rate', 'annual_inc', 'inq_last_6mths', \n",
    "                   'open_acc', 'revol_bal', 'revol_util', 'total_acc', 'dti']\n",
    "\n",
    "categorical_features = ['term', 'grade', 'home_ownership', 'verification_status',\n",
    "                        'purpose', 'delinq_2yrs']\n"
   ]
  },
  {
   "cell_type": "code",
   "execution_count": 22,
   "metadata": {
    "slideshow": {
     "slide_type": "subslide"
    }
   },
   "outputs": [],
   "source": [
    "# =============================================================================\n",
    "# Applying Transformation to numeric variable\n",
    "# =============================================================================\n",
    "\n",
    "\n",
    "# Imputer - missing Value\n",
    "# StandardScaler\n",
    "# MaxAbsScaler\n",
    "# MinMaxScaler\n",
    "# QuantileTransformers - Uniform Distribution\n",
    "# PowerTransformer - Gaussian Distrbution\n",
    "# Normalizer\n",
    "# FunctionTransformer - Custom Transformer\n",
    "\n",
    "from sklearn.pipeline import Pipeline\n",
    "from sklearn.impute import SimpleImputer\n",
    "from sklearn.preprocessing import FunctionTransformer\n",
    "\n",
    "\n",
    "numeric_transformer = Pipeline(steps=[\n",
    "        ('imputer', SimpleImputer(missing_values=np.nan, strategy='median')),\n",
    "        ('log_transformer', FunctionTransformer(np.sqrt))])\n"
   ]
  },
  {
   "cell_type": "code",
   "execution_count": 23,
   "metadata": {
    "slideshow": {
     "slide_type": "subslide"
    }
   },
   "outputs": [],
   "source": [
    "# =============================================================================\n",
    "# Applying transformation to Categorical Variable\n",
    "# =============================================================================\n",
    "\n",
    "\n",
    "from sklearn.preprocessing import OneHotEncoder\n",
    "   \n",
    "categorical_transformer = Pipeline(steps=[\n",
    "        ('imputer', SimpleImputer(missing_values=np.nan, strategy='most_frequent')),\n",
    "        ('onehot' , OneHotEncoder(sparse=False))])\n"
   ]
  },
  {
   "cell_type": "code",
   "execution_count": 24,
   "metadata": {
    "slideshow": {
     "slide_type": "fragment"
    }
   },
   "outputs": [],
   "source": [
    "# =============================================================================\n",
    "# Creating Preprocessor\n",
    "# =============================================================================\n",
    "\n",
    "from sklearn.compose import ColumnTransformer\n",
    "    \n",
    "preprocessor = ColumnTransformer(\n",
    "    transformers=[\n",
    "        ('num', numeric_transformer, numeric_features),\n",
    "        ('cat', categorical_transformer, categorical_features)])\n"
   ]
  },
  {
   "cell_type": "code",
   "execution_count": 25,
   "metadata": {
    "slideshow": {
     "slide_type": "subslide"
    }
   },
   "outputs": [],
   "source": [
    "# =============================================================================\n",
    "# Feature Selection - Select K best Features\n",
    "# =============================================================================\n",
    "\n",
    "from sklearn.feature_selection import SelectKBest\n",
    "from sklearn.feature_selection import chi2\n",
    "\n",
    "# f_regression, mutual_info_regression\n",
    "# For classification: chi2, f_classif, mutual_info_classif\n"
   ]
  },
  {
   "cell_type": "code",
   "execution_count": 26,
   "metadata": {
    "slideshow": {
     "slide_type": "subslide"
    }
   },
   "outputs": [],
   "source": [
    "# =============================================================================\n",
    "# Model with feature selection\n",
    "# =============================================================================\n",
    "\n",
    "from sklearn.linear_model import LogisticRegression\n",
    "    \n",
    "model = Pipeline(steps=[\n",
    "        ('preprocess', preprocessor),\n",
    "        ('feature_selection', SelectKBest(score_func= chi2, k = 5) ),\n",
    "        ('lr_model', LogisticRegression())])\n"
   ]
  },
  {
   "cell_type": "code",
   "execution_count": 27,
   "metadata": {
    "slideshow": {
     "slide_type": "subslide"
    }
   },
   "outputs": [],
   "source": [
    "# =============================================================================\n",
    "# Applying Model\n",
    "# =============================================================================\n",
    "X = df.drop('loan_status', axis=1)\n",
    "X = X.iloc[1:1000, :]\n",
    "y = np.where(df['loan_status'].isin(['Charged Off', 'Default']), 1, 0)\n",
    "y = y[1:1000]\n"
   ]
  },
  {
   "cell_type": "code",
   "execution_count": 28,
   "metadata": {
    "slideshow": {
     "slide_type": "subslide"
    }
   },
   "outputs": [],
   "source": [
    "def file_modify(dataset):\n",
    "    print(\"Start\")\n",
    "    dataset['home_ownership'] = np.where(\n",
    "            dataset.home_ownership.isin(['NONE', 'ANY']), 'MORTGAGE', \n",
    "            dataset.home_ownership)\n",
    "    dataset['purpose'] = np.where(\n",
    "            dataset.purpose.isin(['debt_consolidation', 'credit_card', 'home_improvement']), \n",
    "            dataset.purpose, \n",
    "            'other')\n",
    "    dataset['delinq_2yrs'] = np.where(\n",
    "            dataset.delinq_2yrs > 0, 1, 0 )\n",
    "    return dataset\n"
   ]
  },
  {
   "cell_type": "code",
   "execution_count": 29,
   "metadata": {
    "slideshow": {
     "slide_type": "fragment"
    }
   },
   "outputs": [
    {
     "name": "stdout",
     "output_type": "stream",
     "text": [
      "Start\n"
     ]
    },
    {
     "name": "stderr",
     "output_type": "stream",
     "text": [
      "/usr/lib/python3/dist-packages/sklearn/preprocessing/_function_transformer.py:98: FutureWarning: The default validate=True will be replaced by validate=False in 0.22.\n",
      "  \"validate=False in 0.22.\", FutureWarning)\n",
      "/usr/lib/python3/dist-packages/sklearn/preprocessing/_function_transformer.py:98: FutureWarning: The default validate=True will be replaced by validate=False in 0.22.\n",
      "  \"validate=False in 0.22.\", FutureWarning)\n",
      "/usr/lib/python3/dist-packages/sklearn/linear_model/logistic.py:433: FutureWarning: Default solver will be changed to 'lbfgs' in 0.22. Specify a solver to silence this warning.\n",
      "  FutureWarning)\n",
      "/usr/lib/python3/dist-packages/sklearn/preprocessing/_function_transformer.py:98: FutureWarning: The default validate=True will be replaced by validate=False in 0.22.\n",
      "  \"validate=False in 0.22.\", FutureWarning)\n"
     ]
    }
   ],
   "source": [
    "X = file_modify(X)\n",
    "\n",
    "model.fit(X, y)\n",
    "\n",
    "pred = model.predict(X)\n"
   ]
  },
  {
   "cell_type": "code",
   "execution_count": 30,
   "metadata": {
    "slideshow": {
     "slide_type": "fragment"
    }
   },
   "outputs": [
    {
     "data": {
      "text/plain": [
       "['model_with_feature_selection_1.joblib']"
      ]
     },
     "execution_count": 30,
     "metadata": {},
     "output_type": "execute_result"
    }
   ],
   "source": [
    "# =============================================================================\n",
    "# Dumping Model\n",
    "# =============================================================================\n",
    "\n",
    "from sklearn.externals import joblib\n",
    "\n",
    "joblib.dump(model, 'model_with_feature_selection_1.joblib')"
   ]
  },
  {
   "cell_type": "markdown",
   "metadata": {
    "slideshow": {
     "slide_type": "slide"
    }
   },
   "source": [
    "### Feature Extraction: Select From Models\n",
    "----"
   ]
  },
  {
   "cell_type": "code",
   "execution_count": 31,
   "metadata": {
    "slideshow": {
     "slide_type": "subslide"
    }
   },
   "outputs": [
    {
     "name": "stderr",
     "output_type": "stream",
     "text": [
      "/usr/lib/python3/dist-packages/IPython/core/interactiveshell.py:2714: DtypeWarning: Columns (19,55) have mixed types. Specify dtype option on import or set low_memory=False.\n",
      "  interactivity=interactivity, compiler=compiler, result=result)\n"
     ]
    }
   ],
   "source": [
    "#!/usr/bin/env python3\n",
    "# -*- coding: utf-8 -*-\n",
    "\"\"\"\n",
    "Created on Fri Oct  5 13:40:11 2018\n",
    "\n",
    "@author: RaviPandey\n",
    "\"\"\"\n",
    "\n",
    "# =============================================================================\n",
    "# Importing Libraries\n",
    "# =============================================================================\n",
    "\n",
    "import numpy as np\n",
    "import pandas as pd\n",
    "\n",
    "\n",
    "# =============================================================================\n",
    "# Loading and Exploring data\n",
    "# =============================================================================\n",
    "\n",
    "df = pd.read_csv('../data/loan.csv')\n",
    "\n",
    "df = df.loc[ 0:9999, ['loan_amnt', 'int_rate', 'annual_inc', 'inq_last_6mths', \n",
    "                   'open_acc', 'revol_bal', 'revol_util', 'total_acc', 'dti',\n",
    "                   'term', 'grade', 'home_ownership', 'verification_status',\n",
    "                        'purpose', 'delinq_2yrs', 'loan_status']]\n"
   ]
  },
  {
   "cell_type": "code",
   "execution_count": 32,
   "metadata": {
    "slideshow": {
     "slide_type": "subslide"
    }
   },
   "outputs": [
    {
     "name": "stdout",
     "output_type": "stream",
     "text": [
      "<class 'pandas.core.frame.DataFrame'>\n",
      "RangeIndex: 10000 entries, 0 to 9999\n",
      "Data columns (total 16 columns):\n",
      "loan_amnt              10000 non-null float64\n",
      "int_rate               10000 non-null float64\n",
      "annual_inc             10000 non-null float64\n",
      "inq_last_6mths         10000 non-null float64\n",
      "open_acc               10000 non-null float64\n",
      "revol_bal              10000 non-null float64\n",
      "revol_util             9997 non-null float64\n",
      "total_acc              10000 non-null float64\n",
      "dti                    10000 non-null float64\n",
      "term                   10000 non-null object\n",
      "grade                  10000 non-null object\n",
      "home_ownership         10000 non-null object\n",
      "verification_status    10000 non-null object\n",
      "purpose                10000 non-null object\n",
      "delinq_2yrs            10000 non-null float64\n",
      "loan_status            10000 non-null object\n",
      "dtypes: float64(10), object(6)\n",
      "memory usage: 1.2+ MB\n"
     ]
    }
   ],
   "source": [
    "# dimension of the dataframe\n",
    "df.shape\n",
    "\n",
    "# Exploring column names\n",
    "df.columns\n",
    "\n",
    "# Exploring first few records\n",
    "df.head()\n",
    "\n",
    "# Getting summarized information\n",
    "df.info()\n"
   ]
  },
  {
   "cell_type": "code",
   "execution_count": 33,
   "metadata": {
    "slideshow": {
     "slide_type": "subslide"
    }
   },
   "outputs": [],
   "source": [
    "\n",
    "\n",
    "numeric_features = ['loan_amnt', 'int_rate', 'annual_inc', 'inq_last_6mths', \n",
    "                   'open_acc', 'revol_bal', 'revol_util', 'total_acc', 'dti']\n",
    "\n",
    "categorical_features = ['term', 'grade', 'home_ownership', 'verification_status',\n",
    "                        'purpose', 'delinq_2yrs']\n",
    "\n",
    "\n",
    "\n",
    "\n",
    "\n",
    "\n"
   ]
  },
  {
   "cell_type": "code",
   "execution_count": 34,
   "metadata": {
    "slideshow": {
     "slide_type": "subslide"
    }
   },
   "outputs": [],
   "source": [
    "# =============================================================================\n",
    "# Applying Transformation to numeric variable\n",
    "# =============================================================================\n",
    "\n",
    "\n",
    "# Imputer - missing Value\n",
    "# StandardScaler\n",
    "# MaxAbsScaler\n",
    "# MinMaxScaler\n",
    "# QuantileTransformers - Uniform Distribution\n",
    "# PowerTransformer - Gaussian Distrbution\n",
    "# Normalizer\n",
    "# FunctionTransformer - Custom Transformer\n",
    "\n",
    "from sklearn.pipeline import Pipeline\n",
    "from sklearn.impute import SimpleImputer\n",
    "from sklearn.preprocessing import FunctionTransformer\n",
    "\n",
    "\n",
    "numeric_transformer = Pipeline(steps=[\n",
    "        ('imputer', SimpleImputer(missing_values=np.nan, strategy='median')),\n",
    "        ('log_transformer', FunctionTransformer(np.sqrt))])\n"
   ]
  },
  {
   "cell_type": "code",
   "execution_count": 35,
   "metadata": {
    "slideshow": {
     "slide_type": "subslide"
    }
   },
   "outputs": [],
   "source": [
    "# =============================================================================\n",
    "# Applying transformation to Categorical Variable\n",
    "# =============================================================================\n",
    "\n",
    "\n",
    "from sklearn.preprocessing import OneHotEncoder\n",
    "   \n",
    "categorical_transformer = Pipeline(steps=[\n",
    "        ('imputer', SimpleImputer(missing_values=np.nan, strategy='most_frequent')),\n",
    "        ('onehot' , OneHotEncoder(sparse=False))])\n"
   ]
  },
  {
   "cell_type": "code",
   "execution_count": 36,
   "metadata": {
    "slideshow": {
     "slide_type": "subslide"
    }
   },
   "outputs": [],
   "source": [
    "# =============================================================================\n",
    "# Creating Preprocessor\n",
    "# =============================================================================\n",
    "\n",
    "from sklearn.compose import ColumnTransformer\n",
    "    \n",
    "preprocessor = ColumnTransformer(\n",
    "    transformers=[\n",
    "        ('num', numeric_transformer, numeric_features),\n",
    "        ('cat', categorical_transformer, categorical_features)])\n"
   ]
  },
  {
   "cell_type": "code",
   "execution_count": 37,
   "metadata": {
    "slideshow": {
     "slide_type": "subslide"
    }
   },
   "outputs": [],
   "source": [
    "# =============================================================================\n",
    "# Feature Selection - Select from models\n",
    "# =============================================================================\n",
    "\n",
    "from sklearn import linear_model\n",
    "reg = linear_model.Lasso(alpha = 0.1)\n",
    "\n",
    "from sklearn.feature_selection import SelectFromModel\n"
   ]
  },
  {
   "cell_type": "code",
   "execution_count": 38,
   "metadata": {
    "slideshow": {
     "slide_type": "fragment"
    }
   },
   "outputs": [],
   "source": [
    "# =============================================================================\n",
    "# Model with feature selection\n",
    "# =============================================================================\n",
    "\n",
    "from sklearn.linear_model import LogisticRegression\n",
    "    \n",
    "model = Pipeline(steps=[\n",
    "        ('preprocess', preprocessor),\n",
    "        ('feature_selection', SelectFromModel(reg) ),\n",
    "        ('lr_model', LogisticRegression())])\n"
   ]
  },
  {
   "cell_type": "code",
   "execution_count": 39,
   "metadata": {
    "slideshow": {
     "slide_type": "subslide"
    }
   },
   "outputs": [],
   "source": [
    "# =============================================================================\n",
    "# Applying Model\n",
    "# =============================================================================\n",
    "\n",
    "\n",
    "\n",
    "X = df.drop('loan_status', axis=1)\n",
    "X = X.iloc[1:1000, :]\n",
    "y = np.where(df['loan_status'].isin(['Charged Off', 'Default']), 1, 0)\n",
    "y = y[1:1000]\n"
   ]
  },
  {
   "cell_type": "code",
   "execution_count": 40,
   "metadata": {
    "slideshow": {
     "slide_type": "fragment"
    }
   },
   "outputs": [],
   "source": [
    "def file_modify(dataset):\n",
    "    print(\"Start\")\n",
    "    dataset['home_ownership'] = np.where(\n",
    "            dataset.home_ownership.isin(['NONE', 'ANY']), 'MORTGAGE', \n",
    "            dataset.home_ownership)\n",
    "    dataset['purpose'] = np.where(\n",
    "            dataset.purpose.isin(['debt_consolidation', 'credit_card', 'home_improvement']), \n",
    "            dataset.purpose, \n",
    "            'other')\n",
    "    dataset['delinq_2yrs'] = np.where(\n",
    "            dataset.delinq_2yrs > 0, 1, 0 )\n",
    "    return dataset\n"
   ]
  },
  {
   "cell_type": "code",
   "execution_count": 41,
   "metadata": {
    "slideshow": {
     "slide_type": "subslide"
    }
   },
   "outputs": [
    {
     "name": "stdout",
     "output_type": "stream",
     "text": [
      "Start\n"
     ]
    },
    {
     "name": "stderr",
     "output_type": "stream",
     "text": [
      "/usr/lib/python3/dist-packages/sklearn/preprocessing/_function_transformer.py:98: FutureWarning: The default validate=True will be replaced by validate=False in 0.22.\n",
      "  \"validate=False in 0.22.\", FutureWarning)\n",
      "/usr/lib/python3/dist-packages/sklearn/preprocessing/_function_transformer.py:98: FutureWarning: The default validate=True will be replaced by validate=False in 0.22.\n",
      "  \"validate=False in 0.22.\", FutureWarning)\n",
      "/usr/lib/python3/dist-packages/sklearn/linear_model/logistic.py:433: FutureWarning: Default solver will be changed to 'lbfgs' in 0.22. Specify a solver to silence this warning.\n",
      "  FutureWarning)\n",
      "/usr/lib/python3/dist-packages/sklearn/preprocessing/_function_transformer.py:98: FutureWarning: The default validate=True will be replaced by validate=False in 0.22.\n",
      "  \"validate=False in 0.22.\", FutureWarning)\n"
     ]
    }
   ],
   "source": [
    "X = file_modify(X)\n",
    "\n",
    "model.fit(X, y)\n",
    "\n",
    "pred = model.predict(X)\n"
   ]
  },
  {
   "cell_type": "code",
   "execution_count": 42,
   "metadata": {
    "slideshow": {
     "slide_type": "fragment"
    }
   },
   "outputs": [
    {
     "data": {
      "text/plain": [
       "['model_with_feature_selection_2.joblib']"
      ]
     },
     "execution_count": 42,
     "metadata": {},
     "output_type": "execute_result"
    }
   ],
   "source": [
    "# =============================================================================\n",
    "# Dumping Model\n",
    "# =============================================================================\n",
    "\n",
    "\n",
    "from sklearn.externals import joblib\n",
    "\n",
    "joblib.dump(model, 'model_with_feature_selection_2.joblib')\n"
   ]
  },
  {
   "cell_type": "markdown",
   "metadata": {
    "slideshow": {
     "slide_type": "slide"
    }
   },
   "source": [
    "### Adding Another Feature Extraction\n",
    "----\n",
    "* PCA - Dimensionality Reduction"
   ]
  },
  {
   "cell_type": "code",
   "execution_count": 43,
   "metadata": {
    "slideshow": {
     "slide_type": "subslide"
    }
   },
   "outputs": [],
   "source": [
    "#!/usr/bin/env python3\n",
    "# -*- coding: utf-8 -*-\n",
    "\"\"\"\n",
    "Created on Fri Oct  5 13:40:11 2018\n",
    "\n",
    "@author: RaviPandey\n",
    "\"\"\"\n",
    "\n",
    "# =============================================================================\n",
    "# Importing Libraries\n",
    "# =============================================================================\n",
    "\n",
    "import numpy as np\n",
    "import pandas as pd"
   ]
  },
  {
   "cell_type": "code",
   "execution_count": 44,
   "metadata": {
    "slideshow": {
     "slide_type": "subslide"
    }
   },
   "outputs": [
    {
     "name": "stderr",
     "output_type": "stream",
     "text": [
      "/usr/lib/python3/dist-packages/IPython/core/interactiveshell.py:2714: DtypeWarning: Columns (19,55) have mixed types. Specify dtype option on import or set low_memory=False.\n",
      "  interactivity=interactivity, compiler=compiler, result=result)\n"
     ]
    }
   ],
   "source": [
    "# =============================================================================\n",
    "# Loading and Exploring data\n",
    "# =============================================================================\n",
    "\n",
    "df = pd.read_csv('../data/loan.csv')\n",
    "\n",
    "df = df.loc[ 0:9999, ['loan_amnt', 'int_rate', 'annual_inc', 'inq_last_6mths', \n",
    "                   'open_acc', 'revol_bal', 'revol_util', 'total_acc', 'dti',\n",
    "                   'term', 'grade', 'home_ownership', 'verification_status',\n",
    "                        'purpose', 'delinq_2yrs', 'loan_status']]\n"
   ]
  },
  {
   "cell_type": "code",
   "execution_count": 45,
   "metadata": {
    "slideshow": {
     "slide_type": "subslide"
    }
   },
   "outputs": [
    {
     "data": {
      "text/plain": [
       "(10000, 16)"
      ]
     },
     "execution_count": 45,
     "metadata": {},
     "output_type": "execute_result"
    }
   ],
   "source": [
    "# dimension of the dataframe\n",
    "df.shape"
   ]
  },
  {
   "cell_type": "code",
   "execution_count": 46,
   "metadata": {
    "slideshow": {
     "slide_type": "fragment"
    }
   },
   "outputs": [
    {
     "data": {
      "text/plain": [
       "Index(['loan_amnt', 'int_rate', 'annual_inc', 'inq_last_6mths', 'open_acc',\n",
       "       'revol_bal', 'revol_util', 'total_acc', 'dti', 'term', 'grade',\n",
       "       'home_ownership', 'verification_status', 'purpose', 'delinq_2yrs',\n",
       "       'loan_status'],\n",
       "      dtype='object')"
      ]
     },
     "execution_count": 46,
     "metadata": {},
     "output_type": "execute_result"
    }
   ],
   "source": [
    "# Exploring column names\n",
    "df.columns\n"
   ]
  },
  {
   "cell_type": "code",
   "execution_count": 47,
   "metadata": {
    "slideshow": {
     "slide_type": "fragment"
    }
   },
   "outputs": [
    {
     "data": {
      "text/html": [
       "<div>\n",
       "<style scoped>\n",
       "    .dataframe tbody tr th:only-of-type {\n",
       "        vertical-align: middle;\n",
       "    }\n",
       "\n",
       "    .dataframe tbody tr th {\n",
       "        vertical-align: top;\n",
       "    }\n",
       "\n",
       "    .dataframe thead th {\n",
       "        text-align: right;\n",
       "    }\n",
       "</style>\n",
       "<table border=\"1\" class=\"dataframe\">\n",
       "  <thead>\n",
       "    <tr style=\"text-align: right;\">\n",
       "      <th></th>\n",
       "      <th>loan_amnt</th>\n",
       "      <th>int_rate</th>\n",
       "      <th>annual_inc</th>\n",
       "      <th>inq_last_6mths</th>\n",
       "      <th>open_acc</th>\n",
       "      <th>revol_bal</th>\n",
       "      <th>revol_util</th>\n",
       "      <th>total_acc</th>\n",
       "      <th>dti</th>\n",
       "      <th>term</th>\n",
       "      <th>grade</th>\n",
       "      <th>home_ownership</th>\n",
       "      <th>verification_status</th>\n",
       "      <th>purpose</th>\n",
       "      <th>delinq_2yrs</th>\n",
       "      <th>loan_status</th>\n",
       "    </tr>\n",
       "  </thead>\n",
       "  <tbody>\n",
       "    <tr>\n",
       "      <th>0</th>\n",
       "      <td>5000.0</td>\n",
       "      <td>10.65</td>\n",
       "      <td>24000.0</td>\n",
       "      <td>1.0</td>\n",
       "      <td>3.0</td>\n",
       "      <td>13648.0</td>\n",
       "      <td>83.7</td>\n",
       "      <td>9.0</td>\n",
       "      <td>27.65</td>\n",
       "      <td>36 months</td>\n",
       "      <td>B</td>\n",
       "      <td>RENT</td>\n",
       "      <td>Verified</td>\n",
       "      <td>credit_card</td>\n",
       "      <td>0.0</td>\n",
       "      <td>Fully Paid</td>\n",
       "    </tr>\n",
       "    <tr>\n",
       "      <th>1</th>\n",
       "      <td>2500.0</td>\n",
       "      <td>15.27</td>\n",
       "      <td>30000.0</td>\n",
       "      <td>5.0</td>\n",
       "      <td>3.0</td>\n",
       "      <td>1687.0</td>\n",
       "      <td>9.4</td>\n",
       "      <td>4.0</td>\n",
       "      <td>1.00</td>\n",
       "      <td>60 months</td>\n",
       "      <td>C</td>\n",
       "      <td>RENT</td>\n",
       "      <td>Source Verified</td>\n",
       "      <td>car</td>\n",
       "      <td>0.0</td>\n",
       "      <td>Charged Off</td>\n",
       "    </tr>\n",
       "    <tr>\n",
       "      <th>2</th>\n",
       "      <td>2400.0</td>\n",
       "      <td>15.96</td>\n",
       "      <td>12252.0</td>\n",
       "      <td>2.0</td>\n",
       "      <td>2.0</td>\n",
       "      <td>2956.0</td>\n",
       "      <td>98.5</td>\n",
       "      <td>10.0</td>\n",
       "      <td>8.72</td>\n",
       "      <td>36 months</td>\n",
       "      <td>C</td>\n",
       "      <td>RENT</td>\n",
       "      <td>Not Verified</td>\n",
       "      <td>small_business</td>\n",
       "      <td>0.0</td>\n",
       "      <td>Fully Paid</td>\n",
       "    </tr>\n",
       "    <tr>\n",
       "      <th>3</th>\n",
       "      <td>10000.0</td>\n",
       "      <td>13.49</td>\n",
       "      <td>49200.0</td>\n",
       "      <td>1.0</td>\n",
       "      <td>10.0</td>\n",
       "      <td>5598.0</td>\n",
       "      <td>21.0</td>\n",
       "      <td>37.0</td>\n",
       "      <td>20.00</td>\n",
       "      <td>36 months</td>\n",
       "      <td>C</td>\n",
       "      <td>RENT</td>\n",
       "      <td>Source Verified</td>\n",
       "      <td>other</td>\n",
       "      <td>0.0</td>\n",
       "      <td>Fully Paid</td>\n",
       "    </tr>\n",
       "    <tr>\n",
       "      <th>4</th>\n",
       "      <td>3000.0</td>\n",
       "      <td>12.69</td>\n",
       "      <td>80000.0</td>\n",
       "      <td>0.0</td>\n",
       "      <td>15.0</td>\n",
       "      <td>27783.0</td>\n",
       "      <td>53.9</td>\n",
       "      <td>38.0</td>\n",
       "      <td>17.94</td>\n",
       "      <td>60 months</td>\n",
       "      <td>B</td>\n",
       "      <td>RENT</td>\n",
       "      <td>Source Verified</td>\n",
       "      <td>other</td>\n",
       "      <td>0.0</td>\n",
       "      <td>Current</td>\n",
       "    </tr>\n",
       "  </tbody>\n",
       "</table>\n",
       "</div>"
      ],
      "text/plain": [
       "   loan_amnt  int_rate  annual_inc  inq_last_6mths  open_acc  revol_bal  \\\n",
       "0     5000.0     10.65     24000.0             1.0       3.0    13648.0   \n",
       "1     2500.0     15.27     30000.0             5.0       3.0     1687.0   \n",
       "2     2400.0     15.96     12252.0             2.0       2.0     2956.0   \n",
       "3    10000.0     13.49     49200.0             1.0      10.0     5598.0   \n",
       "4     3000.0     12.69     80000.0             0.0      15.0    27783.0   \n",
       "\n",
       "   revol_util  total_acc    dti        term grade home_ownership  \\\n",
       "0        83.7        9.0  27.65   36 months     B           RENT   \n",
       "1         9.4        4.0   1.00   60 months     C           RENT   \n",
       "2        98.5       10.0   8.72   36 months     C           RENT   \n",
       "3        21.0       37.0  20.00   36 months     C           RENT   \n",
       "4        53.9       38.0  17.94   60 months     B           RENT   \n",
       "\n",
       "  verification_status         purpose  delinq_2yrs  loan_status  \n",
       "0            Verified     credit_card          0.0   Fully Paid  \n",
       "1     Source Verified             car          0.0  Charged Off  \n",
       "2        Not Verified  small_business          0.0   Fully Paid  \n",
       "3     Source Verified           other          0.0   Fully Paid  \n",
       "4     Source Verified           other          0.0      Current  "
      ]
     },
     "execution_count": 47,
     "metadata": {},
     "output_type": "execute_result"
    }
   ],
   "source": [
    "# Exploring first few records\n",
    "df.head()\n"
   ]
  },
  {
   "cell_type": "code",
   "execution_count": 48,
   "metadata": {
    "slideshow": {
     "slide_type": "subslide"
    }
   },
   "outputs": [
    {
     "name": "stdout",
     "output_type": "stream",
     "text": [
      "<class 'pandas.core.frame.DataFrame'>\n",
      "RangeIndex: 10000 entries, 0 to 9999\n",
      "Data columns (total 16 columns):\n",
      "loan_amnt              10000 non-null float64\n",
      "int_rate               10000 non-null float64\n",
      "annual_inc             10000 non-null float64\n",
      "inq_last_6mths         10000 non-null float64\n",
      "open_acc               10000 non-null float64\n",
      "revol_bal              10000 non-null float64\n",
      "revol_util             9997 non-null float64\n",
      "total_acc              10000 non-null float64\n",
      "dti                    10000 non-null float64\n",
      "term                   10000 non-null object\n",
      "grade                  10000 non-null object\n",
      "home_ownership         10000 non-null object\n",
      "verification_status    10000 non-null object\n",
      "purpose                10000 non-null object\n",
      "delinq_2yrs            10000 non-null float64\n",
      "loan_status            10000 non-null object\n",
      "dtypes: float64(10), object(6)\n",
      "memory usage: 1.2+ MB\n"
     ]
    }
   ],
   "source": [
    "# Getting summarized information\n",
    "df.info()\n",
    "\n",
    "numeric_features = ['loan_amnt', 'int_rate', 'annual_inc', 'inq_last_6mths', \n",
    "                   'open_acc', 'revol_bal', 'revol_util', 'total_acc', 'dti']\n",
    "\n",
    "categorical_features = ['term', 'grade', 'home_ownership', 'verification_status',\n",
    "                        'purpose', 'delinq_2yrs']\n"
   ]
  },
  {
   "cell_type": "code",
   "execution_count": 49,
   "metadata": {
    "slideshow": {
     "slide_type": "subslide"
    }
   },
   "outputs": [],
   "source": [
    "# =============================================================================\n",
    "# Applying Transformation to numeric variable\n",
    "# =============================================================================\n",
    "\n",
    "\n",
    "# Imputer - missing Value\n",
    "# StandardScaler\n",
    "# MaxAbsScaler\n",
    "# MinMaxScaler\n",
    "# QuantileTransformers - Uniform Distribution\n",
    "# PowerTransformer - Gaussian Distrbution\n",
    "# Normalizer\n",
    "# FunctionTransformer - Custom Transformer\n",
    "\n",
    "from sklearn.pipeline import Pipeline\n",
    "from sklearn.impute import SimpleImputer\n",
    "from sklearn.preprocessing import FunctionTransformer\n",
    "from sklearn.preprocessing import StandardScaler\n",
    "\n",
    "\n",
    "numeric_transformer = Pipeline(steps=[\n",
    "        ('imputer', SimpleImputer(missing_values=np.nan, strategy='median'))])\n"
   ]
  },
  {
   "cell_type": "code",
   "execution_count": 50,
   "metadata": {
    "slideshow": {
     "slide_type": "subslide"
    }
   },
   "outputs": [],
   "source": [
    "# =============================================================================\n",
    "# Applying transformation to Categorical Variable\n",
    "# =============================================================================\n",
    "\n",
    "\n",
    "from sklearn.preprocessing import OneHotEncoder\n",
    "   \n",
    "categorical_transformer = Pipeline(steps=[\n",
    "        ('imputer', SimpleImputer(missing_values=np.nan, strategy='most_frequent')),\n",
    "        ('onehot' , OneHotEncoder(sparse=False))])\n"
   ]
  },
  {
   "cell_type": "code",
   "execution_count": 51,
   "metadata": {
    "slideshow": {
     "slide_type": "subslide"
    }
   },
   "outputs": [],
   "source": [
    "# =============================================================================\n",
    "# Creating Preprocessor\n",
    "# =============================================================================\n",
    "\n",
    "from sklearn.compose import ColumnTransformer\n",
    "    \n",
    "preprocessor = ColumnTransformer(\n",
    "    transformers=[\n",
    "        ('num', numeric_transformer, numeric_features),\n",
    "        ('cat', categorical_transformer, categorical_features)])\n",
    "\n"
   ]
  },
  {
   "cell_type": "code",
   "execution_count": 52,
   "metadata": {
    "slideshow": {
     "slide_type": "subslide"
    }
   },
   "outputs": [],
   "source": [
    "# =============================================================================\n",
    "# Dimensionality Reduction - PCA\n",
    "# =============================================================================\n",
    "\n",
    "from sklearn.decomposition import PCA\n",
    "\n",
    "pca_model = PCA(n_components=3)\n"
   ]
  },
  {
   "cell_type": "code",
   "execution_count": 53,
   "metadata": {
    "slideshow": {
     "slide_type": "subslide"
    }
   },
   "outputs": [],
   "source": [
    "# =============================================================================\n",
    "# Model with feature selection\n",
    "# =============================================================================\n",
    "\n",
    "from sklearn.linear_model import LogisticRegression\n",
    "    \n",
    "model = Pipeline(steps=[\n",
    "        ('preprocess', preprocessor),\n",
    "        ('scaling', StandardScaler()),\n",
    "        ('feature_selection', pca_model ),\n",
    "        ('lr_model', LogisticRegression())])\n"
   ]
  },
  {
   "cell_type": "code",
   "execution_count": 54,
   "metadata": {
    "slideshow": {
     "slide_type": "subslide"
    }
   },
   "outputs": [],
   "source": [
    "# =============================================================================\n",
    "# Applying Model\n",
    "# =============================================================================\n",
    "X = df.drop('loan_status', axis=1)\n",
    "X = X.iloc[1:1000, :]\n",
    "y = np.where(df['loan_status'].isin(['Charged Off', 'Default']), 1, 0)\n",
    "y = y[1:1000]\n",
    "\n",
    "def file_modify(dataset):\n",
    "    print(\"Start\")\n",
    "    dataset['home_ownership'] = np.where(\n",
    "            dataset.home_ownership.isin(['NONE', 'ANY']), 'MORTGAGE', \n",
    "            dataset.home_ownership)\n",
    "    dataset['purpose'] = np.where(\n",
    "            dataset.purpose.isin(['debt_consolidation', 'credit_card', 'home_improvement']), \n",
    "            dataset.purpose, \n",
    "            'other')\n",
    "    dataset['delinq_2yrs'] = np.where(\n",
    "            dataset.delinq_2yrs > 0, 1, 0 )\n",
    "    return dataset\n"
   ]
  },
  {
   "cell_type": "code",
   "execution_count": 55,
   "metadata": {
    "slideshow": {
     "slide_type": "subslide"
    }
   },
   "outputs": [
    {
     "name": "stdout",
     "output_type": "stream",
     "text": [
      "Start\n"
     ]
    }
   ],
   "source": [
    "X = file_modify(X)\n"
   ]
  },
  {
   "cell_type": "code",
   "execution_count": 56,
   "metadata": {
    "slideshow": {
     "slide_type": "fragment"
    }
   },
   "outputs": [
    {
     "name": "stderr",
     "output_type": "stream",
     "text": [
      "/usr/lib/python3/dist-packages/sklearn/linear_model/logistic.py:433: FutureWarning: Default solver will be changed to 'lbfgs' in 0.22. Specify a solver to silence this warning.\n",
      "  FutureWarning)\n"
     ]
    },
    {
     "data": {
      "text/plain": [
       "Pipeline(memory=None,\n",
       "     steps=[('preprocess', ColumnTransformer(n_jobs=None, remainder='drop', sparse_threshold=0.3,\n",
       "         transformer_weights=None,\n",
       "         transformers=[('num', Pipeline(memory=None,\n",
       "     steps=[('imputer', SimpleImputer(copy=True, fill_value=None, missing_values=nan,\n",
       "       strategy='median', verbose...penalty='l2', random_state=None, solver='warn',\n",
       "          tol=0.0001, verbose=0, warm_start=False))])"
      ]
     },
     "execution_count": 56,
     "metadata": {},
     "output_type": "execute_result"
    }
   ],
   "source": [
    "model.fit(X, y)\n"
   ]
  },
  {
   "cell_type": "code",
   "execution_count": 57,
   "metadata": {
    "slideshow": {
     "slide_type": "subslide"
    }
   },
   "outputs": [],
   "source": [
    "pred = model.predict(X)\n"
   ]
  },
  {
   "cell_type": "code",
   "execution_count": 58,
   "metadata": {
    "slideshow": {
     "slide_type": "fragment"
    }
   },
   "outputs": [
    {
     "data": {
      "text/plain": [
       "['model_with_feature_selection_3.joblib']"
      ]
     },
     "execution_count": 58,
     "metadata": {},
     "output_type": "execute_result"
    }
   ],
   "source": [
    "# =============================================================================\n",
    "# Dumping Model\n",
    "# =============================================================================\n",
    "\n",
    "\n",
    "from sklearn.externals import joblib\n",
    "\n",
    "joblib.dump(model, 'model_with_feature_selection_3.joblib')\n"
   ]
  }
 ],
 "metadata": {
  "celltoolbar": "Slideshow",
  "kernelspec": {
   "display_name": "Python 3",
   "language": "python",
   "name": "python3"
  },
  "language_info": {
   "codemirror_mode": {
    "name": "ipython",
    "version": 3
   },
   "file_extension": ".py",
   "mimetype": "text/x-python",
   "name": "python",
   "nbconvert_exporter": "python",
   "pygments_lexer": "ipython3",
   "version": "3.7.1"
  }
 },
 "nbformat": 4,
 "nbformat_minor": 2
}
