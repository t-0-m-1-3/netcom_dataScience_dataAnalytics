{
 "cells": [
  {
   "cell_type": "markdown",
   "metadata": {
    "slideshow": {
     "slide_type": "slide"
    }
   },
   "source": [
    "### Running a Logistic Regression Model on Multiple Features\n",
    "----"
   ]
  },
  {
   "cell_type": "code",
   "execution_count": 77,
   "metadata": {
    "slideshow": {
     "slide_type": "subslide"
    }
   },
   "outputs": [
    {
     "name": "stderr",
     "output_type": "stream",
     "text": [
      "/usr/lib/python3/dist-packages/IPython/core/interactiveshell.py:3062: DtypeWarning: Columns (19,55) have mixed types.Specify dtype option on import or set low_memory=False.\n",
      "  has_raised = await self.run_ast_nodes(code_ast.body, cell_name,\n"
     ]
    }
   ],
   "source": [
    "#!/usr/bin/env python3\n",
    "# -*- coding: utf-8 -*-\n",
    "\"\"\"\n",
    "Created on Fri Oct  5 11:00:56 2018\n",
    "\n",
    "@author: RaviPandey\n",
    "\"\"\"\n",
    "\n",
    "\n",
    "# =============================================================================\n",
    "# Importing Libraries\n",
    "# =============================================================================\n",
    "\n",
    "import numpy as np\n",
    "import pandas as pd\n",
    "\n",
    "\n",
    "# =============================================================================\n",
    "# Loading and Exploring data\n",
    "# =============================================================================\n",
    "\n",
    "df = pd.read_csv('../data/loan.csv')\n",
    "\n",
    "df = df.loc[ 0:10000, ['loan_amnt', 'int_rate', 'annual_inc', 'inq_last_6mths', \n",
    "                   'open_acc', 'revol_bal', 'revol_util', 'total_acc', 'dti',\n",
    "                   'term', 'grade', 'home_ownership', 'verification_status',\n",
    "                        'purpose', 'delinq_2yrs', 'loan_status']]\n",
    "\n"
   ]
  },
  {
   "cell_type": "code",
   "execution_count": 78,
   "metadata": {
    "slideshow": {
     "slide_type": "subslide"
    }
   },
   "outputs": [
    {
     "data": {
      "text/plain": [
       "(10001, 16)"
      ]
     },
     "execution_count": 78,
     "metadata": {},
     "output_type": "execute_result"
    }
   ],
   "source": [
    "# dimension of the dataframe\n",
    "df.shape\n"
   ]
  },
  {
   "cell_type": "code",
   "execution_count": 79,
   "metadata": {
    "slideshow": {
     "slide_type": "fragment"
    }
   },
   "outputs": [
    {
     "data": {
      "text/plain": [
       "Index(['loan_amnt', 'int_rate', 'annual_inc', 'inq_last_6mths', 'open_acc',\n",
       "       'revol_bal', 'revol_util', 'total_acc', 'dti', 'term', 'grade',\n",
       "       'home_ownership', 'verification_status', 'purpose', 'delinq_2yrs',\n",
       "       'loan_status'],\n",
       "      dtype='object')"
      ]
     },
     "execution_count": 79,
     "metadata": {},
     "output_type": "execute_result"
    }
   ],
   "source": [
    "\n",
    "# Exploring column names\n",
    "df.columns\n",
    "\n"
   ]
  },
  {
   "cell_type": "code",
   "execution_count": 80,
   "metadata": {
    "slideshow": {
     "slide_type": "subslide"
    }
   },
   "outputs": [
    {
     "data": {
      "text/html": [
       "<div>\n",
       "<style scoped>\n",
       "    .dataframe tbody tr th:only-of-type {\n",
       "        vertical-align: middle;\n",
       "    }\n",
       "\n",
       "    .dataframe tbody tr th {\n",
       "        vertical-align: top;\n",
       "    }\n",
       "\n",
       "    .dataframe thead th {\n",
       "        text-align: right;\n",
       "    }\n",
       "</style>\n",
       "<table border=\"1\" class=\"dataframe\">\n",
       "  <thead>\n",
       "    <tr style=\"text-align: right;\">\n",
       "      <th></th>\n",
       "      <th>loan_amnt</th>\n",
       "      <th>int_rate</th>\n",
       "      <th>annual_inc</th>\n",
       "      <th>inq_last_6mths</th>\n",
       "      <th>open_acc</th>\n",
       "      <th>revol_bal</th>\n",
       "      <th>revol_util</th>\n",
       "      <th>total_acc</th>\n",
       "      <th>dti</th>\n",
       "      <th>term</th>\n",
       "      <th>grade</th>\n",
       "      <th>home_ownership</th>\n",
       "      <th>verification_status</th>\n",
       "      <th>purpose</th>\n",
       "      <th>delinq_2yrs</th>\n",
       "      <th>loan_status</th>\n",
       "    </tr>\n",
       "  </thead>\n",
       "  <tbody>\n",
       "    <tr>\n",
       "      <th>0</th>\n",
       "      <td>5000.0</td>\n",
       "      <td>10.65</td>\n",
       "      <td>24000.0</td>\n",
       "      <td>1.0</td>\n",
       "      <td>3.0</td>\n",
       "      <td>13648.0</td>\n",
       "      <td>83.7</td>\n",
       "      <td>9.0</td>\n",
       "      <td>27.65</td>\n",
       "      <td>36 months</td>\n",
       "      <td>B</td>\n",
       "      <td>RENT</td>\n",
       "      <td>Verified</td>\n",
       "      <td>credit_card</td>\n",
       "      <td>0.0</td>\n",
       "      <td>Fully Paid</td>\n",
       "    </tr>\n",
       "    <tr>\n",
       "      <th>1</th>\n",
       "      <td>2500.0</td>\n",
       "      <td>15.27</td>\n",
       "      <td>30000.0</td>\n",
       "      <td>5.0</td>\n",
       "      <td>3.0</td>\n",
       "      <td>1687.0</td>\n",
       "      <td>9.4</td>\n",
       "      <td>4.0</td>\n",
       "      <td>1.00</td>\n",
       "      <td>60 months</td>\n",
       "      <td>C</td>\n",
       "      <td>RENT</td>\n",
       "      <td>Source Verified</td>\n",
       "      <td>car</td>\n",
       "      <td>0.0</td>\n",
       "      <td>Charged Off</td>\n",
       "    </tr>\n",
       "    <tr>\n",
       "      <th>2</th>\n",
       "      <td>2400.0</td>\n",
       "      <td>15.96</td>\n",
       "      <td>12252.0</td>\n",
       "      <td>2.0</td>\n",
       "      <td>2.0</td>\n",
       "      <td>2956.0</td>\n",
       "      <td>98.5</td>\n",
       "      <td>10.0</td>\n",
       "      <td>8.72</td>\n",
       "      <td>36 months</td>\n",
       "      <td>C</td>\n",
       "      <td>RENT</td>\n",
       "      <td>Not Verified</td>\n",
       "      <td>small_business</td>\n",
       "      <td>0.0</td>\n",
       "      <td>Fully Paid</td>\n",
       "    </tr>\n",
       "    <tr>\n",
       "      <th>3</th>\n",
       "      <td>10000.0</td>\n",
       "      <td>13.49</td>\n",
       "      <td>49200.0</td>\n",
       "      <td>1.0</td>\n",
       "      <td>10.0</td>\n",
       "      <td>5598.0</td>\n",
       "      <td>21.0</td>\n",
       "      <td>37.0</td>\n",
       "      <td>20.00</td>\n",
       "      <td>36 months</td>\n",
       "      <td>C</td>\n",
       "      <td>RENT</td>\n",
       "      <td>Source Verified</td>\n",
       "      <td>other</td>\n",
       "      <td>0.0</td>\n",
       "      <td>Fully Paid</td>\n",
       "    </tr>\n",
       "    <tr>\n",
       "      <th>4</th>\n",
       "      <td>3000.0</td>\n",
       "      <td>12.69</td>\n",
       "      <td>80000.0</td>\n",
       "      <td>0.0</td>\n",
       "      <td>15.0</td>\n",
       "      <td>27783.0</td>\n",
       "      <td>53.9</td>\n",
       "      <td>38.0</td>\n",
       "      <td>17.94</td>\n",
       "      <td>60 months</td>\n",
       "      <td>B</td>\n",
       "      <td>RENT</td>\n",
       "      <td>Source Verified</td>\n",
       "      <td>other</td>\n",
       "      <td>0.0</td>\n",
       "      <td>Current</td>\n",
       "    </tr>\n",
       "  </tbody>\n",
       "</table>\n",
       "</div>"
      ],
      "text/plain": [
       "   loan_amnt  int_rate  annual_inc  inq_last_6mths  open_acc  revol_bal  \\\n",
       "0     5000.0     10.65     24000.0             1.0       3.0    13648.0   \n",
       "1     2500.0     15.27     30000.0             5.0       3.0     1687.0   \n",
       "2     2400.0     15.96     12252.0             2.0       2.0     2956.0   \n",
       "3    10000.0     13.49     49200.0             1.0      10.0     5598.0   \n",
       "4     3000.0     12.69     80000.0             0.0      15.0    27783.0   \n",
       "\n",
       "   revol_util  total_acc    dti        term grade home_ownership  \\\n",
       "0        83.7        9.0  27.65   36 months     B           RENT   \n",
       "1         9.4        4.0   1.00   60 months     C           RENT   \n",
       "2        98.5       10.0   8.72   36 months     C           RENT   \n",
       "3        21.0       37.0  20.00   36 months     C           RENT   \n",
       "4        53.9       38.0  17.94   60 months     B           RENT   \n",
       "\n",
       "  verification_status         purpose  delinq_2yrs  loan_status  \n",
       "0            Verified     credit_card          0.0   Fully Paid  \n",
       "1     Source Verified             car          0.0  Charged Off  \n",
       "2        Not Verified  small_business          0.0   Fully Paid  \n",
       "3     Source Verified           other          0.0   Fully Paid  \n",
       "4     Source Verified           other          0.0      Current  "
      ]
     },
     "execution_count": 80,
     "metadata": {},
     "output_type": "execute_result"
    }
   ],
   "source": [
    "# Exploring first few records\n",
    "df.head()\n",
    "\n"
   ]
  },
  {
   "cell_type": "code",
   "execution_count": 81,
   "metadata": {
    "slideshow": {
     "slide_type": "subslide"
    }
   },
   "outputs": [
    {
     "name": "stdout",
     "output_type": "stream",
     "text": [
      "<class 'pandas.core.frame.DataFrame'>\n",
      "RangeIndex: 10001 entries, 0 to 10000\n",
      "Data columns (total 16 columns):\n",
      " #   Column               Non-Null Count  Dtype  \n",
      "---  ------               --------------  -----  \n",
      " 0   loan_amnt            10001 non-null  float64\n",
      " 1   int_rate             10001 non-null  float64\n",
      " 2   annual_inc           10001 non-null  float64\n",
      " 3   inq_last_6mths       10001 non-null  float64\n",
      " 4   open_acc             10001 non-null  float64\n",
      " 5   revol_bal            10001 non-null  float64\n",
      " 6   revol_util           9998 non-null   float64\n",
      " 7   total_acc            10001 non-null  float64\n",
      " 8   dti                  10001 non-null  float64\n",
      " 9   term                 10001 non-null  object \n",
      " 10  grade                10001 non-null  object \n",
      " 11  home_ownership       10001 non-null  object \n",
      " 12  verification_status  10001 non-null  object \n",
      " 13  purpose              10001 non-null  object \n",
      " 14  delinq_2yrs          10001 non-null  float64\n",
      " 15  loan_status          10001 non-null  object \n",
      "dtypes: float64(10), object(6)\n",
      "memory usage: 1.2+ MB\n"
     ]
    }
   ],
   "source": [
    "# Getting summarized information\n",
    "df.info()\n"
   ]
  },
  {
   "cell_type": "code",
   "execution_count": 82,
   "metadata": {
    "slideshow": {
     "slide_type": "subslide"
    }
   },
   "outputs": [],
   "source": [
    "\n",
    "numeric_features = ['loan_amnt', 'int_rate', 'annual_inc', 'inq_last_6mths', \n",
    "                   'open_acc', 'revol_bal', 'revol_util', 'total_acc', 'dti']\n",
    "\n",
    "categorical_features = ['term', 'grade', 'home_ownership', 'verification_status',\n",
    "                        'purpose', 'delinq_2yrs']\n",
    "\n"
   ]
  },
  {
   "cell_type": "code",
   "execution_count": 83,
   "metadata": {
    "slideshow": {
     "slide_type": "subslide"
    }
   },
   "outputs": [],
   "source": [
    "# =============================================================================\n",
    "# Applying Transformation to numeric variable\n",
    "# =============================================================================\n",
    "\n",
    "\n",
    "# Imputer - missing Value\n",
    "# StandardScaler\n",
    "# MaxAbsScaler\n",
    "# MinMaxScaler\n",
    "# QuantileTransformers - Uniform Distribution\n",
    "# PowerTransformer - Gaussian Distrbution\n",
    "# Normalizer\n",
    "# FunctionTransformer - Custom Transformer\n",
    "\n",
    "from sklearn.pipeline import Pipeline\n",
    "from sklearn.impute import SimpleImputer\n",
    "from sklearn.preprocessing import FunctionTransformer\n"
   ]
  },
  {
   "cell_type": "code",
   "execution_count": 84,
   "metadata": {
    "slideshow": {
     "slide_type": "subslide"
    }
   },
   "outputs": [],
   "source": [
    "\n",
    "numeric_transformer = Pipeline(steps=[\n",
    "        ('imputer', SimpleImputer(missing_values=np.nan, strategy='median')),\n",
    "        ('sqrt_transformer', FunctionTransformer(np.sqrt))])\n",
    "  \n"
   ]
  },
  {
   "cell_type": "code",
   "execution_count": 85,
   "metadata": {
    "slideshow": {
     "slide_type": "fragment"
    }
   },
   "outputs": [],
   "source": [
    "\n",
    "# =============================================================================\n",
    "# Applying transformation to Categorical Variable\n",
    "# =============================================================================\n",
    "\n",
    "\n",
    "from sklearn.preprocessing import OneHotEncoder\n",
    "   \n",
    "categorical_transformer = Pipeline(steps=[\n",
    "        ('imputer', SimpleImputer(missing_values=np.nan, strategy='most_frequent')),\n",
    "        ('onehot' , OneHotEncoder(sparse=False))])\n"
   ]
  },
  {
   "cell_type": "code",
   "execution_count": 86,
   "metadata": {
    "slideshow": {
     "slide_type": "subslide"
    }
   },
   "outputs": [],
   "source": [
    "# =============================================================================\n",
    "# Creating Preprocessor\n",
    "# =============================================================================\n",
    "\n",
    "from sklearn.compose import ColumnTransformer\n",
    "    \n",
    "preprocessor = ColumnTransformer(\n",
    "    transformers=[\n",
    "        ('num', numeric_transformer, numeric_features),\n",
    "        ('cat', categorical_transformer, categorical_features)])\n"
   ]
  },
  {
   "cell_type": "code",
   "execution_count": 87,
   "metadata": {
    "slideshow": {
     "slide_type": "subslide"
    }
   },
   "outputs": [],
   "source": [
    "# =============================================================================\n",
    "# Model\n",
    "# =============================================================================\n",
    "\n",
    "from sklearn.linear_model import LogisticRegression\n",
    "    \n",
    "model = Pipeline(steps=[\n",
    "        ('preprocess', preprocessor),\n",
    "        ('lr_model', LogisticRegression())])\n"
   ]
  },
  {
   "cell_type": "code",
   "execution_count": 88,
   "metadata": {
    "slideshow": {
     "slide_type": "subslide"
    }
   },
   "outputs": [],
   "source": [
    "\n",
    "# =============================================================================\n",
    "# Applying Model\n",
    "# =============================================================================\n",
    "X = df.drop('loan_status', axis=1)\n",
    "X = X.iloc[1:1000, :]\n",
    "y = np.where(df['loan_status'].isin(['Charged Off', 'Default']), 1, 0)\n",
    "y = y[1:1000]\n",
    "\n",
    "def file_modify(dataset):\n",
    "    print(\"Start\")\n",
    "    dataset['home_ownership'] = np.where(\n",
    "            dataset.home_ownership.isin(['NONE', 'ANY']), 'MORTGAGE', \n",
    "            dataset.home_ownership)\n",
    "    dataset['purpose'] = np.where(\n",
    "            dataset.purpose.isin(['debt_consolidation', 'credit_card', 'home_improvement']), \n",
    "            dataset.purpose, \n",
    "            'other')\n",
    "    dataset['delinq_2yrs'] = np.where(\n",
    "            dataset.delinq_2yrs > 0, 1, 0 )\n",
    "    return dataset\n"
   ]
  },
  {
   "cell_type": "code",
   "execution_count": 89,
   "metadata": {
    "slideshow": {
     "slide_type": "subslide"
    }
   },
   "outputs": [
    {
     "name": "stdout",
     "output_type": "stream",
     "text": [
      "Start\n"
     ]
    }
   ],
   "source": [
    "\n",
    "X = file_modify(X)"
   ]
  },
  {
   "cell_type": "code",
   "execution_count": 90,
   "metadata": {
    "slideshow": {
     "slide_type": "fragment"
    }
   },
   "outputs": [
    {
     "name": "stderr",
     "output_type": "stream",
     "text": [
      "/home/analyst/.local/lib/python3.8/site-packages/sklearn/linear_model/_logistic.py:763: ConvergenceWarning: lbfgs failed to converge (status=1):\n",
      "STOP: TOTAL NO. of ITERATIONS REACHED LIMIT.\n",
      "\n",
      "Increase the number of iterations (max_iter) or scale the data as shown in:\n",
      "    https://scikit-learn.org/stable/modules/preprocessing.html\n",
      "Please also refer to the documentation for alternative solver options:\n",
      "    https://scikit-learn.org/stable/modules/linear_model.html#logistic-regression\n",
      "  n_iter_i = _check_optimize_result(\n"
     ]
    },
    {
     "data": {
      "text/plain": [
       "Pipeline(steps=[('preprocess',\n",
       "                 ColumnTransformer(transformers=[('num',\n",
       "                                                  Pipeline(steps=[('imputer',\n",
       "                                                                   SimpleImputer(strategy='median')),\n",
       "                                                                  ('sqrt_transformer',\n",
       "                                                                   FunctionTransformer(func=<ufunc 'sqrt'>))]),\n",
       "                                                  ['loan_amnt', 'int_rate',\n",
       "                                                   'annual_inc',\n",
       "                                                   'inq_last_6mths', 'open_acc',\n",
       "                                                   'revol_bal', 'revol_util',\n",
       "                                                   'total_acc', 'dti']),\n",
       "                                                 ('cat',\n",
       "                                                  Pipeline(steps=[('imputer',\n",
       "                                                                   SimpleImputer(strategy='most_frequent')),\n",
       "                                                                  ('onehot',\n",
       "                                                                   OneHotEncoder(sparse=False))]),\n",
       "                                                  ['term', 'grade',\n",
       "                                                   'home_ownership',\n",
       "                                                   'verification_status',\n",
       "                                                   'purpose',\n",
       "                                                   'delinq_2yrs'])])),\n",
       "                ('lr_model', LogisticRegression())])"
      ]
     },
     "execution_count": 90,
     "metadata": {},
     "output_type": "execute_result"
    }
   ],
   "source": [
    "model.fit(X, y)\n"
   ]
  },
  {
   "cell_type": "code",
   "execution_count": 91,
   "metadata": {
    "slideshow": {
     "slide_type": "subslide"
    }
   },
   "outputs": [
    {
     "data": {
      "text/plain": [
       "array([0, 0, 0, 0, 0, 0, 0, 0, 0, 0, 0, 0, 0, 0, 0, 0, 0, 0, 0, 0, 0, 0,\n",
       "       0, 0, 0, 0, 0, 0, 0, 0, 0, 0, 0, 0, 0, 0, 0, 0, 0, 0, 0, 0, 0, 0,\n",
       "       0, 0, 0, 0, 0, 0, 0, 0, 0, 0, 0, 0, 0, 0, 0, 0, 0, 0, 0, 0, 0, 0,\n",
       "       0, 0, 0, 0, 0, 0, 0, 0, 0, 0, 0, 0, 0, 0, 0, 0, 0, 0, 0, 1, 0, 0,\n",
       "       0, 0, 0, 0, 0, 0, 0, 0, 0, 0, 0, 0, 0, 0, 0, 0, 0, 0, 0, 0, 0, 0,\n",
       "       0, 0, 0, 0, 0, 0, 0, 0, 0, 0, 0, 0, 0, 0, 0, 0, 0, 0, 0, 0, 0, 0,\n",
       "       0, 0, 0, 0, 0, 0, 0, 0, 0, 0, 0, 0, 0, 0, 0, 0, 0, 0, 0, 0, 0, 0,\n",
       "       0, 0, 0, 0, 0, 0, 0, 0, 0, 0, 0, 0, 0, 0, 0, 0, 0, 0, 0, 0, 0, 0,\n",
       "       0, 0, 0, 0, 0, 0, 0, 0, 0, 0, 0, 0, 0, 0, 0, 0, 0, 0, 0, 0, 0, 0,\n",
       "       0, 0, 0, 0, 0, 0, 0, 0, 0, 0, 0, 0, 0, 0, 0, 0, 0, 0, 0, 0, 0, 0,\n",
       "       0, 0, 0, 0, 0, 0, 0, 0, 0, 0, 0, 0, 0, 0, 0, 0, 0, 0, 0, 0, 0, 0,\n",
       "       0, 0, 0, 0, 0, 0, 1, 0, 0, 0, 0, 0, 0, 0, 0, 0, 0, 0, 0, 0, 0, 0,\n",
       "       0, 0, 0, 0, 0, 0, 0, 0, 0, 0, 0, 0, 0, 0, 0, 0, 0, 0, 0, 0, 0, 0,\n",
       "       0, 0, 0, 0, 0, 0, 0, 0, 0, 0, 0, 0, 0, 0, 1, 0, 0, 0, 0, 0, 0, 0,\n",
       "       0, 0, 0, 0, 0, 0, 0, 0, 0, 0, 0, 0, 0, 0, 0, 0, 0, 0, 0, 0, 0, 0,\n",
       "       0, 0, 0, 0, 0, 0, 0, 0, 0, 0, 0, 0, 0, 0, 0, 0, 0, 0, 0, 0, 0, 0,\n",
       "       0, 0, 0, 0, 0, 0, 0, 0, 0, 0, 0, 0, 0, 0, 0, 0, 0, 0, 0, 0, 0, 0,\n",
       "       0, 0, 0, 0, 0, 0, 0, 0, 0, 0, 0, 0, 0, 0, 0, 0, 0, 0, 0, 0, 0, 0,\n",
       "       0, 0, 0, 0, 0, 0, 1, 0, 0, 0, 0, 0, 0, 0, 0, 0, 0, 0, 0, 0, 0, 0,\n",
       "       0, 0, 0, 0, 0, 0, 0, 0, 0, 0, 0, 0, 0, 0, 0, 0, 0, 0, 0, 0, 0, 0,\n",
       "       0, 0, 0, 0, 0, 0, 0, 0, 0, 0, 0, 0, 0, 0, 0, 0, 0, 0, 0, 0, 0, 0,\n",
       "       0, 0, 0, 0, 0, 0, 0, 0, 0, 0, 0, 0, 0, 0, 0, 0, 0, 0, 0, 0, 0, 0,\n",
       "       0, 0, 0, 0, 0, 0, 0, 0, 0, 0, 0, 0, 0, 0, 0, 0, 0, 0, 0, 0, 0, 0,\n",
       "       0, 0, 0, 0, 0, 0, 0, 0, 0, 0, 0, 0, 0, 0, 0, 0, 0, 0, 0, 0, 0, 0,\n",
       "       0, 0, 0, 0, 0, 0, 0, 0, 0, 0, 0, 0, 0, 0, 0, 0, 0, 0, 0, 0, 0, 0,\n",
       "       0, 0, 0, 0, 0, 0, 0, 0, 0, 0, 0, 0, 0, 0, 0, 0, 0, 0, 0, 0, 0, 0,\n",
       "       0, 0, 0, 0, 0, 0, 0, 0, 0, 0, 0, 0, 0, 0, 0, 0, 0, 0, 0, 0, 0, 0,\n",
       "       0, 0, 0, 0, 0, 0, 0, 0, 0, 0, 0, 0, 0, 0, 0, 0, 0, 0, 0, 0, 0, 0,\n",
       "       0, 0, 0, 0, 0, 0, 0, 0, 0, 0, 0, 0, 0, 0, 0, 0, 0, 0, 0, 0, 0, 0,\n",
       "       0, 0, 0, 0, 0, 0, 0, 0, 0, 0, 0, 0, 0, 0, 0, 0, 0, 0, 0, 0, 0, 0,\n",
       "       0, 0, 0, 0, 0, 0, 0, 0, 0, 0, 0, 0, 0, 0, 0, 0, 0, 0, 0, 0, 0, 0,\n",
       "       0, 0, 0, 0, 0, 0, 0, 1, 0, 0, 0, 0, 0, 0, 0, 0, 0, 0, 0, 0, 0, 0,\n",
       "       0, 0, 0, 0, 0, 0, 0, 0, 0, 1, 0, 0, 0, 0, 0, 0, 0, 0, 0, 0, 0, 0,\n",
       "       0, 0, 0, 0, 0, 0, 0, 0, 0, 0, 0, 0, 0, 0, 0, 0, 0, 0, 0, 0, 0, 0,\n",
       "       0, 0, 0, 0, 0, 0, 0, 0, 0, 0, 0, 0, 0, 0, 0, 0, 0, 0, 0, 0, 0, 0,\n",
       "       0, 0, 0, 0, 0, 0, 0, 0, 0, 0, 0, 0, 0, 0, 0, 1, 0, 0, 0, 0, 0, 0,\n",
       "       0, 0, 0, 0, 0, 0, 0, 0, 0, 0, 0, 0, 0, 0, 0, 0, 0, 1, 0, 0, 0, 0,\n",
       "       0, 0, 0, 0, 0, 0, 0, 0, 0, 0, 0, 0, 0, 0, 0, 0, 0, 0, 0, 0, 0, 0,\n",
       "       0, 0, 0, 0, 0, 0, 0, 0, 0, 0, 0, 0, 0, 0, 0, 0, 0, 0, 0, 0, 0, 0,\n",
       "       0, 0, 0, 0, 0, 0, 0, 0, 0, 0, 0, 0, 0, 0, 0, 0, 0, 0, 0, 0, 0, 0,\n",
       "       0, 0, 0, 0, 0, 0, 0, 0, 0, 0, 0, 0, 0, 0, 0, 0, 0, 0, 0, 0, 0, 0,\n",
       "       0, 0, 0, 0, 0, 0, 0, 0, 0, 0, 0, 0, 0, 0, 0, 0, 0, 0, 0, 0, 0, 0,\n",
       "       0, 0, 0, 0, 0, 0, 0, 0, 0, 0, 0, 0, 0, 0, 0, 0, 0, 0, 0, 0, 0, 0,\n",
       "       0, 0, 0, 0, 0, 0, 0, 0, 0, 0, 0, 0, 0, 0, 0, 0, 0, 0, 0, 0, 0, 0,\n",
       "       0, 0, 0, 0, 0, 0, 0, 0, 0, 0, 0, 0, 0, 0, 0, 0, 0, 0, 0, 0, 0, 0,\n",
       "       0, 0, 0, 0, 0, 0, 0, 0, 0])"
      ]
     },
     "execution_count": 91,
     "metadata": {},
     "output_type": "execute_result"
    }
   ],
   "source": [
    "pred = model.predict(X)\n",
    "pred"
   ]
  },
  {
   "cell_type": "code",
   "execution_count": 92,
   "metadata": {
    "slideshow": {
     "slide_type": "fragment"
    }
   },
   "outputs": [
    {
     "data": {
      "text/plain": [
       "['first_go.joblib']"
      ]
     },
     "execution_count": 92,
     "metadata": {},
     "output_type": "execute_result"
    }
   ],
   "source": [
    "# =============================================================================\n",
    "# Dumping Model\n",
    "# =============================================================================\n",
    "import joblib\n",
    "\n",
    "joblib.dump(model, 'first_go.joblib')"
   ]
  },
  {
   "cell_type": "markdown",
   "metadata": {
    "slideshow": {
     "slide_type": "slide"
    }
   },
   "source": [
    "## Feature Extraction\n",
    "--- \n",
    "Select the K-Best Features"
   ]
  },
  {
   "cell_type": "code",
   "execution_count": 93,
   "metadata": {
    "slideshow": {
     "slide_type": "subslide"
    }
   },
   "outputs": [
    {
     "name": "stderr",
     "output_type": "stream",
     "text": [
      "/usr/lib/python3/dist-packages/IPython/core/interactiveshell.py:3062: DtypeWarning: Columns (19,55) have mixed types.Specify dtype option on import or set low_memory=False.\n",
      "  has_raised = await self.run_ast_nodes(code_ast.body, cell_name,\n"
     ]
    }
   ],
   "source": [
    "#!/usr/bin/env python3\n",
    "# -*- coding: utf-8 -*-\n",
    "\"\"\"\n",
    "Created on Fri Oct  5 13:40:11 2018\n",
    "\n",
    "@author: RaviPandey\n",
    "\"\"\"\n",
    "\n",
    "# =============================================================================\n",
    "# Importing Libraries\n",
    "# =============================================================================\n",
    "\n",
    "import numpy as np\n",
    "import pandas as pd\n",
    "\n",
    "# =============================================================================\n",
    "# Loading and Exploring data\n",
    "# =============================================================================\n",
    "\n",
    "df = pd.read_csv('../data/loan.csv')\n",
    "\n",
    "df = df.loc[ 0:9999, ['loan_amnt', 'int_rate', 'annual_inc', 'inq_last_6mths', \n",
    "                   'open_acc', 'revol_bal', 'revol_util', 'total_acc', 'dti',\n",
    "                   'term', 'grade', 'home_ownership', 'verification_status',\n",
    "                        'purpose', 'delinq_2yrs', 'loan_status']]"
   ]
  },
  {
   "cell_type": "code",
   "execution_count": 94,
   "metadata": {
    "slideshow": {
     "slide_type": "subslide"
    }
   },
   "outputs": [
    {
     "data": {
      "text/plain": [
       "(10000, 16)"
      ]
     },
     "execution_count": 94,
     "metadata": {},
     "output_type": "execute_result"
    }
   ],
   "source": [
    "# dimension of the dataframe\n",
    "df.shape"
   ]
  },
  {
   "cell_type": "code",
   "execution_count": 95,
   "metadata": {
    "slideshow": {
     "slide_type": "fragment"
    }
   },
   "outputs": [
    {
     "data": {
      "text/plain": [
       "Index(['loan_amnt', 'int_rate', 'annual_inc', 'inq_last_6mths', 'open_acc',\n",
       "       'revol_bal', 'revol_util', 'total_acc', 'dti', 'term', 'grade',\n",
       "       'home_ownership', 'verification_status', 'purpose', 'delinq_2yrs',\n",
       "       'loan_status'],\n",
       "      dtype='object')"
      ]
     },
     "execution_count": 95,
     "metadata": {},
     "output_type": "execute_result"
    }
   ],
   "source": [
    "# Exploring column names\n",
    "df.columns"
   ]
  },
  {
   "cell_type": "code",
   "execution_count": 96,
   "metadata": {
    "slideshow": {
     "slide_type": "subslide"
    }
   },
   "outputs": [
    {
     "data": {
      "text/html": [
       "<div>\n",
       "<style scoped>\n",
       "    .dataframe tbody tr th:only-of-type {\n",
       "        vertical-align: middle;\n",
       "    }\n",
       "\n",
       "    .dataframe tbody tr th {\n",
       "        vertical-align: top;\n",
       "    }\n",
       "\n",
       "    .dataframe thead th {\n",
       "        text-align: right;\n",
       "    }\n",
       "</style>\n",
       "<table border=\"1\" class=\"dataframe\">\n",
       "  <thead>\n",
       "    <tr style=\"text-align: right;\">\n",
       "      <th></th>\n",
       "      <th>loan_amnt</th>\n",
       "      <th>int_rate</th>\n",
       "      <th>annual_inc</th>\n",
       "      <th>inq_last_6mths</th>\n",
       "      <th>open_acc</th>\n",
       "      <th>revol_bal</th>\n",
       "      <th>revol_util</th>\n",
       "      <th>total_acc</th>\n",
       "      <th>dti</th>\n",
       "      <th>term</th>\n",
       "      <th>grade</th>\n",
       "      <th>home_ownership</th>\n",
       "      <th>verification_status</th>\n",
       "      <th>purpose</th>\n",
       "      <th>delinq_2yrs</th>\n",
       "      <th>loan_status</th>\n",
       "    </tr>\n",
       "  </thead>\n",
       "  <tbody>\n",
       "    <tr>\n",
       "      <th>0</th>\n",
       "      <td>5000.0</td>\n",
       "      <td>10.65</td>\n",
       "      <td>24000.0</td>\n",
       "      <td>1.0</td>\n",
       "      <td>3.0</td>\n",
       "      <td>13648.0</td>\n",
       "      <td>83.7</td>\n",
       "      <td>9.0</td>\n",
       "      <td>27.65</td>\n",
       "      <td>36 months</td>\n",
       "      <td>B</td>\n",
       "      <td>RENT</td>\n",
       "      <td>Verified</td>\n",
       "      <td>credit_card</td>\n",
       "      <td>0.0</td>\n",
       "      <td>Fully Paid</td>\n",
       "    </tr>\n",
       "    <tr>\n",
       "      <th>1</th>\n",
       "      <td>2500.0</td>\n",
       "      <td>15.27</td>\n",
       "      <td>30000.0</td>\n",
       "      <td>5.0</td>\n",
       "      <td>3.0</td>\n",
       "      <td>1687.0</td>\n",
       "      <td>9.4</td>\n",
       "      <td>4.0</td>\n",
       "      <td>1.00</td>\n",
       "      <td>60 months</td>\n",
       "      <td>C</td>\n",
       "      <td>RENT</td>\n",
       "      <td>Source Verified</td>\n",
       "      <td>car</td>\n",
       "      <td>0.0</td>\n",
       "      <td>Charged Off</td>\n",
       "    </tr>\n",
       "    <tr>\n",
       "      <th>2</th>\n",
       "      <td>2400.0</td>\n",
       "      <td>15.96</td>\n",
       "      <td>12252.0</td>\n",
       "      <td>2.0</td>\n",
       "      <td>2.0</td>\n",
       "      <td>2956.0</td>\n",
       "      <td>98.5</td>\n",
       "      <td>10.0</td>\n",
       "      <td>8.72</td>\n",
       "      <td>36 months</td>\n",
       "      <td>C</td>\n",
       "      <td>RENT</td>\n",
       "      <td>Not Verified</td>\n",
       "      <td>small_business</td>\n",
       "      <td>0.0</td>\n",
       "      <td>Fully Paid</td>\n",
       "    </tr>\n",
       "    <tr>\n",
       "      <th>3</th>\n",
       "      <td>10000.0</td>\n",
       "      <td>13.49</td>\n",
       "      <td>49200.0</td>\n",
       "      <td>1.0</td>\n",
       "      <td>10.0</td>\n",
       "      <td>5598.0</td>\n",
       "      <td>21.0</td>\n",
       "      <td>37.0</td>\n",
       "      <td>20.00</td>\n",
       "      <td>36 months</td>\n",
       "      <td>C</td>\n",
       "      <td>RENT</td>\n",
       "      <td>Source Verified</td>\n",
       "      <td>other</td>\n",
       "      <td>0.0</td>\n",
       "      <td>Fully Paid</td>\n",
       "    </tr>\n",
       "    <tr>\n",
       "      <th>4</th>\n",
       "      <td>3000.0</td>\n",
       "      <td>12.69</td>\n",
       "      <td>80000.0</td>\n",
       "      <td>0.0</td>\n",
       "      <td>15.0</td>\n",
       "      <td>27783.0</td>\n",
       "      <td>53.9</td>\n",
       "      <td>38.0</td>\n",
       "      <td>17.94</td>\n",
       "      <td>60 months</td>\n",
       "      <td>B</td>\n",
       "      <td>RENT</td>\n",
       "      <td>Source Verified</td>\n",
       "      <td>other</td>\n",
       "      <td>0.0</td>\n",
       "      <td>Current</td>\n",
       "    </tr>\n",
       "  </tbody>\n",
       "</table>\n",
       "</div>"
      ],
      "text/plain": [
       "   loan_amnt  int_rate  annual_inc  inq_last_6mths  open_acc  revol_bal  \\\n",
       "0     5000.0     10.65     24000.0             1.0       3.0    13648.0   \n",
       "1     2500.0     15.27     30000.0             5.0       3.0     1687.0   \n",
       "2     2400.0     15.96     12252.0             2.0       2.0     2956.0   \n",
       "3    10000.0     13.49     49200.0             1.0      10.0     5598.0   \n",
       "4     3000.0     12.69     80000.0             0.0      15.0    27783.0   \n",
       "\n",
       "   revol_util  total_acc    dti        term grade home_ownership  \\\n",
       "0        83.7        9.0  27.65   36 months     B           RENT   \n",
       "1         9.4        4.0   1.00   60 months     C           RENT   \n",
       "2        98.5       10.0   8.72   36 months     C           RENT   \n",
       "3        21.0       37.0  20.00   36 months     C           RENT   \n",
       "4        53.9       38.0  17.94   60 months     B           RENT   \n",
       "\n",
       "  verification_status         purpose  delinq_2yrs  loan_status  \n",
       "0            Verified     credit_card          0.0   Fully Paid  \n",
       "1     Source Verified             car          0.0  Charged Off  \n",
       "2        Not Verified  small_business          0.0   Fully Paid  \n",
       "3     Source Verified           other          0.0   Fully Paid  \n",
       "4     Source Verified           other          0.0      Current  "
      ]
     },
     "execution_count": 96,
     "metadata": {},
     "output_type": "execute_result"
    }
   ],
   "source": [
    "# Exploring first few records\n",
    "df.head()\n"
   ]
  },
  {
   "cell_type": "code",
   "execution_count": 97,
   "metadata": {
    "slideshow": {
     "slide_type": "subslide"
    }
   },
   "outputs": [
    {
     "name": "stdout",
     "output_type": "stream",
     "text": [
      "<class 'pandas.core.frame.DataFrame'>\n",
      "RangeIndex: 10000 entries, 0 to 9999\n",
      "Data columns (total 16 columns):\n",
      " #   Column               Non-Null Count  Dtype  \n",
      "---  ------               --------------  -----  \n",
      " 0   loan_amnt            10000 non-null  float64\n",
      " 1   int_rate             10000 non-null  float64\n",
      " 2   annual_inc           10000 non-null  float64\n",
      " 3   inq_last_6mths       10000 non-null  float64\n",
      " 4   open_acc             10000 non-null  float64\n",
      " 5   revol_bal            10000 non-null  float64\n",
      " 6   revol_util           9997 non-null   float64\n",
      " 7   total_acc            10000 non-null  float64\n",
      " 8   dti                  10000 non-null  float64\n",
      " 9   term                 10000 non-null  object \n",
      " 10  grade                10000 non-null  object \n",
      " 11  home_ownership       10000 non-null  object \n",
      " 12  verification_status  10000 non-null  object \n",
      " 13  purpose              10000 non-null  object \n",
      " 14  delinq_2yrs          10000 non-null  float64\n",
      " 15  loan_status          10000 non-null  object \n",
      "dtypes: float64(10), object(6)\n",
      "memory usage: 1.2+ MB\n"
     ]
    }
   ],
   "source": [
    "# Getting summarized information\n",
    "df.info()\n",
    "\n",
    "numeric_features = ['loan_amnt', 'int_rate', 'annual_inc', 'inq_last_6mths', \n",
    "                   'open_acc', 'revol_bal', 'revol_util', 'total_acc', 'dti']\n",
    "\n",
    "categorical_features = ['term', 'grade', 'home_ownership', 'verification_status',\n",
    "                        'purpose', 'delinq_2yrs']\n"
   ]
  },
  {
   "cell_type": "code",
   "execution_count": 98,
   "metadata": {
    "slideshow": {
     "slide_type": "subslide"
    }
   },
   "outputs": [],
   "source": [
    "# =============================================================================\n",
    "# Applying Transformation to numeric variable\n",
    "# =============================================================================\n",
    "\n",
    "\n",
    "# Imputer - missing Value\n",
    "# StandardScaler\n",
    "# MaxAbsScaler\n",
    "# MinMaxScaler\n",
    "# QuantileTransformers - Uniform Distribution\n",
    "# PowerTransformer - Gaussian Distrbution\n",
    "# Normalizer\n",
    "# FunctionTransformer - Custom Transformer\n",
    "\n",
    "from sklearn.pipeline import Pipeline\n",
    "from sklearn.impute import SimpleImputer\n",
    "from sklearn.preprocessing import FunctionTransformer\n",
    "\n",
    "\n",
    "numeric_transformer = Pipeline(steps=[\n",
    "        ('imputer', SimpleImputer(missing_values=np.nan, strategy='median')),\n",
    "        ('log_transformer', FunctionTransformer(np.sqrt))])\n"
   ]
  },
  {
   "cell_type": "code",
   "execution_count": 99,
   "metadata": {
    "slideshow": {
     "slide_type": "subslide"
    }
   },
   "outputs": [],
   "source": [
    "# =============================================================================\n",
    "# Applying transformation to Categorical Variable\n",
    "# =============================================================================\n",
    "\n",
    "\n",
    "from sklearn.preprocessing import OneHotEncoder\n",
    "   \n",
    "categorical_transformer = Pipeline(steps=[\n",
    "        ('imputer', SimpleImputer(missing_values=np.nan, strategy='most_frequent')),\n",
    "        ('onehot' , OneHotEncoder(sparse=False))])\n"
   ]
  },
  {
   "cell_type": "code",
   "execution_count": 100,
   "metadata": {
    "slideshow": {
     "slide_type": "fragment"
    }
   },
   "outputs": [],
   "source": [
    "# =============================================================================\n",
    "# Creating Preprocessor\n",
    "# =============================================================================\n",
    "\n",
    "from sklearn.compose import ColumnTransformer\n",
    "    \n",
    "preprocessor = ColumnTransformer(\n",
    "    transformers=[\n",
    "        ('num', numeric_transformer, numeric_features),\n",
    "        ('cat', categorical_transformer, categorical_features)])\n"
   ]
  },
  {
   "cell_type": "code",
   "execution_count": 101,
   "metadata": {
    "slideshow": {
     "slide_type": "subslide"
    }
   },
   "outputs": [],
   "source": [
    "# =============================================================================\n",
    "# Feature Selection - Select K best Features\n",
    "# =============================================================================\n",
    "\n",
    "from sklearn.feature_selection import SelectKBest\n",
    "from sklearn.feature_selection import chi2\n",
    "\n",
    "# f_regression, mutual_info_regression\n",
    "# For classification: chi2, f_classif, mutual_info_classif\n"
   ]
  },
  {
   "cell_type": "code",
   "execution_count": 102,
   "metadata": {
    "slideshow": {
     "slide_type": "subslide"
    }
   },
   "outputs": [],
   "source": [
    "# =============================================================================\n",
    "# Model with feature selection\n",
    "# =============================================================================\n",
    "\n",
    "from sklearn.linear_model import LogisticRegression\n",
    "    \n",
    "model = Pipeline(steps=[\n",
    "        ('preprocess', preprocessor),\n",
    "        ('feature_selection', SelectKBest(score_func= chi2, k = 5) ),\n",
    "        ('lr_model', LogisticRegression())])\n"
   ]
  },
  {
   "cell_type": "code",
   "execution_count": 103,
   "metadata": {
    "slideshow": {
     "slide_type": "subslide"
    }
   },
   "outputs": [],
   "source": [
    "# =============================================================================\n",
    "# Applying Model\n",
    "# =============================================================================\n",
    "X = df.drop('loan_status', axis=1)\n",
    "X = X.iloc[1:1000, :]\n",
    "y = np.where(df['loan_status'].isin(['Charged Off', 'Default']), 1, 0)\n",
    "y = y[1:1000]\n"
   ]
  },
  {
   "cell_type": "code",
   "execution_count": 104,
   "metadata": {
    "slideshow": {
     "slide_type": "subslide"
    }
   },
   "outputs": [],
   "source": [
    "def file_modify(dataset):\n",
    "    print(\"Start\")\n",
    "    dataset['home_ownership'] = np.where(\n",
    "            dataset.home_ownership.isin(['NONE', 'ANY']), 'MORTGAGE', \n",
    "            dataset.home_ownership)\n",
    "    dataset['purpose'] = np.where(\n",
    "            dataset.purpose.isin(['debt_consolidation', 'credit_card', 'home_improvement']), \n",
    "            dataset.purpose, \n",
    "            'other')\n",
    "    dataset['delinq_2yrs'] = np.where(\n",
    "            dataset.delinq_2yrs > 0, 1, 0 )\n",
    "    return dataset\n"
   ]
  },
  {
   "cell_type": "code",
   "execution_count": 105,
   "metadata": {
    "slideshow": {
     "slide_type": "fragment"
    }
   },
   "outputs": [
    {
     "name": "stdout",
     "output_type": "stream",
     "text": [
      "Start\n"
     ]
    }
   ],
   "source": [
    "X = file_modify(X)\n",
    "\n",
    "model.fit(X, y)\n",
    "\n",
    "pred = model.predict(X)\n"
   ]
  },
  {
   "cell_type": "code",
   "execution_count": 106,
   "metadata": {
    "slideshow": {
     "slide_type": "fragment"
    }
   },
   "outputs": [
    {
     "ename": "ImportError",
     "evalue": "cannot import name 'joblib' from 'sklearn.externals' (/home/analyst/.local/lib/python3.8/site-packages/sklearn/externals/__init__.py)",
     "output_type": "error",
     "traceback": [
      "\u001b[0;31m---------------------------------------------------------------------------\u001b[0m",
      "\u001b[0;31mImportError\u001b[0m                               Traceback (most recent call last)",
      "\u001b[0;32m<ipython-input-106-44466f1b5c8d>\u001b[0m in \u001b[0;36m<module>\u001b[0;34m\u001b[0m\n\u001b[1;32m      3\u001b[0m \u001b[0;31m# =============================================================================\u001b[0m\u001b[0;34m\u001b[0m\u001b[0;34m\u001b[0m\u001b[0;34m\u001b[0m\u001b[0m\n\u001b[1;32m      4\u001b[0m \u001b[0;34m\u001b[0m\u001b[0m\n\u001b[0;32m----> 5\u001b[0;31m \u001b[0;32mfrom\u001b[0m \u001b[0msklearn\u001b[0m\u001b[0;34m.\u001b[0m\u001b[0mexternals\u001b[0m \u001b[0;32mimport\u001b[0m \u001b[0mjoblib\u001b[0m\u001b[0;34m\u001b[0m\u001b[0;34m\u001b[0m\u001b[0m\n\u001b[0m\u001b[1;32m      6\u001b[0m \u001b[0;34m\u001b[0m\u001b[0m\n\u001b[1;32m      7\u001b[0m \u001b[0mjoblib\u001b[0m\u001b[0;34m.\u001b[0m\u001b[0mdump\u001b[0m\u001b[0;34m(\u001b[0m\u001b[0mmodel\u001b[0m\u001b[0;34m,\u001b[0m \u001b[0;34m'model_with_feature_selection_1.joblib'\u001b[0m\u001b[0;34m)\u001b[0m\u001b[0;34m\u001b[0m\u001b[0;34m\u001b[0m\u001b[0m\n",
      "\u001b[0;31mImportError\u001b[0m: cannot import name 'joblib' from 'sklearn.externals' (/home/analyst/.local/lib/python3.8/site-packages/sklearn/externals/__init__.py)"
     ]
    }
   ],
   "source": [
    "# =============================================================================\n",
    "# Dumping Model\n",
    "# =============================================================================\n",
    "\n",
    "import joblib\n",
    "\n",
    "joblib.dump(model, 'model_with_feature_selection_1.joblib')"
   ]
  },
  {
   "cell_type": "markdown",
   "metadata": {
    "slideshow": {
     "slide_type": "slide"
    }
   },
   "source": [
    "### Feature Extraction: Select From Models\n",
    "----"
   ]
  },
  {
   "cell_type": "code",
   "execution_count": null,
   "metadata": {
    "slideshow": {
     "slide_type": "subslide"
    }
   },
   "outputs": [],
   "source": [
    "#!/usr/bin/env python3\n",
    "# -*- coding: utf-8 -*-\n",
    "\"\"\"\n",
    "Created on Fri Oct  5 13:40:11 2018\n",
    "\n",
    "@author: RaviPandey\n",
    "\"\"\"\n",
    "\n",
    "# =============================================================================\n",
    "# Importing Libraries\n",
    "# =============================================================================\n",
    "\n",
    "import numpy as np\n",
    "import pandas as pd\n",
    "\n",
    "\n",
    "# =============================================================================\n",
    "# Loading and Exploring data\n",
    "# =============================================================================\n",
    "\n",
    "df = pd.read_csv('../data/loan.csv')\n",
    "\n",
    "df = df.loc[ 0:10000, ['loan_amnt', 'int_rate', 'annual_inc', 'inq_last_6mths', \n",
    "                   'open_acc', 'revol_bal', 'revol_util', 'total_acc', 'dti',\n",
    "                   'term', 'grade', 'home_ownership', 'verification_status',\n",
    "                        'purpose', 'delinq_2yrs', 'loan_status']]\n"
   ]
  },
  {
   "cell_type": "code",
   "execution_count": null,
   "metadata": {
    "slideshow": {
     "slide_type": "subslide"
    }
   },
   "outputs": [],
   "source": [
    "# dimension of the dataframe\n",
    "df.shape\n",
    "\n",
    "# Exploring column names\n",
    "df.columns\n",
    "\n",
    "# Exploring first few records\n",
    "df.head()\n",
    "\n",
    "# Getting summarized information\n",
    "df.info()\n"
   ]
  },
  {
   "cell_type": "code",
   "execution_count": null,
   "metadata": {
    "slideshow": {
     "slide_type": "subslide"
    }
   },
   "outputs": [],
   "source": [
    "\n",
    "\n",
    "numeric_features = ['loan_amnt', 'int_rate', 'annual_inc', 'inq_last_6mths', \n",
    "                   'open_acc', 'revol_bal', 'revol_util', 'total_acc', 'dti']\n",
    "\n",
    "categorical_features = ['term', 'grade', 'home_ownership', 'verification_status',\n",
    "                        'purpose', 'delinq_2yrs']\n",
    "\n",
    "\n",
    "\n",
    "\n",
    "\n",
    "\n"
   ]
  },
  {
   "cell_type": "code",
   "execution_count": null,
   "metadata": {
    "slideshow": {
     "slide_type": "subslide"
    }
   },
   "outputs": [],
   "source": [
    "# =============================================================================\n",
    "# Applying Transformation to numeric variable\n",
    "# =============================================================================\n",
    "\n",
    "\n",
    "# Imputer - missing Value\n",
    "# StandardScaler\n",
    "# MaxAbsScaler\n",
    "# MinMaxScaler\n",
    "# QuantileTransformers - Uniform Distribution\n",
    "# PowerTransformer - Gaussian Distrbution\n",
    "# Normalizer\n",
    "# FunctionTransformer - Custom Transformer\n",
    "\n",
    "from sklearn.pipeline import Pipeline\n",
    "from sklearn.impute import SimpleImputer\n",
    "from sklearn.preprocessing import FunctionTransformer\n",
    "\n",
    "\n",
    "numeric_transformer = Pipeline(steps=[\n",
    "        ('imputer', SimpleImputer(missing_values=np.nan, strategy='median')),\n",
    "        ('log_transformer', FunctionTransformer(np.sqrt))])\n"
   ]
  },
  {
   "cell_type": "code",
   "execution_count": null,
   "metadata": {
    "slideshow": {
     "slide_type": "subslide"
    }
   },
   "outputs": [],
   "source": [
    "# =============================================================================\n",
    "# Applying transformation to Categorical Variable\n",
    "# =============================================================================\n",
    "\n",
    "\n",
    "from sklearn.preprocessing import OneHotEncoder\n",
    "   \n",
    "categorical_transformer = Pipeline(steps=[\n",
    "        ('imputer', SimpleImputer(missing_values=np.nan, strategy='most_frequent')),\n",
    "        ('onehot' , OneHotEncoder(sparse=False))])\n"
   ]
  },
  {
   "cell_type": "code",
   "execution_count": null,
   "metadata": {
    "slideshow": {
     "slide_type": "subslide"
    }
   },
   "outputs": [],
   "source": [
    "# =============================================================================\n",
    "# Creating Preprocessor\n",
    "# =============================================================================\n",
    "\n",
    "from sklearn.compose import ColumnTransformer\n",
    "    \n",
    "preprocessor = ColumnTransformer(\n",
    "    transformers=[\n",
    "        ('num', numeric_transformer, numeric_features),\n",
    "        ('cat', categorical_transformer, categorical_features)])\n"
   ]
  },
  {
   "cell_type": "code",
   "execution_count": null,
   "metadata": {
    "slideshow": {
     "slide_type": "subslide"
    }
   },
   "outputs": [],
   "source": [
    "# =============================================================================\n",
    "# Feature Selection - Select from models\n",
    "# =============================================================================\n",
    "\n",
    "from sklearn import linear_model\n",
    "reg = linear_model.Lasso(alpha = 0.1)\n",
    "\n",
    "from sklearn.feature_selection import SelectFromModel\n"
   ]
  },
  {
   "cell_type": "code",
   "execution_count": null,
   "metadata": {
    "slideshow": {
     "slide_type": "fragment"
    }
   },
   "outputs": [],
   "source": [
    "# =============================================================================\n",
    "# Model with feature selection\n",
    "# =============================================================================\n",
    "\n",
    "from sklearn.linear_model import LogisticRegression\n",
    "    \n",
    "model = Pipeline(steps=[\n",
    "        ('preprocess', preprocessor),\n",
    "        ('feature_selection', SelectFromModel(reg) ),\n",
    "        ('lr_model', LogisticRegression())])\n"
   ]
  },
  {
   "cell_type": "code",
   "execution_count": null,
   "metadata": {
    "slideshow": {
     "slide_type": "subslide"
    }
   },
   "outputs": [],
   "source": [
    "# =============================================================================\n",
    "# Applying Model\n",
    "# =============================================================================\n",
    "\n",
    "\n",
    "\n",
    "X = df.drop('loan_status', axis=1)\n",
    "X = X.iloc[1:1000, :]\n",
    "y = np.where(df['loan_status'].isin(['Charged Off', 'Default']), 1, 0)\n",
    "y = y[1:1000]\n"
   ]
  },
  {
   "cell_type": "code",
   "execution_count": null,
   "metadata": {
    "slideshow": {
     "slide_type": "fragment"
    }
   },
   "outputs": [],
   "source": [
    "def file_modify(dataset):\n",
    "    print(\"Start\")\n",
    "    dataset['home_ownership'] = np.where(\n",
    "            dataset.home_ownership.isin(['NONE', 'ANY']), 'MORTGAGE', \n",
    "            dataset.home_ownership)\n",
    "    dataset['purpose'] = np.where(\n",
    "            dataset.purpose.isin(['debt_consolidation', 'credit_card', 'home_improvement']), \n",
    "            dataset.purpose, \n",
    "            'other')\n",
    "    dataset['delinq_2yrs'] = np.where(\n",
    "            dataset.delinq_2yrs > 0, 1, 0 )\n",
    "    return dataset\n"
   ]
  },
  {
   "cell_type": "code",
   "execution_count": null,
   "metadata": {
    "slideshow": {
     "slide_type": "subslide"
    }
   },
   "outputs": [],
   "source": [
    "X = file_modify(X)\n",
    "\n",
    "model.fit(X, y)\n",
    "\n",
    "pred = model.predict(X)\n"
   ]
  },
  {
   "cell_type": "code",
   "execution_count": null,
   "metadata": {
    "slideshow": {
     "slide_type": "fragment"
    }
   },
   "outputs": [],
   "source": [
    "# =============================================================================\n",
    "# Dumping Model\n",
    "# =============================================================================\n",
    "\n",
    "\n",
    "import joblib\n",
    "\n",
    "joblib.dump(model, 'model_with_feature_selection_2.joblib')\n"
   ]
  },
  {
   "cell_type": "markdown",
   "metadata": {
    "slideshow": {
     "slide_type": "slide"
    }
   },
   "source": [
    "### Adding Another Feature Extraction\n",
    "----\n",
    "* PCA - Dimensionality Reduction"
   ]
  },
  {
   "cell_type": "code",
   "execution_count": null,
   "metadata": {
    "slideshow": {
     "slide_type": "subslide"
    }
   },
   "outputs": [],
   "source": [
    "#!/usr/bin/env python3\n",
    "# -*- coding: utf-8 -*-\n",
    "\"\"\"\n",
    "Created on Fri Oct  5 13:40:11 2018\n",
    "\n",
    "@author: RaviPandey\n",
    "\"\"\"\n",
    "\n",
    "# =============================================================================\n",
    "# Importing Libraries\n",
    "# =============================================================================\n",
    "\n",
    "import numpy as np\n",
    "import pandas as pd"
   ]
  },
  {
   "cell_type": "code",
   "execution_count": null,
   "metadata": {
    "slideshow": {
     "slide_type": "subslide"
    }
   },
   "outputs": [],
   "source": [
    "# =============================================================================\n",
    "# Loading and Exploring data\n",
    "# =============================================================================\n",
    "\n",
    "df = pd.read_csv('../data/loan.csv')\n",
    "\n",
    "df = df.loc[ 0:9999, ['loan_amnt', 'int_rate', 'annual_inc', 'inq_last_6mths', \n",
    "                   'open_acc', 'revol_bal', 'revol_util', 'total_acc', 'dti',\n",
    "                   'term', 'grade', 'home_ownership', 'verification_status',\n",
    "                        'purpose', 'delinq_2yrs', 'loan_status']]\n"
   ]
  },
  {
   "cell_type": "code",
   "execution_count": null,
   "metadata": {
    "slideshow": {
     "slide_type": "subslide"
    }
   },
   "outputs": [],
   "source": [
    "# dimension of the dataframe\n",
    "df.shape"
   ]
  },
  {
   "cell_type": "code",
   "execution_count": null,
   "metadata": {
    "slideshow": {
     "slide_type": "fragment"
    }
   },
   "outputs": [],
   "source": [
    "# Exploring column names\n",
    "df.columns\n"
   ]
  },
  {
   "cell_type": "code",
   "execution_count": null,
   "metadata": {
    "slideshow": {
     "slide_type": "fragment"
    }
   },
   "outputs": [],
   "source": [
    "# Exploring first few records\n",
    "df.head()\n"
   ]
  },
  {
   "cell_type": "code",
   "execution_count": null,
   "metadata": {
    "slideshow": {
     "slide_type": "subslide"
    }
   },
   "outputs": [],
   "source": [
    "# Getting summarized information\n",
    "df.info()\n",
    "\n",
    "numeric_features = ['loan_amnt', 'int_rate', 'annual_inc', 'inq_last_6mths', \n",
    "                   'open_acc', 'revol_bal', 'revol_util', 'total_acc', 'dti']\n",
    "\n",
    "categorical_features = ['term', 'grade', 'home_ownership', 'verification_status',\n",
    "                        'purpose', 'delinq_2yrs']\n"
   ]
  },
  {
   "cell_type": "code",
   "execution_count": null,
   "metadata": {
    "slideshow": {
     "slide_type": "subslide"
    }
   },
   "outputs": [],
   "source": [
    "# =============================================================================\n",
    "# Applying Transformation to numeric variable\n",
    "# =============================================================================\n",
    "\n",
    "\n",
    "# Imputer - missing Value\n",
    "# StandardScaler\n",
    "# MaxAbsScaler\n",
    "# MinMaxScaler\n",
    "# QuantileTransformers - Uniform Distribution\n",
    "# PowerTransformer - Gaussian Distrbution\n",
    "# Normalizer\n",
    "# FunctionTransformer - Custom Transformer\n",
    "\n",
    "from sklearn.pipeline import Pipeline\n",
    "from sklearn.impute import SimpleImputer\n",
    "from sklearn.preprocessing import FunctionTransformer\n",
    "from sklearn.preprocessing import StandardScaler\n",
    "\n",
    "\n",
    "numeric_transformer = Pipeline(steps=[\n",
    "        ('imputer', SimpleImputer(missing_values=np.nan, strategy='median'))])\n"
   ]
  },
  {
   "cell_type": "code",
   "execution_count": null,
   "metadata": {
    "slideshow": {
     "slide_type": "subslide"
    }
   },
   "outputs": [],
   "source": [
    "# =============================================================================\n",
    "# Applying transformation to Categorical Variable\n",
    "# =============================================================================\n",
    "\n",
    "\n",
    "from sklearn.preprocessing import OneHotEncoder\n",
    "   \n",
    "categorical_transformer = Pipeline(steps=[\n",
    "        ('imputer', SimpleImputer(missing_values=np.nan, strategy='most_frequent')),\n",
    "        ('onehot' , OneHotEncoder(sparse=False))])\n"
   ]
  },
  {
   "cell_type": "code",
   "execution_count": null,
   "metadata": {
    "slideshow": {
     "slide_type": "subslide"
    }
   },
   "outputs": [],
   "source": [
    "# =============================================================================\n",
    "# Creating Preprocessor\n",
    "# =============================================================================\n",
    "\n",
    "from sklearn.compose import ColumnTransformer\n",
    "    \n",
    "preprocessor = ColumnTransformer(\n",
    "    transformers=[\n",
    "        ('num', numeric_transformer, numeric_features),\n",
    "        ('cat', categorical_transformer, categorical_features)])\n",
    "\n"
   ]
  },
  {
   "cell_type": "code",
   "execution_count": null,
   "metadata": {
    "slideshow": {
     "slide_type": "subslide"
    }
   },
   "outputs": [],
   "source": [
    "# =============================================================================\n",
    "# Dimensionality Reduction - PCA\n",
    "# =============================================================================\n",
    "\n",
    "from sklearn.decomposition import PCA\n",
    "\n",
    "pca_model = PCA(n_components=3)\n"
   ]
  },
  {
   "cell_type": "code",
   "execution_count": null,
   "metadata": {
    "slideshow": {
     "slide_type": "subslide"
    }
   },
   "outputs": [],
   "source": [
    "# =============================================================================\n",
    "# Model with feature selection\n",
    "# =============================================================================\n",
    "\n",
    "from sklearn.linear_model import LogisticRegression\n",
    "    \n",
    "model = Pipeline(steps=[\n",
    "        ('preprocess', preprocessor),\n",
    "        ('scaling', StandardScaler()),\n",
    "        ('feature_selection', pca_model ),\n",
    "        ('lr_model', LogisticRegression())])\n"
   ]
  },
  {
   "cell_type": "code",
   "execution_count": null,
   "metadata": {
    "slideshow": {
     "slide_type": "subslide"
    }
   },
   "outputs": [],
   "source": [
    "# =============================================================================\n",
    "# Applying Model\n",
    "# =============================================================================\n",
    "X = df.drop('loan_status', axis=1)\n",
    "X = X.iloc[1:1000, :]\n",
    "y = np.where(df['loan_status'].isin(['Charged Off', 'Default']), 1, 0)\n",
    "y = y[1:1000]\n",
    "\n",
    "def file_modify(dataset):\n",
    "    print(\"Start\")\n",
    "    dataset['home_ownership'] = np.where(\n",
    "            dataset.home_ownership.isin(['NONE', 'ANY']), 'MORTGAGE', \n",
    "            dataset.home_ownership)\n",
    "    dataset['purpose'] = np.where(\n",
    "            dataset.purpose.isin(['debt_consolidation', 'credit_card', 'home_improvement']), \n",
    "            dataset.purpose, \n",
    "            'other')\n",
    "    dataset['delinq_2yrs'] = np.where(\n",
    "            dataset.delinq_2yrs > 0, 1, 0 )\n",
    "    return dataset\n"
   ]
  },
  {
   "cell_type": "code",
   "execution_count": null,
   "metadata": {
    "slideshow": {
     "slide_type": "subslide"
    }
   },
   "outputs": [],
   "source": [
    "X = file_modify(X)\n"
   ]
  },
  {
   "cell_type": "code",
   "execution_count": null,
   "metadata": {
    "slideshow": {
     "slide_type": "fragment"
    }
   },
   "outputs": [],
   "source": [
    "model.fit(X, y)\n"
   ]
  },
  {
   "cell_type": "code",
   "execution_count": null,
   "metadata": {
    "slideshow": {
     "slide_type": "subslide"
    }
   },
   "outputs": [],
   "source": [
    "pred = model.predict(X)\n"
   ]
  },
  {
   "cell_type": "code",
   "execution_count": null,
   "metadata": {
    "slideshow": {
     "slide_type": "fragment"
    }
   },
   "outputs": [],
   "source": [
    "# =============================================================================\n",
    "# Dumping Model\n",
    "# =============================================================================\n",
    "\n",
    "\n",
    "import joblib\n",
    "\n",
    "joblib.dump(model, 'model_with_feature_selection_3.joblib')\n"
   ]
  },
  {
   "cell_type": "code",
   "execution_count": null,
   "metadata": {},
   "outputs": [],
   "source": []
  }
 ],
 "metadata": {
  "celltoolbar": "Slideshow",
  "kernelspec": {
   "display_name": "Python 3",
   "language": "python",
   "name": "python3"
  },
  "language_info": {
   "codemirror_mode": {
    "name": "ipython",
    "version": 3
   },
   "file_extension": ".py",
   "mimetype": "text/x-python",
   "name": "python",
   "nbconvert_exporter": "python",
   "pygments_lexer": "ipython3",
   "version": "3.8.5"
  }
 },
 "nbformat": 4,
 "nbformat_minor": 2
}
